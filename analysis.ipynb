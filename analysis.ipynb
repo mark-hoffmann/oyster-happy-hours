{
 "cells": [
  {
   "cell_type": "code",
   "execution_count": 91,
   "metadata": {},
   "outputs": [],
   "source": [
    "import pandas as pd\n",
    "import lxml\n"
   ]
  },
  {
   "cell_type": "markdown",
   "metadata": {},
   "source": [
    "## Reading our Notion Database Export"
   ]
  },
  {
   "cell_type": "code",
   "execution_count": 135,
   "metadata": {},
   "outputs": [
    {
     "data": {
      "text/html": [
       "<div>\n",
       "<style scoped>\n",
       "    .dataframe tbody tr th:only-of-type {\n",
       "        vertical-align: middle;\n",
       "    }\n",
       "\n",
       "    .dataframe tbody tr th {\n",
       "        vertical-align: top;\n",
       "    }\n",
       "\n",
       "    .dataframe thead th {\n",
       "        text-align: right;\n",
       "    }\n",
       "</style>\n",
       "<table border=\"1\" class=\"dataframe\">\n",
       "  <thead>\n",
       "    <tr style=\"text-align: right;\">\n",
       "      <th></th>\n",
       "      <th>Name</th>\n",
       "      <th>Time</th>\n",
       "      <th>Price per Oyster</th>\n",
       "      <th>Other Notable Specials</th>\n",
       "      <th>Location</th>\n",
       "      <th>Tags</th>\n",
       "      <th>Neighborhood</th>\n",
       "    </tr>\n",
       "  </thead>\n",
       "  <tbody>\n",
       "    <tr>\n",
       "      <th>0</th>\n",
       "      <td>Swift and Sons</td>\n",
       "      <td>M-F 4-6:30pm</td>\n",
       "      <td>1.25</td>\n",
       "      <td>$5 beers / $8 wine / $10 daily cocktails</td>\n",
       "      <td>1000 W Fulton Market, Chicago, IL 60607</td>\n",
       "      <td>Confirmed</td>\n",
       "      <td>West Loop</td>\n",
       "    </tr>\n",
       "    <tr>\n",
       "      <th>1</th>\n",
       "      <td>The Publican</td>\n",
       "      <td>M-F 4-6pm</td>\n",
       "      <td>2.00</td>\n",
       "      <td>Other appetizers and drink specials</td>\n",
       "      <td>837 W Fulton Market Chicago, IL 60607</td>\n",
       "      <td>Confirmed</td>\n",
       "      <td>West Loop</td>\n",
       "    </tr>\n",
       "    <tr>\n",
       "      <th>2</th>\n",
       "      <td>Prime &amp; Provisions</td>\n",
       "      <td>M-F 4-6pm</td>\n",
       "      <td>1.00</td>\n",
       "      <td>NaN</td>\n",
       "      <td>222 N LaSalle St Chicago, IL 60601</td>\n",
       "      <td>Confirmed</td>\n",
       "      <td>Loop</td>\n",
       "    </tr>\n",
       "    <tr>\n",
       "      <th>3</th>\n",
       "      <td>Fisk &amp; Co.</td>\n",
       "      <td>M-Thurs 4-6pm</td>\n",
       "      <td>2.00</td>\n",
       "      <td>$6 glasses of wine / Maximum 24 oysters per pe...</td>\n",
       "      <td>225 N Wabash Ave Chicago, IL 60601</td>\n",
       "      <td>Confirmed</td>\n",
       "      <td>Loop</td>\n",
       "    </tr>\n",
       "    <tr>\n",
       "      <th>4</th>\n",
       "      <td>Venteux Brasserie, Cafe &amp; Oyster Bar</td>\n",
       "      <td>Tues-Fri. 4-6pm.</td>\n",
       "      <td>1.00</td>\n",
       "      <td>NaN</td>\n",
       "      <td>224 N Michigan Ave Chicago, IL 60601</td>\n",
       "      <td>Confirmed</td>\n",
       "      <td>Loop</td>\n",
       "    </tr>\n",
       "  </tbody>\n",
       "</table>\n",
       "</div>"
      ],
      "text/plain": [
       "                                   Name              Time  Price per Oyster  \\\n",
       "0                        Swift and Sons      M-F 4-6:30pm              1.25   \n",
       "1                          The Publican         M-F 4-6pm              2.00   \n",
       "2                    Prime & Provisions         M-F 4-6pm              1.00   \n",
       "3                            Fisk & Co.     M-Thurs 4-6pm              2.00   \n",
       "4  Venteux Brasserie, Cafe & Oyster Bar  Tues-Fri. 4-6pm.              1.00   \n",
       "\n",
       "                              Other Notable Specials  \\\n",
       "0           $5 beers / $8 wine / $10 daily cocktails   \n",
       "1                Other appetizers and drink specials   \n",
       "2                                                NaN   \n",
       "3  $6 glasses of wine / Maximum 24 oysters per pe...   \n",
       "4                                                NaN   \n",
       "\n",
       "                                  Location       Tags Neighborhood  \n",
       "0  1000 W Fulton Market, Chicago, IL 60607  Confirmed    West Loop  \n",
       "1    837 W Fulton Market Chicago, IL 60607  Confirmed    West Loop  \n",
       "2       222 N LaSalle St Chicago, IL 60601  Confirmed         Loop  \n",
       "3       225 N Wabash Ave Chicago, IL 60601  Confirmed         Loop  \n",
       "4     224 N Michigan Ave Chicago, IL 60601  Confirmed         Loop  "
      ]
     },
     "execution_count": 135,
     "metadata": {},
     "output_type": "execute_result"
    }
   ],
   "source": [
    "df = pd.read_html('data/Chicago Oy 2d952.html')[0]\n",
    "df = df[df['Tags'] == 'Confirmed'].reset_index(drop=True)\n",
    "df.head()"
   ]
  },
  {
   "cell_type": "markdown",
   "metadata": {},
   "source": [
    "## Creating a Distance Matrix\n",
    "\n",
    "We are particularly interested in distance from one location to another. I am planning on taking a Lyft to these locations nad exploring on foot since most of the happy hour specials also include alcohol and better to be safe than sorry. Because of this, we will need to find the walking distances from each location to each other one. For this we can use the Google Distance Matrix API to get our distance grid in walking minutes from each location to each other location."
   ]
  },
  {
   "cell_type": "code",
   "execution_count": 109,
   "metadata": {},
   "outputs": [],
   "source": [
    "import googlemaps\n",
    "import dotenv\n",
    "import os"
   ]
  },
  {
   "cell_type": "code",
   "execution_count": 110,
   "metadata": {},
   "outputs": [
    {
     "data": {
      "text/plain": [
       "True"
      ]
     },
     "execution_count": 110,
     "metadata": {},
     "output_type": "execute_result"
    }
   ],
   "source": [
    "dotenv.load_dotenv('.env')"
   ]
  },
  {
   "cell_type": "code",
   "execution_count": 111,
   "metadata": {},
   "outputs": [],
   "source": [
    "gmaps = googlemaps.Client(key=os.getenv('GOOGLE_API_KEY'))"
   ]
  },
  {
   "cell_type": "markdown",
   "metadata": {},
   "source": [
    "After some tinkering it turns out that even though the **Distance Matrix API** limit for *origins* and *destinations* is 15 each, there is also a limit on the number of total calls, which is 100. Because of this your *origin x destination* matrix cannot exceed 100 elements...... A little annoying, but nothing some Python code cannot fix.\n",
    "\n",
    "Below I've implemented a **ScalableDistanceMatrix** class that keeps track of our larger matrix and breaks down into the optimal number of API calls by minimizing our requests. If we treat our larger matrix as wanting to find walking distance between every location to one another, we just iterate through each row with the offset of our **MAX_LOCATIONS** value, which in this case is set to 10."
   ]
  },
  {
   "cell_type": "code",
   "execution_count": 112,
   "metadata": {},
   "outputs": [],
   "source": [
    "class ScalableDistanceMatrix:\n",
    "\n",
    "    MAX_LOCATIONS = 10\n",
    "\n",
    "    def __init__(self, client: googlemaps.Client, locations: list, destinations: list, mode='walking') -> None:\n",
    "        self.client = client\n",
    "        self.origins = locations\n",
    "        self.destinations = locations\n",
    "        self.mode = mode\n",
    "        self.matrix = None\n",
    "    \n",
    "    def get_matrix(self) -> pd.DataFrame:\n",
    "        if self.matrix is None:\n",
    "            self._get_matrix()\n",
    "        return self.matrix\n",
    "\n",
    "    def _get_sub_matrices(self) -> list:\n",
    "        out = []\n",
    "        for row in range(0, (len(self.origins) - 1) // self.MAX_LOCATIONS + 1):\n",
    "            for col in range(0, (len(self.destinations) - 1) // self.MAX_LOCATIONS + 1):\n",
    "                # row and col are the indices of our larger matrix calls\n",
    "                origins = self.origins[row*self.MAX_LOCATIONS:row*self.MAX_LOCATIONS + self.MAX_LOCATIONS]\n",
    "                destinations = self.destinations[col*self.MAX_LOCATIONS:col*self.MAX_LOCATIONS + self.MAX_LOCATIONS]\n",
    "                out.append((origins, destinations))\n",
    "        return out\n",
    "\n",
    "           \n",
    "    def _get_matrix(self) -> None:\n",
    "        self.matrix = pd.DataFrame(index = self.origins, columns = self.destinations)\n",
    "\n",
    "        for sub_origins, sub_destinations in self._get_sub_matrices():\n",
    "            matrix = self.client.distance_matrix(sub_origins, sub_destinations, mode=self.mode)\n",
    "            for i, origin in enumerate(sub_origins):\n",
    "                for j, destination in enumerate(sub_destinations):\n",
    "                    self.matrix.loc[origin, destination] = matrix['rows'][i]['elements'][j]['duration']['value']\n",
    "        \n",
    "        return\n"
   ]
  },
  {
   "cell_type": "code",
   "execution_count": 113,
   "metadata": {},
   "outputs": [],
   "source": [
    "client_walking = ScalableDistanceMatrix(gmaps, df['Location'].to_list(), df['Location'].to_list(), mode='walking')\n",
    "client_driving = ScalableDistanceMatrix(gmaps, df['Location'].to_list(), df['Location'].to_list(), mode='driving')"
   ]
  },
  {
   "cell_type": "code",
   "execution_count": 114,
   "metadata": {},
   "outputs": [],
   "source": [
    "df_res_walk = client_walking.get_matrix()\n",
    "df_res_drive = client_driving.get_matrix()"
   ]
  },
  {
   "cell_type": "markdown",
   "metadata": {},
   "source": [
    "Our response comes back in seconds, so for helping human reading, we can do a quick view of looking at it in terms of minutes."
   ]
  },
  {
   "cell_type": "code",
   "execution_count": 115,
   "metadata": {},
   "outputs": [
    {
     "data": {
      "text/html": [
       "<div>\n",
       "<style scoped>\n",
       "    .dataframe tbody tr th:only-of-type {\n",
       "        vertical-align: middle;\n",
       "    }\n",
       "\n",
       "    .dataframe tbody tr th {\n",
       "        vertical-align: top;\n",
       "    }\n",
       "\n",
       "    .dataframe thead th {\n",
       "        text-align: right;\n",
       "    }\n",
       "</style>\n",
       "<table border=\"1\" class=\"dataframe\">\n",
       "  <thead>\n",
       "    <tr style=\"text-align: right;\">\n",
       "      <th></th>\n",
       "      <th>1000 W Fulton Market, Chicago, IL 60607</th>\n",
       "      <th>837 W Fulton Market Chicago, IL 60607</th>\n",
       "      <th>222 N LaSalle St Chicago, IL 60601</th>\n",
       "      <th>225 N Wabash Ave Chicago, IL 60601</th>\n",
       "      <th>224 N Michigan Ave Chicago, IL 60601</th>\n",
       "      <th>350 N State St Chicago, IL 60654</th>\n",
       "      <th>400 N Clark St Chicago, IL 60654</th>\n",
       "      <th>In the alley behind Frontera Grill, 443 N Clark St Chicago, IL 60654</th>\n",
       "      <th>60 E Grand Ave Chicago, IL 60611</th>\n",
       "      <th>875 N Michigan Ave Chicago, IL 60610</th>\n",
       "      <th>2033 W North Ave Chicago, IL 60647</th>\n",
       "      <th>2125 W Division Chicago, IL 60622</th>\n",
       "      <th>2700 W Chicago Ave Chicago, IL 60622</th>\n",
       "    </tr>\n",
       "  </thead>\n",
       "  <tbody>\n",
       "    <tr>\n",
       "      <th>1000 W Fulton Market, Chicago, IL 60607</th>\n",
       "      <td>0.0</td>\n",
       "      <td>4.366667</td>\n",
       "      <td>23.633333</td>\n",
       "      <td>31.25</td>\n",
       "      <td>32.8</td>\n",
       "      <td>30.416667</td>\n",
       "      <td>26.866667</td>\n",
       "      <td>28.433333</td>\n",
       "      <td>35.7</td>\n",
       "      <td>47.733333</td>\n",
       "      <td>50.016667</td>\n",
       "      <td>48.716667</td>\n",
       "      <td>53.533333</td>\n",
       "    </tr>\n",
       "    <tr>\n",
       "      <th>837 W Fulton Market Chicago, IL 60607</th>\n",
       "      <td>4.333333</td>\n",
       "      <td>0.0</td>\n",
       "      <td>19.466667</td>\n",
       "      <td>27.083333</td>\n",
       "      <td>28.633333</td>\n",
       "      <td>26.383333</td>\n",
       "      <td>22.833333</td>\n",
       "      <td>24.4</td>\n",
       "      <td>31.75</td>\n",
       "      <td>43.7</td>\n",
       "      <td>49.416667</td>\n",
       "      <td>48.116667</td>\n",
       "      <td>57.8</td>\n",
       "    </tr>\n",
       "    <tr>\n",
       "      <th>222 N LaSalle St Chicago, IL 60601</th>\n",
       "      <td>23.383333</td>\n",
       "      <td>19.233333</td>\n",
       "      <td>0.0</td>\n",
       "      <td>8.25</td>\n",
       "      <td>9.8</td>\n",
       "      <td>8.65</td>\n",
       "      <td>6.116667</td>\n",
       "      <td>7.666667</td>\n",
       "      <td>15.55</td>\n",
       "      <td>26.583333</td>\n",
       "      <td>64.2</td>\n",
       "      <td>62.9</td>\n",
       "      <td>72.783333</td>\n",
       "    </tr>\n",
       "    <tr>\n",
       "      <th>225 N Wabash Ave Chicago, IL 60601</th>\n",
       "      <td>30.966667</td>\n",
       "      <td>26.833333</td>\n",
       "      <td>8.233333</td>\n",
       "      <td>0.0</td>\n",
       "      <td>2.55</td>\n",
       "      <td>6.35</td>\n",
       "      <td>9.933333</td>\n",
       "      <td>11.2</td>\n",
       "      <td>9.183333</td>\n",
       "      <td>19.75</td>\n",
       "      <td>71.783333</td>\n",
       "      <td>70.483333</td>\n",
       "      <td>80.383333</td>\n",
       "    </tr>\n",
       "    <tr>\n",
       "      <th>224 N Michigan Ave Chicago, IL 60601</th>\n",
       "      <td>32.483333</td>\n",
       "      <td>28.333333</td>\n",
       "      <td>9.733333</td>\n",
       "      <td>2.5</td>\n",
       "      <td>0.0</td>\n",
       "      <td>7.6</td>\n",
       "      <td>11.45</td>\n",
       "      <td>12.7</td>\n",
       "      <td>9.433333</td>\n",
       "      <td>18.683333</td>\n",
       "      <td>73.3</td>\n",
       "      <td>72.0</td>\n",
       "      <td>81.883333</td>\n",
       "    </tr>\n",
       "    <tr>\n",
       "      <th>350 N State St Chicago, IL 60654</th>\n",
       "      <td>30.133333</td>\n",
       "      <td>26.133333</td>\n",
       "      <td>8.633333</td>\n",
       "      <td>6.383333</td>\n",
       "      <td>7.616667</td>\n",
       "      <td>0.0</td>\n",
       "      <td>4.266667</td>\n",
       "      <td>5.5</td>\n",
       "      <td>6.85</td>\n",
       "      <td>18.683333</td>\n",
       "      <td>66.2</td>\n",
       "      <td>64.9</td>\n",
       "      <td>74.8</td>\n",
       "    </tr>\n",
       "    <tr>\n",
       "      <th>400 N Clark St Chicago, IL 60654</th>\n",
       "      <td>26.733333</td>\n",
       "      <td>22.733333</td>\n",
       "      <td>6.183333</td>\n",
       "      <td>10.016667</td>\n",
       "      <td>11.566667</td>\n",
       "      <td>4.4</td>\n",
       "      <td>0.0</td>\n",
       "      <td>1.566667</td>\n",
       "      <td>9.266667</td>\n",
       "      <td>21.2</td>\n",
       "      <td>62.8</td>\n",
       "      <td>61.5</td>\n",
       "      <td>71.4</td>\n",
       "    </tr>\n",
       "    <tr>\n",
       "      <th>In the alley behind Frontera Grill, 443 N Clark St Chicago, IL 60654</th>\n",
       "      <td>28.383333</td>\n",
       "      <td>24.383333</td>\n",
       "      <td>7.85</td>\n",
       "      <td>11.366667</td>\n",
       "      <td>12.916667</td>\n",
       "      <td>5.733333</td>\n",
       "      <td>1.65</td>\n",
       "      <td>0.0</td>\n",
       "      <td>7.7</td>\n",
       "      <td>19.75</td>\n",
       "      <td>62.933333</td>\n",
       "      <td>61.633333</td>\n",
       "      <td>71.55</td>\n",
       "    </tr>\n",
       "    <tr>\n",
       "      <th>60 E Grand Ave Chicago, IL 60611</th>\n",
       "      <td>35.683333</td>\n",
       "      <td>31.75</td>\n",
       "      <td>15.716667</td>\n",
       "      <td>9.433333</td>\n",
       "      <td>9.5</td>\n",
       "      <td>7.066667</td>\n",
       "      <td>9.4</td>\n",
       "      <td>7.733333</td>\n",
       "      <td>0.0</td>\n",
       "      <td>12.4</td>\n",
       "      <td>67.283333</td>\n",
       "      <td>65.983333</td>\n",
       "      <td>75.9</td>\n",
       "    </tr>\n",
       "    <tr>\n",
       "      <th>875 N Michigan Ave Chicago, IL 60610</th>\n",
       "      <td>47.7</td>\n",
       "      <td>43.7</td>\n",
       "      <td>26.766667</td>\n",
       "      <td>19.95</td>\n",
       "      <td>18.916667</td>\n",
       "      <td>19.516667</td>\n",
       "      <td>21.733333</td>\n",
       "      <td>20.083333</td>\n",
       "      <td>12.666667</td>\n",
       "      <td>0.0</td>\n",
       "      <td>67.816667</td>\n",
       "      <td>66.516667</td>\n",
       "      <td>78.1</td>\n",
       "    </tr>\n",
       "    <tr>\n",
       "      <th>2033 W North Ave Chicago, IL 60647</th>\n",
       "      <td>49.983333</td>\n",
       "      <td>49.333333</td>\n",
       "      <td>64.383333</td>\n",
       "      <td>72.0</td>\n",
       "      <td>73.55</td>\n",
       "      <td>66.433333</td>\n",
       "      <td>62.9</td>\n",
       "      <td>62.316667</td>\n",
       "      <td>67.183333</td>\n",
       "      <td>68.05</td>\n",
       "      <td>0.0</td>\n",
       "      <td>12.383333</td>\n",
       "      <td>36.433333</td>\n",
       "    </tr>\n",
       "    <tr>\n",
       "      <th>2125 W Division Chicago, IL 60622</th>\n",
       "      <td>48.65</td>\n",
       "      <td>48.016667</td>\n",
       "      <td>63.066667</td>\n",
       "      <td>70.683333</td>\n",
       "      <td>72.216667</td>\n",
       "      <td>65.1</td>\n",
       "      <td>61.566667</td>\n",
       "      <td>61.0</td>\n",
       "      <td>65.85</td>\n",
       "      <td>66.716667</td>\n",
       "      <td>12.4</td>\n",
       "      <td>0.0</td>\n",
       "      <td>24.066667</td>\n",
       "    </tr>\n",
       "    <tr>\n",
       "      <th>2700 W Chicago Ave Chicago, IL 60622</th>\n",
       "      <td>53.5</td>\n",
       "      <td>57.8</td>\n",
       "      <td>72.8</td>\n",
       "      <td>80.416667</td>\n",
       "      <td>81.966667</td>\n",
       "      <td>74.85</td>\n",
       "      <td>71.3</td>\n",
       "      <td>70.766667</td>\n",
       "      <td>75.616667</td>\n",
       "      <td>77.833333</td>\n",
       "      <td>36.2</td>\n",
       "      <td>23.966667</td>\n",
       "      <td>0.0</td>\n",
       "    </tr>\n",
       "  </tbody>\n",
       "</table>\n",
       "</div>"
      ],
      "text/plain": [
       "                                                   1000 W Fulton Market, Chicago, IL 60607  \\\n",
       "1000 W Fulton Market, Chicago, IL 60607                                                0.0   \n",
       "837 W Fulton Market Chicago, IL 60607                                             4.333333   \n",
       "222 N LaSalle St Chicago, IL 60601                                               23.383333   \n",
       "225 N Wabash Ave Chicago, IL 60601                                               30.966667   \n",
       "224 N Michigan Ave Chicago, IL 60601                                             32.483333   \n",
       "350 N State St Chicago, IL 60654                                                 30.133333   \n",
       "400 N Clark St Chicago, IL 60654                                                 26.733333   \n",
       "In the alley behind Frontera Grill, 443 N Clark...                               28.383333   \n",
       "60 E Grand Ave Chicago, IL 60611                                                 35.683333   \n",
       "875 N Michigan Ave Chicago, IL 60610                                                  47.7   \n",
       "2033 W North Ave Chicago, IL 60647                                               49.983333   \n",
       "2125 W Division Chicago, IL 60622                                                    48.65   \n",
       "2700 W Chicago Ave Chicago, IL 60622                                                  53.5   \n",
       "\n",
       "                                                   837 W Fulton Market Chicago, IL 60607  \\\n",
       "1000 W Fulton Market, Chicago, IL 60607                                         4.366667   \n",
       "837 W Fulton Market Chicago, IL 60607                                                0.0   \n",
       "222 N LaSalle St Chicago, IL 60601                                             19.233333   \n",
       "225 N Wabash Ave Chicago, IL 60601                                             26.833333   \n",
       "224 N Michigan Ave Chicago, IL 60601                                           28.333333   \n",
       "350 N State St Chicago, IL 60654                                               26.133333   \n",
       "400 N Clark St Chicago, IL 60654                                               22.733333   \n",
       "In the alley behind Frontera Grill, 443 N Clark...                             24.383333   \n",
       "60 E Grand Ave Chicago, IL 60611                                                   31.75   \n",
       "875 N Michigan Ave Chicago, IL 60610                                                43.7   \n",
       "2033 W North Ave Chicago, IL 60647                                             49.333333   \n",
       "2125 W Division Chicago, IL 60622                                              48.016667   \n",
       "2700 W Chicago Ave Chicago, IL 60622                                                57.8   \n",
       "\n",
       "                                                   222 N LaSalle St Chicago, IL 60601  \\\n",
       "1000 W Fulton Market, Chicago, IL 60607                                     23.633333   \n",
       "837 W Fulton Market Chicago, IL 60607                                       19.466667   \n",
       "222 N LaSalle St Chicago, IL 60601                                                0.0   \n",
       "225 N Wabash Ave Chicago, IL 60601                                           8.233333   \n",
       "224 N Michigan Ave Chicago, IL 60601                                         9.733333   \n",
       "350 N State St Chicago, IL 60654                                             8.633333   \n",
       "400 N Clark St Chicago, IL 60654                                             6.183333   \n",
       "In the alley behind Frontera Grill, 443 N Clark...                               7.85   \n",
       "60 E Grand Ave Chicago, IL 60611                                            15.716667   \n",
       "875 N Michigan Ave Chicago, IL 60610                                        26.766667   \n",
       "2033 W North Ave Chicago, IL 60647                                          64.383333   \n",
       "2125 W Division Chicago, IL 60622                                           63.066667   \n",
       "2700 W Chicago Ave Chicago, IL 60622                                             72.8   \n",
       "\n",
       "                                                   225 N Wabash Ave Chicago, IL 60601  \\\n",
       "1000 W Fulton Market, Chicago, IL 60607                                         31.25   \n",
       "837 W Fulton Market Chicago, IL 60607                                       27.083333   \n",
       "222 N LaSalle St Chicago, IL 60601                                               8.25   \n",
       "225 N Wabash Ave Chicago, IL 60601                                                0.0   \n",
       "224 N Michigan Ave Chicago, IL 60601                                              2.5   \n",
       "350 N State St Chicago, IL 60654                                             6.383333   \n",
       "400 N Clark St Chicago, IL 60654                                            10.016667   \n",
       "In the alley behind Frontera Grill, 443 N Clark...                          11.366667   \n",
       "60 E Grand Ave Chicago, IL 60611                                             9.433333   \n",
       "875 N Michigan Ave Chicago, IL 60610                                            19.95   \n",
       "2033 W North Ave Chicago, IL 60647                                               72.0   \n",
       "2125 W Division Chicago, IL 60622                                           70.683333   \n",
       "2700 W Chicago Ave Chicago, IL 60622                                        80.416667   \n",
       "\n",
       "                                                   224 N Michigan Ave Chicago, IL 60601  \\\n",
       "1000 W Fulton Market, Chicago, IL 60607                                            32.8   \n",
       "837 W Fulton Market Chicago, IL 60607                                         28.633333   \n",
       "222 N LaSalle St Chicago, IL 60601                                                  9.8   \n",
       "225 N Wabash Ave Chicago, IL 60601                                                 2.55   \n",
       "224 N Michigan Ave Chicago, IL 60601                                                0.0   \n",
       "350 N State St Chicago, IL 60654                                               7.616667   \n",
       "400 N Clark St Chicago, IL 60654                                              11.566667   \n",
       "In the alley behind Frontera Grill, 443 N Clark...                            12.916667   \n",
       "60 E Grand Ave Chicago, IL 60611                                                    9.5   \n",
       "875 N Michigan Ave Chicago, IL 60610                                          18.916667   \n",
       "2033 W North Ave Chicago, IL 60647                                                73.55   \n",
       "2125 W Division Chicago, IL 60622                                             72.216667   \n",
       "2700 W Chicago Ave Chicago, IL 60622                                          81.966667   \n",
       "\n",
       "                                                   350 N State St Chicago, IL 60654  \\\n",
       "1000 W Fulton Market, Chicago, IL 60607                                   30.416667   \n",
       "837 W Fulton Market Chicago, IL 60607                                     26.383333   \n",
       "222 N LaSalle St Chicago, IL 60601                                             8.65   \n",
       "225 N Wabash Ave Chicago, IL 60601                                             6.35   \n",
       "224 N Michigan Ave Chicago, IL 60601                                            7.6   \n",
       "350 N State St Chicago, IL 60654                                                0.0   \n",
       "400 N Clark St Chicago, IL 60654                                                4.4   \n",
       "In the alley behind Frontera Grill, 443 N Clark...                         5.733333   \n",
       "60 E Grand Ave Chicago, IL 60611                                           7.066667   \n",
       "875 N Michigan Ave Chicago, IL 60610                                      19.516667   \n",
       "2033 W North Ave Chicago, IL 60647                                        66.433333   \n",
       "2125 W Division Chicago, IL 60622                                              65.1   \n",
       "2700 W Chicago Ave Chicago, IL 60622                                          74.85   \n",
       "\n",
       "                                                   400 N Clark St Chicago, IL 60654  \\\n",
       "1000 W Fulton Market, Chicago, IL 60607                                   26.866667   \n",
       "837 W Fulton Market Chicago, IL 60607                                     22.833333   \n",
       "222 N LaSalle St Chicago, IL 60601                                         6.116667   \n",
       "225 N Wabash Ave Chicago, IL 60601                                         9.933333   \n",
       "224 N Michigan Ave Chicago, IL 60601                                          11.45   \n",
       "350 N State St Chicago, IL 60654                                           4.266667   \n",
       "400 N Clark St Chicago, IL 60654                                                0.0   \n",
       "In the alley behind Frontera Grill, 443 N Clark...                             1.65   \n",
       "60 E Grand Ave Chicago, IL 60611                                                9.4   \n",
       "875 N Michigan Ave Chicago, IL 60610                                      21.733333   \n",
       "2033 W North Ave Chicago, IL 60647                                             62.9   \n",
       "2125 W Division Chicago, IL 60622                                         61.566667   \n",
       "2700 W Chicago Ave Chicago, IL 60622                                           71.3   \n",
       "\n",
       "                                                   In the alley behind Frontera Grill, 443 N Clark St Chicago, IL 60654  \\\n",
       "1000 W Fulton Market, Chicago, IL 60607                                                     28.433333                     \n",
       "837 W Fulton Market Chicago, IL 60607                                                            24.4                     \n",
       "222 N LaSalle St Chicago, IL 60601                                                           7.666667                     \n",
       "225 N Wabash Ave Chicago, IL 60601                                                               11.2                     \n",
       "224 N Michigan Ave Chicago, IL 60601                                                             12.7                     \n",
       "350 N State St Chicago, IL 60654                                                                  5.5                     \n",
       "400 N Clark St Chicago, IL 60654                                                             1.566667                     \n",
       "In the alley behind Frontera Grill, 443 N Clark...                                                0.0                     \n",
       "60 E Grand Ave Chicago, IL 60611                                                             7.733333                     \n",
       "875 N Michigan Ave Chicago, IL 60610                                                        20.083333                     \n",
       "2033 W North Ave Chicago, IL 60647                                                          62.316667                     \n",
       "2125 W Division Chicago, IL 60622                                                                61.0                     \n",
       "2700 W Chicago Ave Chicago, IL 60622                                                        70.766667                     \n",
       "\n",
       "                                                   60 E Grand Ave Chicago, IL 60611  \\\n",
       "1000 W Fulton Market, Chicago, IL 60607                                        35.7   \n",
       "837 W Fulton Market Chicago, IL 60607                                         31.75   \n",
       "222 N LaSalle St Chicago, IL 60601                                            15.55   \n",
       "225 N Wabash Ave Chicago, IL 60601                                         9.183333   \n",
       "224 N Michigan Ave Chicago, IL 60601                                       9.433333   \n",
       "350 N State St Chicago, IL 60654                                               6.85   \n",
       "400 N Clark St Chicago, IL 60654                                           9.266667   \n",
       "In the alley behind Frontera Grill, 443 N Clark...                              7.7   \n",
       "60 E Grand Ave Chicago, IL 60611                                                0.0   \n",
       "875 N Michigan Ave Chicago, IL 60610                                      12.666667   \n",
       "2033 W North Ave Chicago, IL 60647                                        67.183333   \n",
       "2125 W Division Chicago, IL 60622                                             65.85   \n",
       "2700 W Chicago Ave Chicago, IL 60622                                      75.616667   \n",
       "\n",
       "                                                   875 N Michigan Ave Chicago, IL 60610  \\\n",
       "1000 W Fulton Market, Chicago, IL 60607                                       47.733333   \n",
       "837 W Fulton Market Chicago, IL 60607                                              43.7   \n",
       "222 N LaSalle St Chicago, IL 60601                                            26.583333   \n",
       "225 N Wabash Ave Chicago, IL 60601                                                19.75   \n",
       "224 N Michigan Ave Chicago, IL 60601                                          18.683333   \n",
       "350 N State St Chicago, IL 60654                                              18.683333   \n",
       "400 N Clark St Chicago, IL 60654                                                   21.2   \n",
       "In the alley behind Frontera Grill, 443 N Clark...                                19.75   \n",
       "60 E Grand Ave Chicago, IL 60611                                                   12.4   \n",
       "875 N Michigan Ave Chicago, IL 60610                                                0.0   \n",
       "2033 W North Ave Chicago, IL 60647                                                68.05   \n",
       "2125 W Division Chicago, IL 60622                                             66.716667   \n",
       "2700 W Chicago Ave Chicago, IL 60622                                          77.833333   \n",
       "\n",
       "                                                   2033 W North Ave Chicago, IL 60647  \\\n",
       "1000 W Fulton Market, Chicago, IL 60607                                     50.016667   \n",
       "837 W Fulton Market Chicago, IL 60607                                       49.416667   \n",
       "222 N LaSalle St Chicago, IL 60601                                               64.2   \n",
       "225 N Wabash Ave Chicago, IL 60601                                          71.783333   \n",
       "224 N Michigan Ave Chicago, IL 60601                                             73.3   \n",
       "350 N State St Chicago, IL 60654                                                 66.2   \n",
       "400 N Clark St Chicago, IL 60654                                                 62.8   \n",
       "In the alley behind Frontera Grill, 443 N Clark...                          62.933333   \n",
       "60 E Grand Ave Chicago, IL 60611                                            67.283333   \n",
       "875 N Michigan Ave Chicago, IL 60610                                        67.816667   \n",
       "2033 W North Ave Chicago, IL 60647                                                0.0   \n",
       "2125 W Division Chicago, IL 60622                                                12.4   \n",
       "2700 W Chicago Ave Chicago, IL 60622                                             36.2   \n",
       "\n",
       "                                                   2125 W Division Chicago, IL 60622  \\\n",
       "1000 W Fulton Market, Chicago, IL 60607                                    48.716667   \n",
       "837 W Fulton Market Chicago, IL 60607                                      48.116667   \n",
       "222 N LaSalle St Chicago, IL 60601                                              62.9   \n",
       "225 N Wabash Ave Chicago, IL 60601                                         70.483333   \n",
       "224 N Michigan Ave Chicago, IL 60601                                            72.0   \n",
       "350 N State St Chicago, IL 60654                                                64.9   \n",
       "400 N Clark St Chicago, IL 60654                                                61.5   \n",
       "In the alley behind Frontera Grill, 443 N Clark...                         61.633333   \n",
       "60 E Grand Ave Chicago, IL 60611                                           65.983333   \n",
       "875 N Michigan Ave Chicago, IL 60610                                       66.516667   \n",
       "2033 W North Ave Chicago, IL 60647                                         12.383333   \n",
       "2125 W Division Chicago, IL 60622                                                0.0   \n",
       "2700 W Chicago Ave Chicago, IL 60622                                       23.966667   \n",
       "\n",
       "                                                   2700 W Chicago Ave Chicago, IL 60622  \n",
       "1000 W Fulton Market, Chicago, IL 60607                                       53.533333  \n",
       "837 W Fulton Market Chicago, IL 60607                                              57.8  \n",
       "222 N LaSalle St Chicago, IL 60601                                            72.783333  \n",
       "225 N Wabash Ave Chicago, IL 60601                                            80.383333  \n",
       "224 N Michigan Ave Chicago, IL 60601                                          81.883333  \n",
       "350 N State St Chicago, IL 60654                                                   74.8  \n",
       "400 N Clark St Chicago, IL 60654                                                   71.4  \n",
       "In the alley behind Frontera Grill, 443 N Clark...                                71.55  \n",
       "60 E Grand Ave Chicago, IL 60611                                                   75.9  \n",
       "875 N Michigan Ave Chicago, IL 60610                                               78.1  \n",
       "2033 W North Ave Chicago, IL 60647                                            36.433333  \n",
       "2125 W Division Chicago, IL 60622                                             24.066667  \n",
       "2700 W Chicago Ave Chicago, IL 60622                                                0.0  "
      ]
     },
     "execution_count": 115,
     "metadata": {},
     "output_type": "execute_result"
    }
   ],
   "source": [
    "df_res_walk / 60.0"
   ]
  },
  {
   "cell_type": "code",
   "execution_count": 116,
   "metadata": {},
   "outputs": [
    {
     "data": {
      "text/html": [
       "<div>\n",
       "<style scoped>\n",
       "    .dataframe tbody tr th:only-of-type {\n",
       "        vertical-align: middle;\n",
       "    }\n",
       "\n",
       "    .dataframe tbody tr th {\n",
       "        vertical-align: top;\n",
       "    }\n",
       "\n",
       "    .dataframe thead th {\n",
       "        text-align: right;\n",
       "    }\n",
       "</style>\n",
       "<table border=\"1\" class=\"dataframe\">\n",
       "  <thead>\n",
       "    <tr style=\"text-align: right;\">\n",
       "      <th></th>\n",
       "      <th>1000 W Fulton Market, Chicago, IL 60607</th>\n",
       "      <th>837 W Fulton Market Chicago, IL 60607</th>\n",
       "      <th>222 N LaSalle St Chicago, IL 60601</th>\n",
       "      <th>225 N Wabash Ave Chicago, IL 60601</th>\n",
       "      <th>224 N Michigan Ave Chicago, IL 60601</th>\n",
       "      <th>350 N State St Chicago, IL 60654</th>\n",
       "      <th>400 N Clark St Chicago, IL 60654</th>\n",
       "      <th>In the alley behind Frontera Grill, 443 N Clark St Chicago, IL 60654</th>\n",
       "      <th>60 E Grand Ave Chicago, IL 60611</th>\n",
       "      <th>875 N Michigan Ave Chicago, IL 60610</th>\n",
       "      <th>2033 W North Ave Chicago, IL 60647</th>\n",
       "      <th>2125 W Division Chicago, IL 60622</th>\n",
       "      <th>2700 W Chicago Ave Chicago, IL 60622</th>\n",
       "    </tr>\n",
       "  </thead>\n",
       "  <tbody>\n",
       "    <tr>\n",
       "      <th>1000 W Fulton Market, Chicago, IL 60607</th>\n",
       "      <td>0.0</td>\n",
       "      <td>3.5</td>\n",
       "      <td>7.766667</td>\n",
       "      <td>10.05</td>\n",
       "      <td>10.066667</td>\n",
       "      <td>9.833333</td>\n",
       "      <td>8.333333</td>\n",
       "      <td>8.7</td>\n",
       "      <td>10.466667</td>\n",
       "      <td>15.116667</td>\n",
       "      <td>9.9</td>\n",
       "      <td>11.05</td>\n",
       "      <td>12.716667</td>\n",
       "    </tr>\n",
       "    <tr>\n",
       "      <th>837 W Fulton Market Chicago, IL 60607</th>\n",
       "      <td>2.75</td>\n",
       "      <td>0.0</td>\n",
       "      <td>6.083333</td>\n",
       "      <td>8.366667</td>\n",
       "      <td>9.183333</td>\n",
       "      <td>8.2</td>\n",
       "      <td>6.75</td>\n",
       "      <td>7.316667</td>\n",
       "      <td>9.616667</td>\n",
       "      <td>14.266667</td>\n",
       "      <td>10.233333</td>\n",
       "      <td>10.75</td>\n",
       "      <td>13.383333</td>\n",
       "    </tr>\n",
       "    <tr>\n",
       "      <th>222 N LaSalle St Chicago, IL 60601</th>\n",
       "      <td>8.333333</td>\n",
       "      <td>7.05</td>\n",
       "      <td>0.0</td>\n",
       "      <td>3.55</td>\n",
       "      <td>4.466667</td>\n",
       "      <td>3.783333</td>\n",
       "      <td>3.966667</td>\n",
       "      <td>4.85</td>\n",
       "      <td>5.2</td>\n",
       "      <td>10.45</td>\n",
       "      <td>11.5</td>\n",
       "      <td>12.016667</td>\n",
       "      <td>14.866667</td>\n",
       "    </tr>\n",
       "    <tr>\n",
       "      <th>225 N Wabash Ave Chicago, IL 60601</th>\n",
       "      <td>10.25</td>\n",
       "      <td>8.383333</td>\n",
       "      <td>3.183333</td>\n",
       "      <td>0.0</td>\n",
       "      <td>1.283333</td>\n",
       "      <td>3.333333</td>\n",
       "      <td>3.516667</td>\n",
       "      <td>4.583333</td>\n",
       "      <td>3.566667</td>\n",
       "      <td>7.65</td>\n",
       "      <td>13.116667</td>\n",
       "      <td>13.633333</td>\n",
       "      <td>16.483333</td>\n",
       "    </tr>\n",
       "    <tr>\n",
       "      <th>224 N Michigan Ave Chicago, IL 60601</th>\n",
       "      <td>8.683333</td>\n",
       "      <td>7.383333</td>\n",
       "      <td>4.25</td>\n",
       "      <td>1.883333</td>\n",
       "      <td>0.0</td>\n",
       "      <td>1.516667</td>\n",
       "      <td>2.916667</td>\n",
       "      <td>4.75</td>\n",
       "      <td>1.45</td>\n",
       "      <td>7.183333</td>\n",
       "      <td>11.833333</td>\n",
       "      <td>12.366667</td>\n",
       "      <td>15.2</td>\n",
       "    </tr>\n",
       "    <tr>\n",
       "      <th>350 N State St Chicago, IL 60654</th>\n",
       "      <td>9.8</td>\n",
       "      <td>7.933333</td>\n",
       "      <td>2.733333</td>\n",
       "      <td>1.8</td>\n",
       "      <td>2.616667</td>\n",
       "      <td>0.0</td>\n",
       "      <td>3.066667</td>\n",
       "      <td>4.133333</td>\n",
       "      <td>3.35</td>\n",
       "      <td>8.6</td>\n",
       "      <td>12.666667</td>\n",
       "      <td>13.183333</td>\n",
       "      <td>16.033333</td>\n",
       "    </tr>\n",
       "    <tr>\n",
       "      <th>400 N Clark St Chicago, IL 60654</th>\n",
       "      <td>8.15</td>\n",
       "      <td>6.7</td>\n",
       "      <td>1.833333</td>\n",
       "      <td>3.15</td>\n",
       "      <td>3.966667</td>\n",
       "      <td>1.383333</td>\n",
       "      <td>0.0</td>\n",
       "      <td>1.75</td>\n",
       "      <td>2.8</td>\n",
       "      <td>8.466667</td>\n",
       "      <td>11.05</td>\n",
       "      <td>11.566667</td>\n",
       "      <td>14.416667</td>\n",
       "    </tr>\n",
       "    <tr>\n",
       "      <th>In the alley behind Frontera Grill, 443 N Clark St Chicago, IL 60654</th>\n",
       "      <td>8.783333</td>\n",
       "      <td>7.283333</td>\n",
       "      <td>4.583333</td>\n",
       "      <td>5.483333</td>\n",
       "      <td>6.316667</td>\n",
       "      <td>3.683333</td>\n",
       "      <td>4.366667</td>\n",
       "      <td>0.0</td>\n",
       "      <td>4.333333</td>\n",
       "      <td>10.116667</td>\n",
       "      <td>10.783333</td>\n",
       "      <td>11.3</td>\n",
       "      <td>14.133333</td>\n",
       "    </tr>\n",
       "    <tr>\n",
       "      <th>60 E Grand Ave Chicago, IL 60611</th>\n",
       "      <td>9.6</td>\n",
       "      <td>8.1</td>\n",
       "      <td>4.516667</td>\n",
       "      <td>2.733333</td>\n",
       "      <td>3.55</td>\n",
       "      <td>2.3</td>\n",
       "      <td>3.716667</td>\n",
       "      <td>5.183333</td>\n",
       "      <td>0.0</td>\n",
       "      <td>7.016667</td>\n",
       "      <td>11.55</td>\n",
       "      <td>12.083333</td>\n",
       "      <td>14.916667</td>\n",
       "    </tr>\n",
       "    <tr>\n",
       "      <th>875 N Michigan Ave Chicago, IL 60610</th>\n",
       "      <td>13.75</td>\n",
       "      <td>12.683333</td>\n",
       "      <td>7.633333</td>\n",
       "      <td>5.716667</td>\n",
       "      <td>5.1</td>\n",
       "      <td>7.133333</td>\n",
       "      <td>7.983333</td>\n",
       "      <td>9.033333</td>\n",
       "      <td>5.45</td>\n",
       "      <td>0.0</td>\n",
       "      <td>14.7</td>\n",
       "      <td>15.216667</td>\n",
       "      <td>18.066667</td>\n",
       "    </tr>\n",
       "    <tr>\n",
       "      <th>2033 W North Ave Chicago, IL 60647</th>\n",
       "      <td>11.0</td>\n",
       "      <td>10.3</td>\n",
       "      <td>11.55</td>\n",
       "      <td>14.233333</td>\n",
       "      <td>13.416667</td>\n",
       "      <td>12.883333</td>\n",
       "      <td>11.55</td>\n",
       "      <td>11.55</td>\n",
       "      <td>12.75</td>\n",
       "      <td>17.366667</td>\n",
       "      <td>0.0</td>\n",
       "      <td>3.933333</td>\n",
       "      <td>8.6</td>\n",
       "    </tr>\n",
       "    <tr>\n",
       "      <th>2125 W Division Chicago, IL 60622</th>\n",
       "      <td>11.683333</td>\n",
       "      <td>10.833333</td>\n",
       "      <td>12.083333</td>\n",
       "      <td>14.783333</td>\n",
       "      <td>13.966667</td>\n",
       "      <td>13.416667</td>\n",
       "      <td>12.1</td>\n",
       "      <td>12.083333</td>\n",
       "      <td>13.283333</td>\n",
       "      <td>17.9</td>\n",
       "      <td>3.666667</td>\n",
       "      <td>0.0</td>\n",
       "      <td>5.316667</td>\n",
       "    </tr>\n",
       "    <tr>\n",
       "      <th>2700 W Chicago Ave Chicago, IL 60622</th>\n",
       "      <td>11.466667</td>\n",
       "      <td>11.516667</td>\n",
       "      <td>14.85</td>\n",
       "      <td>18.533333</td>\n",
       "      <td>14.1</td>\n",
       "      <td>15.383333</td>\n",
       "      <td>15.916667</td>\n",
       "      <td>15.9</td>\n",
       "      <td>15.3</td>\n",
       "      <td>20.9</td>\n",
       "      <td>8.316667</td>\n",
       "      <td>5.616667</td>\n",
       "      <td>0.0</td>\n",
       "    </tr>\n",
       "  </tbody>\n",
       "</table>\n",
       "</div>"
      ],
      "text/plain": [
       "                                                   1000 W Fulton Market, Chicago, IL 60607  \\\n",
       "1000 W Fulton Market, Chicago, IL 60607                                                0.0   \n",
       "837 W Fulton Market Chicago, IL 60607                                                 2.75   \n",
       "222 N LaSalle St Chicago, IL 60601                                                8.333333   \n",
       "225 N Wabash Ave Chicago, IL 60601                                                   10.25   \n",
       "224 N Michigan Ave Chicago, IL 60601                                              8.683333   \n",
       "350 N State St Chicago, IL 60654                                                       9.8   \n",
       "400 N Clark St Chicago, IL 60654                                                      8.15   \n",
       "In the alley behind Frontera Grill, 443 N Clark...                                8.783333   \n",
       "60 E Grand Ave Chicago, IL 60611                                                       9.6   \n",
       "875 N Michigan Ave Chicago, IL 60610                                                 13.75   \n",
       "2033 W North Ave Chicago, IL 60647                                                    11.0   \n",
       "2125 W Division Chicago, IL 60622                                                11.683333   \n",
       "2700 W Chicago Ave Chicago, IL 60622                                             11.466667   \n",
       "\n",
       "                                                   837 W Fulton Market Chicago, IL 60607  \\\n",
       "1000 W Fulton Market, Chicago, IL 60607                                              3.5   \n",
       "837 W Fulton Market Chicago, IL 60607                                                0.0   \n",
       "222 N LaSalle St Chicago, IL 60601                                                  7.05   \n",
       "225 N Wabash Ave Chicago, IL 60601                                              8.383333   \n",
       "224 N Michigan Ave Chicago, IL 60601                                            7.383333   \n",
       "350 N State St Chicago, IL 60654                                                7.933333   \n",
       "400 N Clark St Chicago, IL 60654                                                     6.7   \n",
       "In the alley behind Frontera Grill, 443 N Clark...                              7.283333   \n",
       "60 E Grand Ave Chicago, IL 60611                                                     8.1   \n",
       "875 N Michigan Ave Chicago, IL 60610                                           12.683333   \n",
       "2033 W North Ave Chicago, IL 60647                                                  10.3   \n",
       "2125 W Division Chicago, IL 60622                                              10.833333   \n",
       "2700 W Chicago Ave Chicago, IL 60622                                           11.516667   \n",
       "\n",
       "                                                   222 N LaSalle St Chicago, IL 60601  \\\n",
       "1000 W Fulton Market, Chicago, IL 60607                                      7.766667   \n",
       "837 W Fulton Market Chicago, IL 60607                                        6.083333   \n",
       "222 N LaSalle St Chicago, IL 60601                                                0.0   \n",
       "225 N Wabash Ave Chicago, IL 60601                                           3.183333   \n",
       "224 N Michigan Ave Chicago, IL 60601                                             4.25   \n",
       "350 N State St Chicago, IL 60654                                             2.733333   \n",
       "400 N Clark St Chicago, IL 60654                                             1.833333   \n",
       "In the alley behind Frontera Grill, 443 N Clark...                           4.583333   \n",
       "60 E Grand Ave Chicago, IL 60611                                             4.516667   \n",
       "875 N Michigan Ave Chicago, IL 60610                                         7.633333   \n",
       "2033 W North Ave Chicago, IL 60647                                              11.55   \n",
       "2125 W Division Chicago, IL 60622                                           12.083333   \n",
       "2700 W Chicago Ave Chicago, IL 60622                                            14.85   \n",
       "\n",
       "                                                   225 N Wabash Ave Chicago, IL 60601  \\\n",
       "1000 W Fulton Market, Chicago, IL 60607                                         10.05   \n",
       "837 W Fulton Market Chicago, IL 60607                                        8.366667   \n",
       "222 N LaSalle St Chicago, IL 60601                                               3.55   \n",
       "225 N Wabash Ave Chicago, IL 60601                                                0.0   \n",
       "224 N Michigan Ave Chicago, IL 60601                                         1.883333   \n",
       "350 N State St Chicago, IL 60654                                                  1.8   \n",
       "400 N Clark St Chicago, IL 60654                                                 3.15   \n",
       "In the alley behind Frontera Grill, 443 N Clark...                           5.483333   \n",
       "60 E Grand Ave Chicago, IL 60611                                             2.733333   \n",
       "875 N Michigan Ave Chicago, IL 60610                                         5.716667   \n",
       "2033 W North Ave Chicago, IL 60647                                          14.233333   \n",
       "2125 W Division Chicago, IL 60622                                           14.783333   \n",
       "2700 W Chicago Ave Chicago, IL 60622                                        18.533333   \n",
       "\n",
       "                                                   224 N Michigan Ave Chicago, IL 60601  \\\n",
       "1000 W Fulton Market, Chicago, IL 60607                                       10.066667   \n",
       "837 W Fulton Market Chicago, IL 60607                                          9.183333   \n",
       "222 N LaSalle St Chicago, IL 60601                                             4.466667   \n",
       "225 N Wabash Ave Chicago, IL 60601                                             1.283333   \n",
       "224 N Michigan Ave Chicago, IL 60601                                                0.0   \n",
       "350 N State St Chicago, IL 60654                                               2.616667   \n",
       "400 N Clark St Chicago, IL 60654                                               3.966667   \n",
       "In the alley behind Frontera Grill, 443 N Clark...                             6.316667   \n",
       "60 E Grand Ave Chicago, IL 60611                                                   3.55   \n",
       "875 N Michigan Ave Chicago, IL 60610                                                5.1   \n",
       "2033 W North Ave Chicago, IL 60647                                            13.416667   \n",
       "2125 W Division Chicago, IL 60622                                             13.966667   \n",
       "2700 W Chicago Ave Chicago, IL 60622                                               14.1   \n",
       "\n",
       "                                                   350 N State St Chicago, IL 60654  \\\n",
       "1000 W Fulton Market, Chicago, IL 60607                                    9.833333   \n",
       "837 W Fulton Market Chicago, IL 60607                                           8.2   \n",
       "222 N LaSalle St Chicago, IL 60601                                         3.783333   \n",
       "225 N Wabash Ave Chicago, IL 60601                                         3.333333   \n",
       "224 N Michigan Ave Chicago, IL 60601                                       1.516667   \n",
       "350 N State St Chicago, IL 60654                                                0.0   \n",
       "400 N Clark St Chicago, IL 60654                                           1.383333   \n",
       "In the alley behind Frontera Grill, 443 N Clark...                         3.683333   \n",
       "60 E Grand Ave Chicago, IL 60611                                                2.3   \n",
       "875 N Michigan Ave Chicago, IL 60610                                       7.133333   \n",
       "2033 W North Ave Chicago, IL 60647                                        12.883333   \n",
       "2125 W Division Chicago, IL 60622                                         13.416667   \n",
       "2700 W Chicago Ave Chicago, IL 60622                                      15.383333   \n",
       "\n",
       "                                                   400 N Clark St Chicago, IL 60654  \\\n",
       "1000 W Fulton Market, Chicago, IL 60607                                    8.333333   \n",
       "837 W Fulton Market Chicago, IL 60607                                          6.75   \n",
       "222 N LaSalle St Chicago, IL 60601                                         3.966667   \n",
       "225 N Wabash Ave Chicago, IL 60601                                         3.516667   \n",
       "224 N Michigan Ave Chicago, IL 60601                                       2.916667   \n",
       "350 N State St Chicago, IL 60654                                           3.066667   \n",
       "400 N Clark St Chicago, IL 60654                                                0.0   \n",
       "In the alley behind Frontera Grill, 443 N Clark...                         4.366667   \n",
       "60 E Grand Ave Chicago, IL 60611                                           3.716667   \n",
       "875 N Michigan Ave Chicago, IL 60610                                       7.983333   \n",
       "2033 W North Ave Chicago, IL 60647                                            11.55   \n",
       "2125 W Division Chicago, IL 60622                                              12.1   \n",
       "2700 W Chicago Ave Chicago, IL 60622                                      15.916667   \n",
       "\n",
       "                                                   In the alley behind Frontera Grill, 443 N Clark St Chicago, IL 60654  \\\n",
       "1000 W Fulton Market, Chicago, IL 60607                                                           8.7                     \n",
       "837 W Fulton Market Chicago, IL 60607                                                        7.316667                     \n",
       "222 N LaSalle St Chicago, IL 60601                                                               4.85                     \n",
       "225 N Wabash Ave Chicago, IL 60601                                                           4.583333                     \n",
       "224 N Michigan Ave Chicago, IL 60601                                                             4.75                     \n",
       "350 N State St Chicago, IL 60654                                                             4.133333                     \n",
       "400 N Clark St Chicago, IL 60654                                                                 1.75                     \n",
       "In the alley behind Frontera Grill, 443 N Clark...                                                0.0                     \n",
       "60 E Grand Ave Chicago, IL 60611                                                             5.183333                     \n",
       "875 N Michigan Ave Chicago, IL 60610                                                         9.033333                     \n",
       "2033 W North Ave Chicago, IL 60647                                                              11.55                     \n",
       "2125 W Division Chicago, IL 60622                                                           12.083333                     \n",
       "2700 W Chicago Ave Chicago, IL 60622                                                             15.9                     \n",
       "\n",
       "                                                   60 E Grand Ave Chicago, IL 60611  \\\n",
       "1000 W Fulton Market, Chicago, IL 60607                                   10.466667   \n",
       "837 W Fulton Market Chicago, IL 60607                                      9.616667   \n",
       "222 N LaSalle St Chicago, IL 60601                                              5.2   \n",
       "225 N Wabash Ave Chicago, IL 60601                                         3.566667   \n",
       "224 N Michigan Ave Chicago, IL 60601                                           1.45   \n",
       "350 N State St Chicago, IL 60654                                               3.35   \n",
       "400 N Clark St Chicago, IL 60654                                                2.8   \n",
       "In the alley behind Frontera Grill, 443 N Clark...                         4.333333   \n",
       "60 E Grand Ave Chicago, IL 60611                                                0.0   \n",
       "875 N Michigan Ave Chicago, IL 60610                                           5.45   \n",
       "2033 W North Ave Chicago, IL 60647                                            12.75   \n",
       "2125 W Division Chicago, IL 60622                                         13.283333   \n",
       "2700 W Chicago Ave Chicago, IL 60622                                           15.3   \n",
       "\n",
       "                                                   875 N Michigan Ave Chicago, IL 60610  \\\n",
       "1000 W Fulton Market, Chicago, IL 60607                                       15.116667   \n",
       "837 W Fulton Market Chicago, IL 60607                                         14.266667   \n",
       "222 N LaSalle St Chicago, IL 60601                                                10.45   \n",
       "225 N Wabash Ave Chicago, IL 60601                                                 7.65   \n",
       "224 N Michigan Ave Chicago, IL 60601                                           7.183333   \n",
       "350 N State St Chicago, IL 60654                                                    8.6   \n",
       "400 N Clark St Chicago, IL 60654                                               8.466667   \n",
       "In the alley behind Frontera Grill, 443 N Clark...                            10.116667   \n",
       "60 E Grand Ave Chicago, IL 60611                                               7.016667   \n",
       "875 N Michigan Ave Chicago, IL 60610                                                0.0   \n",
       "2033 W North Ave Chicago, IL 60647                                            17.366667   \n",
       "2125 W Division Chicago, IL 60622                                                  17.9   \n",
       "2700 W Chicago Ave Chicago, IL 60622                                               20.9   \n",
       "\n",
       "                                                   2033 W North Ave Chicago, IL 60647  \\\n",
       "1000 W Fulton Market, Chicago, IL 60607                                           9.9   \n",
       "837 W Fulton Market Chicago, IL 60607                                       10.233333   \n",
       "222 N LaSalle St Chicago, IL 60601                                               11.5   \n",
       "225 N Wabash Ave Chicago, IL 60601                                          13.116667   \n",
       "224 N Michigan Ave Chicago, IL 60601                                        11.833333   \n",
       "350 N State St Chicago, IL 60654                                            12.666667   \n",
       "400 N Clark St Chicago, IL 60654                                                11.05   \n",
       "In the alley behind Frontera Grill, 443 N Clark...                          10.783333   \n",
       "60 E Grand Ave Chicago, IL 60611                                                11.55   \n",
       "875 N Michigan Ave Chicago, IL 60610                                             14.7   \n",
       "2033 W North Ave Chicago, IL 60647                                                0.0   \n",
       "2125 W Division Chicago, IL 60622                                            3.666667   \n",
       "2700 W Chicago Ave Chicago, IL 60622                                         8.316667   \n",
       "\n",
       "                                                   2125 W Division Chicago, IL 60622  \\\n",
       "1000 W Fulton Market, Chicago, IL 60607                                        11.05   \n",
       "837 W Fulton Market Chicago, IL 60607                                          10.75   \n",
       "222 N LaSalle St Chicago, IL 60601                                         12.016667   \n",
       "225 N Wabash Ave Chicago, IL 60601                                         13.633333   \n",
       "224 N Michigan Ave Chicago, IL 60601                                       12.366667   \n",
       "350 N State St Chicago, IL 60654                                           13.183333   \n",
       "400 N Clark St Chicago, IL 60654                                           11.566667   \n",
       "In the alley behind Frontera Grill, 443 N Clark...                              11.3   \n",
       "60 E Grand Ave Chicago, IL 60611                                           12.083333   \n",
       "875 N Michigan Ave Chicago, IL 60610                                       15.216667   \n",
       "2033 W North Ave Chicago, IL 60647                                          3.933333   \n",
       "2125 W Division Chicago, IL 60622                                                0.0   \n",
       "2700 W Chicago Ave Chicago, IL 60622                                        5.616667   \n",
       "\n",
       "                                                   2700 W Chicago Ave Chicago, IL 60622  \n",
       "1000 W Fulton Market, Chicago, IL 60607                                       12.716667  \n",
       "837 W Fulton Market Chicago, IL 60607                                         13.383333  \n",
       "222 N LaSalle St Chicago, IL 60601                                            14.866667  \n",
       "225 N Wabash Ave Chicago, IL 60601                                            16.483333  \n",
       "224 N Michigan Ave Chicago, IL 60601                                               15.2  \n",
       "350 N State St Chicago, IL 60654                                              16.033333  \n",
       "400 N Clark St Chicago, IL 60654                                              14.416667  \n",
       "In the alley behind Frontera Grill, 443 N Clark...                            14.133333  \n",
       "60 E Grand Ave Chicago, IL 60611                                              14.916667  \n",
       "875 N Michigan Ave Chicago, IL 60610                                          18.066667  \n",
       "2033 W North Ave Chicago, IL 60647                                                  8.6  \n",
       "2125 W Division Chicago, IL 60622                                              5.316667  \n",
       "2700 W Chicago Ave Chicago, IL 60622                                                0.0  "
      ]
     },
     "execution_count": 116,
     "metadata": {},
     "output_type": "execute_result"
    }
   ],
   "source": [
    "df_res_drive / 60.0"
   ]
  },
  {
   "cell_type": "markdown",
   "metadata": {},
   "source": [
    "## Location Groupings"
   ]
  },
  {
   "cell_type": "markdown",
   "metadata": {},
   "source": [
    "In order to help us visualize what might be logical groupings of locations that are near one another, we can "
   ]
  },
  {
   "cell_type": "code",
   "execution_count": 117,
   "metadata": {},
   "outputs": [],
   "source": [
    "import plotly.figure_factory as ff"
   ]
  },
  {
   "cell_type": "markdown",
   "metadata": {},
   "source": [
    "Because of the Google API calls, our matrix isn't necessarily exactly symmetric, but for the sake of creating our dendrogram, let's assume that walking time should be symmetric. Let's also fully convert our results into minutes."
   ]
  },
  {
   "cell_type": "code",
   "execution_count": 118,
   "metadata": {},
   "outputs": [],
   "source": [
    "def make_symmetric(df: pd.DataFrame, convert_seconds: bool = True) -> pd.DataFrame:\n",
    "    df_out = df.copy()\n",
    "    if convert_seconds:\n",
    "        df_out = df_out / 60.0\n",
    "    for i in range(len(df_out)):\n",
    "        for j in range(i):\n",
    "            df_out.iloc[i,j] = df_out.iloc[j,i]\n",
    "    return df_out\n",
    "\n",
    "df_res_drive = make_symmetric(df_res_drive)\n",
    "df_res_walk = make_symmetric(df_res_walk)"
   ]
  },
  {
   "cell_type": "markdown",
   "metadata": {},
   "source": [
    "In order to visualize our happy hours we may be able to easily group together, we can use a dendrogram. Dendrograms visualize hierarchical clustering groups of items that are most similar to one another. In our case, our distance matrix should be a fine feature vector for each location.\n",
    "\n",
    "We draw out our dendrogram and also set a color threshold of 30 signifying that if there are two locations within 30 minutes walking distance to one another, they will be drawn with the same color in adjacent groupings. 30 minutes should be enough time to enjoy oysters, take down my notes, snap a couple of photos if we aim for a max of 3-4 locations a day where we only want to call a Lyft one time there and back and the average happy hour is 2.5 hours."
   ]
  },
  {
   "cell_type": "code",
   "execution_count": 203,
   "metadata": {},
   "outputs": [
    {
     "data": {
      "application/vnd.plotly.v1+json": {
       "config": {
        "plotlyServerURL": "https://plot.ly"
       },
       "data": [
        {
         "hoverinfo": "text",
         "marker": {
          "color": "rgb(61,153,112)"
         },
         "mode": "lines",
         "type": "scatter",
         "x": [
          0,
          21.829528930632772,
          21.829528930632772,
          0
         ],
         "xaxis": "x",
         "y": [
          -15,
          -15,
          -25,
          -25
         ],
         "yaxis": "y"
        },
        {
         "hoverinfo": "text",
         "marker": {
          "color": "rgb(0,116,217)"
         },
         "mode": "lines",
         "type": "scatter",
         "x": [
          0,
          59.138744585179616,
          59.138744585179616,
          21.829528930632772
         ],
         "xaxis": "x",
         "y": [
          -5,
          -5,
          -20,
          -20
         ],
         "yaxis": "y"
        },
        {
         "hoverinfo": "text",
         "marker": {
          "color": "rgb(255,65,54)"
         },
         "mode": "lines",
         "type": "scatter",
         "x": [
          0,
          13.777407029061909,
          13.777407029061909,
          0
         ],
         "xaxis": "x",
         "y": [
          -35,
          -35,
          -45,
          -45
         ],
         "yaxis": "y"
        },
        {
         "hoverinfo": "text",
         "marker": {
          "color": "rgb(35,205,205)"
         },
         "mode": "lines",
         "type": "scatter",
         "x": [
          0,
          4.639324663497192,
          4.639324663497192,
          0
         ],
         "xaxis": "x",
         "y": [
          -85,
          -85,
          -95,
          -95
         ],
         "yaxis": "y"
        },
        {
         "hoverinfo": "text",
         "marker": {
          "color": "rgb(35,205,205)"
         },
         "mode": "lines",
         "type": "scatter",
         "x": [
          0,
          12.646013864719063,
          12.646013864719063,
          4.639324663497192
         ],
         "xaxis": "x",
         "y": [
          -75,
          -75,
          -90,
          -90
         ],
         "yaxis": "y"
        },
        {
         "hoverinfo": "text",
         "marker": {
          "color": "rgb(35,205,205)"
         },
         "mode": "lines",
         "type": "scatter",
         "x": [
          0,
          20.254203953198896,
          20.254203953198896,
          12.646013864719063
         ],
         "xaxis": "x",
         "y": [
          -65,
          -65,
          -82.5,
          -82.5
         ],
         "yaxis": "y"
        },
        {
         "hoverinfo": "text",
         "marker": {
          "color": "rgb(133,20,75)"
         },
         "mode": "lines",
         "type": "scatter",
         "x": [
          0,
          5.86311445488753,
          5.86311445488753,
          0
         ],
         "xaxis": "x",
         "y": [
          -115,
          -115,
          -125,
          -125
         ],
         "yaxis": "y"
        },
        {
         "hoverinfo": "text",
         "marker": {
          "color": "rgb(133,20,75)"
         },
         "mode": "lines",
         "type": "scatter",
         "x": [
          0,
          21.240841163507,
          21.240841163507,
          5.86311445488753
         ],
         "xaxis": "x",
         "y": [
          -105,
          -105,
          -120,
          -120
         ],
         "yaxis": "y"
        },
        {
         "hoverinfo": "text",
         "marker": {
          "color": "rgb(0,116,217)"
         },
         "mode": "lines",
         "type": "scatter",
         "x": [
          20.254203953198896,
          32.00239574365228,
          32.00239574365228,
          21.240841163507
         ],
         "xaxis": "x",
         "y": [
          -73.75,
          -73.75,
          -112.5,
          -112.5
         ],
         "yaxis": "y"
        },
        {
         "hoverinfo": "text",
         "marker": {
          "color": "rgb(0,116,217)"
         },
         "mode": "lines",
         "type": "scatter",
         "x": [
          0,
          57.71574260498122,
          57.71574260498122,
          32.00239574365228
         ],
         "xaxis": "x",
         "y": [
          -55,
          -55,
          -93.125,
          -93.125
         ],
         "yaxis": "y"
        },
        {
         "hoverinfo": "text",
         "marker": {
          "color": "rgb(0,116,217)"
         },
         "mode": "lines",
         "type": "scatter",
         "x": [
          13.777407029061909,
          92.03021092131769,
          92.03021092131769,
          57.71574260498122
         ],
         "xaxis": "x",
         "y": [
          -40,
          -40,
          -74.0625,
          -74.0625
         ],
         "yaxis": "y"
        },
        {
         "hoverinfo": "text",
         "marker": {
          "color": "rgb(0,116,217)"
         },
         "mode": "lines",
         "type": "scatter",
         "x": [
          59.138744585179616,
          219.51535633450948,
          219.51535633450948,
          92.03021092131769
         ],
         "xaxis": "x",
         "y": [
          -12.5,
          -12.5,
          -57.03125,
          -57.03125
         ],
         "yaxis": "y"
        }
       ],
       "layout": {
        "autosize": false,
        "height": 800,
        "hovermode": "closest",
        "showlegend": false,
        "template": {
         "data": {
          "bar": [
           {
            "error_x": {
             "color": "#2a3f5f"
            },
            "error_y": {
             "color": "#2a3f5f"
            },
            "marker": {
             "line": {
              "color": "#E5ECF6",
              "width": 0.5
             },
             "pattern": {
              "fillmode": "overlay",
              "size": 10,
              "solidity": 0.2
             }
            },
            "type": "bar"
           }
          ],
          "barpolar": [
           {
            "marker": {
             "line": {
              "color": "#E5ECF6",
              "width": 0.5
             },
             "pattern": {
              "fillmode": "overlay",
              "size": 10,
              "solidity": 0.2
             }
            },
            "type": "barpolar"
           }
          ],
          "carpet": [
           {
            "aaxis": {
             "endlinecolor": "#2a3f5f",
             "gridcolor": "white",
             "linecolor": "white",
             "minorgridcolor": "white",
             "startlinecolor": "#2a3f5f"
            },
            "baxis": {
             "endlinecolor": "#2a3f5f",
             "gridcolor": "white",
             "linecolor": "white",
             "minorgridcolor": "white",
             "startlinecolor": "#2a3f5f"
            },
            "type": "carpet"
           }
          ],
          "choropleth": [
           {
            "colorbar": {
             "outlinewidth": 0,
             "ticks": ""
            },
            "type": "choropleth"
           }
          ],
          "contour": [
           {
            "colorbar": {
             "outlinewidth": 0,
             "ticks": ""
            },
            "colorscale": [
             [
              0,
              "#0d0887"
             ],
             [
              0.1111111111111111,
              "#46039f"
             ],
             [
              0.2222222222222222,
              "#7201a8"
             ],
             [
              0.3333333333333333,
              "#9c179e"
             ],
             [
              0.4444444444444444,
              "#bd3786"
             ],
             [
              0.5555555555555556,
              "#d8576b"
             ],
             [
              0.6666666666666666,
              "#ed7953"
             ],
             [
              0.7777777777777778,
              "#fb9f3a"
             ],
             [
              0.8888888888888888,
              "#fdca26"
             ],
             [
              1,
              "#f0f921"
             ]
            ],
            "type": "contour"
           }
          ],
          "contourcarpet": [
           {
            "colorbar": {
             "outlinewidth": 0,
             "ticks": ""
            },
            "type": "contourcarpet"
           }
          ],
          "heatmap": [
           {
            "colorbar": {
             "outlinewidth": 0,
             "ticks": ""
            },
            "colorscale": [
             [
              0,
              "#0d0887"
             ],
             [
              0.1111111111111111,
              "#46039f"
             ],
             [
              0.2222222222222222,
              "#7201a8"
             ],
             [
              0.3333333333333333,
              "#9c179e"
             ],
             [
              0.4444444444444444,
              "#bd3786"
             ],
             [
              0.5555555555555556,
              "#d8576b"
             ],
             [
              0.6666666666666666,
              "#ed7953"
             ],
             [
              0.7777777777777778,
              "#fb9f3a"
             ],
             [
              0.8888888888888888,
              "#fdca26"
             ],
             [
              1,
              "#f0f921"
             ]
            ],
            "type": "heatmap"
           }
          ],
          "heatmapgl": [
           {
            "colorbar": {
             "outlinewidth": 0,
             "ticks": ""
            },
            "colorscale": [
             [
              0,
              "#0d0887"
             ],
             [
              0.1111111111111111,
              "#46039f"
             ],
             [
              0.2222222222222222,
              "#7201a8"
             ],
             [
              0.3333333333333333,
              "#9c179e"
             ],
             [
              0.4444444444444444,
              "#bd3786"
             ],
             [
              0.5555555555555556,
              "#d8576b"
             ],
             [
              0.6666666666666666,
              "#ed7953"
             ],
             [
              0.7777777777777778,
              "#fb9f3a"
             ],
             [
              0.8888888888888888,
              "#fdca26"
             ],
             [
              1,
              "#f0f921"
             ]
            ],
            "type": "heatmapgl"
           }
          ],
          "histogram": [
           {
            "marker": {
             "pattern": {
              "fillmode": "overlay",
              "size": 10,
              "solidity": 0.2
             }
            },
            "type": "histogram"
           }
          ],
          "histogram2d": [
           {
            "colorbar": {
             "outlinewidth": 0,
             "ticks": ""
            },
            "colorscale": [
             [
              0,
              "#0d0887"
             ],
             [
              0.1111111111111111,
              "#46039f"
             ],
             [
              0.2222222222222222,
              "#7201a8"
             ],
             [
              0.3333333333333333,
              "#9c179e"
             ],
             [
              0.4444444444444444,
              "#bd3786"
             ],
             [
              0.5555555555555556,
              "#d8576b"
             ],
             [
              0.6666666666666666,
              "#ed7953"
             ],
             [
              0.7777777777777778,
              "#fb9f3a"
             ],
             [
              0.8888888888888888,
              "#fdca26"
             ],
             [
              1,
              "#f0f921"
             ]
            ],
            "type": "histogram2d"
           }
          ],
          "histogram2dcontour": [
           {
            "colorbar": {
             "outlinewidth": 0,
             "ticks": ""
            },
            "colorscale": [
             [
              0,
              "#0d0887"
             ],
             [
              0.1111111111111111,
              "#46039f"
             ],
             [
              0.2222222222222222,
              "#7201a8"
             ],
             [
              0.3333333333333333,
              "#9c179e"
             ],
             [
              0.4444444444444444,
              "#bd3786"
             ],
             [
              0.5555555555555556,
              "#d8576b"
             ],
             [
              0.6666666666666666,
              "#ed7953"
             ],
             [
              0.7777777777777778,
              "#fb9f3a"
             ],
             [
              0.8888888888888888,
              "#fdca26"
             ],
             [
              1,
              "#f0f921"
             ]
            ],
            "type": "histogram2dcontour"
           }
          ],
          "mesh3d": [
           {
            "colorbar": {
             "outlinewidth": 0,
             "ticks": ""
            },
            "type": "mesh3d"
           }
          ],
          "parcoords": [
           {
            "line": {
             "colorbar": {
              "outlinewidth": 0,
              "ticks": ""
             }
            },
            "type": "parcoords"
           }
          ],
          "pie": [
           {
            "automargin": true,
            "type": "pie"
           }
          ],
          "scatter": [
           {
            "fillpattern": {
             "fillmode": "overlay",
             "size": 10,
             "solidity": 0.2
            },
            "type": "scatter"
           }
          ],
          "scatter3d": [
           {
            "line": {
             "colorbar": {
              "outlinewidth": 0,
              "ticks": ""
             }
            },
            "marker": {
             "colorbar": {
              "outlinewidth": 0,
              "ticks": ""
             }
            },
            "type": "scatter3d"
           }
          ],
          "scattercarpet": [
           {
            "marker": {
             "colorbar": {
              "outlinewidth": 0,
              "ticks": ""
             }
            },
            "type": "scattercarpet"
           }
          ],
          "scattergeo": [
           {
            "marker": {
             "colorbar": {
              "outlinewidth": 0,
              "ticks": ""
             }
            },
            "type": "scattergeo"
           }
          ],
          "scattergl": [
           {
            "marker": {
             "colorbar": {
              "outlinewidth": 0,
              "ticks": ""
             }
            },
            "type": "scattergl"
           }
          ],
          "scattermapbox": [
           {
            "marker": {
             "colorbar": {
              "outlinewidth": 0,
              "ticks": ""
             }
            },
            "type": "scattermapbox"
           }
          ],
          "scatterpolar": [
           {
            "marker": {
             "colorbar": {
              "outlinewidth": 0,
              "ticks": ""
             }
            },
            "type": "scatterpolar"
           }
          ],
          "scatterpolargl": [
           {
            "marker": {
             "colorbar": {
              "outlinewidth": 0,
              "ticks": ""
             }
            },
            "type": "scatterpolargl"
           }
          ],
          "scatterternary": [
           {
            "marker": {
             "colorbar": {
              "outlinewidth": 0,
              "ticks": ""
             }
            },
            "type": "scatterternary"
           }
          ],
          "surface": [
           {
            "colorbar": {
             "outlinewidth": 0,
             "ticks": ""
            },
            "colorscale": [
             [
              0,
              "#0d0887"
             ],
             [
              0.1111111111111111,
              "#46039f"
             ],
             [
              0.2222222222222222,
              "#7201a8"
             ],
             [
              0.3333333333333333,
              "#9c179e"
             ],
             [
              0.4444444444444444,
              "#bd3786"
             ],
             [
              0.5555555555555556,
              "#d8576b"
             ],
             [
              0.6666666666666666,
              "#ed7953"
             ],
             [
              0.7777777777777778,
              "#fb9f3a"
             ],
             [
              0.8888888888888888,
              "#fdca26"
             ],
             [
              1,
              "#f0f921"
             ]
            ],
            "type": "surface"
           }
          ],
          "table": [
           {
            "cells": {
             "fill": {
              "color": "#EBF0F8"
             },
             "line": {
              "color": "white"
             }
            },
            "header": {
             "fill": {
              "color": "#C8D4E3"
             },
             "line": {
              "color": "white"
             }
            },
            "type": "table"
           }
          ]
         },
         "layout": {
          "annotationdefaults": {
           "arrowcolor": "#2a3f5f",
           "arrowhead": 0,
           "arrowwidth": 1
          },
          "autotypenumbers": "strict",
          "coloraxis": {
           "colorbar": {
            "outlinewidth": 0,
            "ticks": ""
           }
          },
          "colorscale": {
           "diverging": [
            [
             0,
             "#8e0152"
            ],
            [
             0.1,
             "#c51b7d"
            ],
            [
             0.2,
             "#de77ae"
            ],
            [
             0.3,
             "#f1b6da"
            ],
            [
             0.4,
             "#fde0ef"
            ],
            [
             0.5,
             "#f7f7f7"
            ],
            [
             0.6,
             "#e6f5d0"
            ],
            [
             0.7,
             "#b8e186"
            ],
            [
             0.8,
             "#7fbc41"
            ],
            [
             0.9,
             "#4d9221"
            ],
            [
             1,
             "#276419"
            ]
           ],
           "sequential": [
            [
             0,
             "#0d0887"
            ],
            [
             0.1111111111111111,
             "#46039f"
            ],
            [
             0.2222222222222222,
             "#7201a8"
            ],
            [
             0.3333333333333333,
             "#9c179e"
            ],
            [
             0.4444444444444444,
             "#bd3786"
            ],
            [
             0.5555555555555556,
             "#d8576b"
            ],
            [
             0.6666666666666666,
             "#ed7953"
            ],
            [
             0.7777777777777778,
             "#fb9f3a"
            ],
            [
             0.8888888888888888,
             "#fdca26"
            ],
            [
             1,
             "#f0f921"
            ]
           ],
           "sequentialminus": [
            [
             0,
             "#0d0887"
            ],
            [
             0.1111111111111111,
             "#46039f"
            ],
            [
             0.2222222222222222,
             "#7201a8"
            ],
            [
             0.3333333333333333,
             "#9c179e"
            ],
            [
             0.4444444444444444,
             "#bd3786"
            ],
            [
             0.5555555555555556,
             "#d8576b"
            ],
            [
             0.6666666666666666,
             "#ed7953"
            ],
            [
             0.7777777777777778,
             "#fb9f3a"
            ],
            [
             0.8888888888888888,
             "#fdca26"
            ],
            [
             1,
             "#f0f921"
            ]
           ]
          },
          "colorway": [
           "#636efa",
           "#EF553B",
           "#00cc96",
           "#ab63fa",
           "#FFA15A",
           "#19d3f3",
           "#FF6692",
           "#B6E880",
           "#FF97FF",
           "#FECB52"
          ],
          "font": {
           "color": "#2a3f5f"
          },
          "geo": {
           "bgcolor": "white",
           "lakecolor": "white",
           "landcolor": "#E5ECF6",
           "showlakes": true,
           "showland": true,
           "subunitcolor": "white"
          },
          "hoverlabel": {
           "align": "left"
          },
          "hovermode": "closest",
          "mapbox": {
           "style": "light"
          },
          "paper_bgcolor": "white",
          "plot_bgcolor": "#E5ECF6",
          "polar": {
           "angularaxis": {
            "gridcolor": "white",
            "linecolor": "white",
            "ticks": ""
           },
           "bgcolor": "#E5ECF6",
           "radialaxis": {
            "gridcolor": "white",
            "linecolor": "white",
            "ticks": ""
           }
          },
          "scene": {
           "xaxis": {
            "backgroundcolor": "#E5ECF6",
            "gridcolor": "white",
            "gridwidth": 2,
            "linecolor": "white",
            "showbackground": true,
            "ticks": "",
            "zerolinecolor": "white"
           },
           "yaxis": {
            "backgroundcolor": "#E5ECF6",
            "gridcolor": "white",
            "gridwidth": 2,
            "linecolor": "white",
            "showbackground": true,
            "ticks": "",
            "zerolinecolor": "white"
           },
           "zaxis": {
            "backgroundcolor": "#E5ECF6",
            "gridcolor": "white",
            "gridwidth": 2,
            "linecolor": "white",
            "showbackground": true,
            "ticks": "",
            "zerolinecolor": "white"
           }
          },
          "shapedefaults": {
           "line": {
            "color": "#2a3f5f"
           }
          },
          "ternary": {
           "aaxis": {
            "gridcolor": "white",
            "linecolor": "white",
            "ticks": ""
           },
           "baxis": {
            "gridcolor": "white",
            "linecolor": "white",
            "ticks": ""
           },
           "bgcolor": "#E5ECF6",
           "caxis": {
            "gridcolor": "white",
            "linecolor": "white",
            "ticks": ""
           }
          },
          "title": {
           "x": 0.05
          },
          "xaxis": {
           "automargin": true,
           "gridcolor": "white",
           "linecolor": "white",
           "ticks": "",
           "title": {
            "standoff": 15
           },
           "zerolinecolor": "white",
           "zerolinewidth": 2
          },
          "yaxis": {
           "automargin": true,
           "gridcolor": "white",
           "linecolor": "white",
           "ticks": "",
           "title": {
            "standoff": 15
           },
           "zerolinecolor": "white",
           "zerolinewidth": 2
          }
         }
        },
        "title": {
         "text": "Oyster Happy Hour Groups (Walking)",
         "x": 0.5
        },
        "width": 1000,
        "xaxis": {
         "mirror": "allticks",
         "rangemode": "tozero",
         "showgrid": false,
         "showline": true,
         "showticklabels": true,
         "ticks": "outside",
         "type": "linear",
         "zeroline": false
        },
        "yaxis": {
         "mirror": "allticks",
         "rangemode": "tozero",
         "showgrid": false,
         "showline": true,
         "showticklabels": true,
         "tickmode": "array",
         "ticks": "outside",
         "ticktext": [
          "Heritage Restaurant & Caviar Bar",
          "Chop Shop",
          "Queen Mary",
          "Swift and Sons",
          "The Publican",
          "The Signature Lounge",
          "Prime & Provisions",
          "Tortoise Supper Club",
          "The Smith",
          "Bar Sotano",
          "Joe’s Seafood",
          "Fisk & Co.",
          "Venteux Brasserie, Cafe & Oyster Bar"
         ],
         "tickvals": [
          -5,
          -15,
          -25,
          -35,
          -45,
          -55,
          -65,
          -75,
          -85,
          -95,
          -105,
          -115,
          -125
         ],
         "type": "linear",
         "zeroline": false
        }
       }
      }
     },
     "metadata": {},
     "output_type": "display_data"
    }
   ],
   "source": [
    "fig = ff.create_dendrogram(\n",
    "        df_res_walk.values.astype(float), \n",
    "        orientation='left', \n",
    "        labels=df['Name'].to_list(),\n",
    "        color_threshold=30,\n",
    "        )\n",
    "fig.update_layout(width=1000, height=800, title_text='Oyster Happy Hour Groups (Walking)', title_x=0.5)\n",
    "fig.show()"
   ]
  },
  {
   "cell_type": "markdown",
   "metadata": {},
   "source": [
    "Let's also make a dendrogram with 10 minutes being the color grouping for the driving times."
   ]
  },
  {
   "cell_type": "code",
   "execution_count": 204,
   "metadata": {},
   "outputs": [
    {
     "data": {
      "application/vnd.plotly.v1+json": {
       "config": {
        "plotlyServerURL": "https://plot.ly"
       },
       "data": [
        {
         "hoverinfo": "text",
         "marker": {
          "color": "rgb(61,153,112)"
         },
         "mode": "lines",
         "type": "scatter",
         "x": [
          0,
          6.744071470558419,
          6.744071470558419,
          0
         ],
         "xaxis": "x",
         "y": [
          -15,
          -15,
          -25,
          -25
         ],
         "yaxis": "y"
        },
        {
         "hoverinfo": "text",
         "marker": {
          "color": "rgb(0,116,217)"
         },
         "mode": "lines",
         "type": "scatter",
         "x": [
          0,
          16.070262391552085,
          16.070262391552085,
          6.744071470558419
         ],
         "xaxis": "x",
         "y": [
          -5,
          -5,
          -20,
          -20
         ],
         "yaxis": "y"
        },
        {
         "hoverinfo": "text",
         "marker": {
          "color": "rgb(255,65,54)"
         },
         "mode": "lines",
         "type": "scatter",
         "x": [
          0,
          6.334539358855455,
          6.334539358855455,
          0
         ],
         "xaxis": "x",
         "y": [
          -35,
          -35,
          -45,
          -45
         ],
         "yaxis": "y"
        },
        {
         "hoverinfo": "text",
         "marker": {
          "color": "rgb(35,205,205)"
         },
         "mode": "lines",
         "type": "scatter",
         "x": [
          0,
          3.7578066888959456,
          3.7578066888959456,
          0
         ],
         "xaxis": "x",
         "y": [
          -65,
          -65,
          -75,
          -75
         ],
         "yaxis": "y"
        },
        {
         "hoverinfo": "text",
         "marker": {
          "color": "rgb(35,205,205)"
         },
         "mode": "lines",
         "type": "scatter",
         "x": [
          0,
          4.936372937469148,
          4.936372937469148,
          0
         ],
         "xaxis": "x",
         "y": [
          -85,
          -85,
          -95,
          -95
         ],
         "yaxis": "y"
        },
        {
         "hoverinfo": "text",
         "marker": {
          "color": "rgb(35,205,205)"
         },
         "mode": "lines",
         "type": "scatter",
         "x": [
          3.7578066888959456,
          6.18203041079547,
          6.18203041079547,
          4.936372937469148
         ],
         "xaxis": "x",
         "y": [
          -70,
          -70,
          -90,
          -90
         ],
         "yaxis": "y"
        },
        {
         "hoverinfo": "text",
         "marker": {
          "color": "rgb(35,205,205)"
         },
         "mode": "lines",
         "type": "scatter",
         "x": [
          0,
          4.277103121402512,
          4.277103121402512,
          0
         ],
         "xaxis": "x",
         "y": [
          -115,
          -115,
          -125,
          -125
         ],
         "yaxis": "y"
        },
        {
         "hoverinfo": "text",
         "marker": {
          "color": "rgb(35,205,205)"
         },
         "mode": "lines",
         "type": "scatter",
         "x": [
          0,
          7.618963913230663,
          7.618963913230663,
          4.277103121402512
         ],
         "xaxis": "x",
         "y": [
          -105,
          -105,
          -120,
          -120
         ],
         "yaxis": "y"
        },
        {
         "hoverinfo": "text",
         "marker": {
          "color": "rgb(35,205,205)"
         },
         "mode": "lines",
         "type": "scatter",
         "x": [
          6.18203041079547,
          9.826904678257318,
          9.826904678257318,
          7.618963913230663
         ],
         "xaxis": "x",
         "y": [
          -80,
          -80,
          -112.5,
          -112.5
         ],
         "yaxis": "y"
        },
        {
         "hoverinfo": "text",
         "marker": {
          "color": "rgb(0,116,217)"
         },
         "mode": "lines",
         "type": "scatter",
         "x": [
          0,
          21.944747536584796,
          21.944747536584796,
          9.826904678257318
         ],
         "xaxis": "x",
         "y": [
          -55,
          -55,
          -96.25,
          -96.25
         ],
         "yaxis": "y"
        },
        {
         "hoverinfo": "text",
         "marker": {
          "color": "rgb(0,116,217)"
         },
         "mode": "lines",
         "type": "scatter",
         "x": [
          6.334539358855455,
          26.05175937756732,
          26.05175937756732,
          21.944747536584796
         ],
         "xaxis": "x",
         "y": [
          -40,
          -40,
          -75.625,
          -75.625
         ],
         "yaxis": "y"
        },
        {
         "hoverinfo": "text",
         "marker": {
          "color": "rgb(0,116,217)"
         },
         "mode": "lines",
         "type": "scatter",
         "x": [
          16.070262391552085,
          40.211043950083614,
          40.211043950083614,
          26.05175937756732
         ],
         "xaxis": "x",
         "y": [
          -12.5,
          -12.5,
          -57.8125,
          -57.8125
         ],
         "yaxis": "y"
        }
       ],
       "layout": {
        "autosize": false,
        "height": 800,
        "hovermode": "closest",
        "showlegend": false,
        "template": {
         "data": {
          "bar": [
           {
            "error_x": {
             "color": "#2a3f5f"
            },
            "error_y": {
             "color": "#2a3f5f"
            },
            "marker": {
             "line": {
              "color": "#E5ECF6",
              "width": 0.5
             },
             "pattern": {
              "fillmode": "overlay",
              "size": 10,
              "solidity": 0.2
             }
            },
            "type": "bar"
           }
          ],
          "barpolar": [
           {
            "marker": {
             "line": {
              "color": "#E5ECF6",
              "width": 0.5
             },
             "pattern": {
              "fillmode": "overlay",
              "size": 10,
              "solidity": 0.2
             }
            },
            "type": "barpolar"
           }
          ],
          "carpet": [
           {
            "aaxis": {
             "endlinecolor": "#2a3f5f",
             "gridcolor": "white",
             "linecolor": "white",
             "minorgridcolor": "white",
             "startlinecolor": "#2a3f5f"
            },
            "baxis": {
             "endlinecolor": "#2a3f5f",
             "gridcolor": "white",
             "linecolor": "white",
             "minorgridcolor": "white",
             "startlinecolor": "#2a3f5f"
            },
            "type": "carpet"
           }
          ],
          "choropleth": [
           {
            "colorbar": {
             "outlinewidth": 0,
             "ticks": ""
            },
            "type": "choropleth"
           }
          ],
          "contour": [
           {
            "colorbar": {
             "outlinewidth": 0,
             "ticks": ""
            },
            "colorscale": [
             [
              0,
              "#0d0887"
             ],
             [
              0.1111111111111111,
              "#46039f"
             ],
             [
              0.2222222222222222,
              "#7201a8"
             ],
             [
              0.3333333333333333,
              "#9c179e"
             ],
             [
              0.4444444444444444,
              "#bd3786"
             ],
             [
              0.5555555555555556,
              "#d8576b"
             ],
             [
              0.6666666666666666,
              "#ed7953"
             ],
             [
              0.7777777777777778,
              "#fb9f3a"
             ],
             [
              0.8888888888888888,
              "#fdca26"
             ],
             [
              1,
              "#f0f921"
             ]
            ],
            "type": "contour"
           }
          ],
          "contourcarpet": [
           {
            "colorbar": {
             "outlinewidth": 0,
             "ticks": ""
            },
            "type": "contourcarpet"
           }
          ],
          "heatmap": [
           {
            "colorbar": {
             "outlinewidth": 0,
             "ticks": ""
            },
            "colorscale": [
             [
              0,
              "#0d0887"
             ],
             [
              0.1111111111111111,
              "#46039f"
             ],
             [
              0.2222222222222222,
              "#7201a8"
             ],
             [
              0.3333333333333333,
              "#9c179e"
             ],
             [
              0.4444444444444444,
              "#bd3786"
             ],
             [
              0.5555555555555556,
              "#d8576b"
             ],
             [
              0.6666666666666666,
              "#ed7953"
             ],
             [
              0.7777777777777778,
              "#fb9f3a"
             ],
             [
              0.8888888888888888,
              "#fdca26"
             ],
             [
              1,
              "#f0f921"
             ]
            ],
            "type": "heatmap"
           }
          ],
          "heatmapgl": [
           {
            "colorbar": {
             "outlinewidth": 0,
             "ticks": ""
            },
            "colorscale": [
             [
              0,
              "#0d0887"
             ],
             [
              0.1111111111111111,
              "#46039f"
             ],
             [
              0.2222222222222222,
              "#7201a8"
             ],
             [
              0.3333333333333333,
              "#9c179e"
             ],
             [
              0.4444444444444444,
              "#bd3786"
             ],
             [
              0.5555555555555556,
              "#d8576b"
             ],
             [
              0.6666666666666666,
              "#ed7953"
             ],
             [
              0.7777777777777778,
              "#fb9f3a"
             ],
             [
              0.8888888888888888,
              "#fdca26"
             ],
             [
              1,
              "#f0f921"
             ]
            ],
            "type": "heatmapgl"
           }
          ],
          "histogram": [
           {
            "marker": {
             "pattern": {
              "fillmode": "overlay",
              "size": 10,
              "solidity": 0.2
             }
            },
            "type": "histogram"
           }
          ],
          "histogram2d": [
           {
            "colorbar": {
             "outlinewidth": 0,
             "ticks": ""
            },
            "colorscale": [
             [
              0,
              "#0d0887"
             ],
             [
              0.1111111111111111,
              "#46039f"
             ],
             [
              0.2222222222222222,
              "#7201a8"
             ],
             [
              0.3333333333333333,
              "#9c179e"
             ],
             [
              0.4444444444444444,
              "#bd3786"
             ],
             [
              0.5555555555555556,
              "#d8576b"
             ],
             [
              0.6666666666666666,
              "#ed7953"
             ],
             [
              0.7777777777777778,
              "#fb9f3a"
             ],
             [
              0.8888888888888888,
              "#fdca26"
             ],
             [
              1,
              "#f0f921"
             ]
            ],
            "type": "histogram2d"
           }
          ],
          "histogram2dcontour": [
           {
            "colorbar": {
             "outlinewidth": 0,
             "ticks": ""
            },
            "colorscale": [
             [
              0,
              "#0d0887"
             ],
             [
              0.1111111111111111,
              "#46039f"
             ],
             [
              0.2222222222222222,
              "#7201a8"
             ],
             [
              0.3333333333333333,
              "#9c179e"
             ],
             [
              0.4444444444444444,
              "#bd3786"
             ],
             [
              0.5555555555555556,
              "#d8576b"
             ],
             [
              0.6666666666666666,
              "#ed7953"
             ],
             [
              0.7777777777777778,
              "#fb9f3a"
             ],
             [
              0.8888888888888888,
              "#fdca26"
             ],
             [
              1,
              "#f0f921"
             ]
            ],
            "type": "histogram2dcontour"
           }
          ],
          "mesh3d": [
           {
            "colorbar": {
             "outlinewidth": 0,
             "ticks": ""
            },
            "type": "mesh3d"
           }
          ],
          "parcoords": [
           {
            "line": {
             "colorbar": {
              "outlinewidth": 0,
              "ticks": ""
             }
            },
            "type": "parcoords"
           }
          ],
          "pie": [
           {
            "automargin": true,
            "type": "pie"
           }
          ],
          "scatter": [
           {
            "fillpattern": {
             "fillmode": "overlay",
             "size": 10,
             "solidity": 0.2
            },
            "type": "scatter"
           }
          ],
          "scatter3d": [
           {
            "line": {
             "colorbar": {
              "outlinewidth": 0,
              "ticks": ""
             }
            },
            "marker": {
             "colorbar": {
              "outlinewidth": 0,
              "ticks": ""
             }
            },
            "type": "scatter3d"
           }
          ],
          "scattercarpet": [
           {
            "marker": {
             "colorbar": {
              "outlinewidth": 0,
              "ticks": ""
             }
            },
            "type": "scattercarpet"
           }
          ],
          "scattergeo": [
           {
            "marker": {
             "colorbar": {
              "outlinewidth": 0,
              "ticks": ""
             }
            },
            "type": "scattergeo"
           }
          ],
          "scattergl": [
           {
            "marker": {
             "colorbar": {
              "outlinewidth": 0,
              "ticks": ""
             }
            },
            "type": "scattergl"
           }
          ],
          "scattermapbox": [
           {
            "marker": {
             "colorbar": {
              "outlinewidth": 0,
              "ticks": ""
             }
            },
            "type": "scattermapbox"
           }
          ],
          "scatterpolar": [
           {
            "marker": {
             "colorbar": {
              "outlinewidth": 0,
              "ticks": ""
             }
            },
            "type": "scatterpolar"
           }
          ],
          "scatterpolargl": [
           {
            "marker": {
             "colorbar": {
              "outlinewidth": 0,
              "ticks": ""
             }
            },
            "type": "scatterpolargl"
           }
          ],
          "scatterternary": [
           {
            "marker": {
             "colorbar": {
              "outlinewidth": 0,
              "ticks": ""
             }
            },
            "type": "scatterternary"
           }
          ],
          "surface": [
           {
            "colorbar": {
             "outlinewidth": 0,
             "ticks": ""
            },
            "colorscale": [
             [
              0,
              "#0d0887"
             ],
             [
              0.1111111111111111,
              "#46039f"
             ],
             [
              0.2222222222222222,
              "#7201a8"
             ],
             [
              0.3333333333333333,
              "#9c179e"
             ],
             [
              0.4444444444444444,
              "#bd3786"
             ],
             [
              0.5555555555555556,
              "#d8576b"
             ],
             [
              0.6666666666666666,
              "#ed7953"
             ],
             [
              0.7777777777777778,
              "#fb9f3a"
             ],
             [
              0.8888888888888888,
              "#fdca26"
             ],
             [
              1,
              "#f0f921"
             ]
            ],
            "type": "surface"
           }
          ],
          "table": [
           {
            "cells": {
             "fill": {
              "color": "#EBF0F8"
             },
             "line": {
              "color": "white"
             }
            },
            "header": {
             "fill": {
              "color": "#C8D4E3"
             },
             "line": {
              "color": "white"
             }
            },
            "type": "table"
           }
          ]
         },
         "layout": {
          "annotationdefaults": {
           "arrowcolor": "#2a3f5f",
           "arrowhead": 0,
           "arrowwidth": 1
          },
          "autotypenumbers": "strict",
          "coloraxis": {
           "colorbar": {
            "outlinewidth": 0,
            "ticks": ""
           }
          },
          "colorscale": {
           "diverging": [
            [
             0,
             "#8e0152"
            ],
            [
             0.1,
             "#c51b7d"
            ],
            [
             0.2,
             "#de77ae"
            ],
            [
             0.3,
             "#f1b6da"
            ],
            [
             0.4,
             "#fde0ef"
            ],
            [
             0.5,
             "#f7f7f7"
            ],
            [
             0.6,
             "#e6f5d0"
            ],
            [
             0.7,
             "#b8e186"
            ],
            [
             0.8,
             "#7fbc41"
            ],
            [
             0.9,
             "#4d9221"
            ],
            [
             1,
             "#276419"
            ]
           ],
           "sequential": [
            [
             0,
             "#0d0887"
            ],
            [
             0.1111111111111111,
             "#46039f"
            ],
            [
             0.2222222222222222,
             "#7201a8"
            ],
            [
             0.3333333333333333,
             "#9c179e"
            ],
            [
             0.4444444444444444,
             "#bd3786"
            ],
            [
             0.5555555555555556,
             "#d8576b"
            ],
            [
             0.6666666666666666,
             "#ed7953"
            ],
            [
             0.7777777777777778,
             "#fb9f3a"
            ],
            [
             0.8888888888888888,
             "#fdca26"
            ],
            [
             1,
             "#f0f921"
            ]
           ],
           "sequentialminus": [
            [
             0,
             "#0d0887"
            ],
            [
             0.1111111111111111,
             "#46039f"
            ],
            [
             0.2222222222222222,
             "#7201a8"
            ],
            [
             0.3333333333333333,
             "#9c179e"
            ],
            [
             0.4444444444444444,
             "#bd3786"
            ],
            [
             0.5555555555555556,
             "#d8576b"
            ],
            [
             0.6666666666666666,
             "#ed7953"
            ],
            [
             0.7777777777777778,
             "#fb9f3a"
            ],
            [
             0.8888888888888888,
             "#fdca26"
            ],
            [
             1,
             "#f0f921"
            ]
           ]
          },
          "colorway": [
           "#636efa",
           "#EF553B",
           "#00cc96",
           "#ab63fa",
           "#FFA15A",
           "#19d3f3",
           "#FF6692",
           "#B6E880",
           "#FF97FF",
           "#FECB52"
          ],
          "font": {
           "color": "#2a3f5f"
          },
          "geo": {
           "bgcolor": "white",
           "lakecolor": "white",
           "landcolor": "#E5ECF6",
           "showlakes": true,
           "showland": true,
           "subunitcolor": "white"
          },
          "hoverlabel": {
           "align": "left"
          },
          "hovermode": "closest",
          "mapbox": {
           "style": "light"
          },
          "paper_bgcolor": "white",
          "plot_bgcolor": "#E5ECF6",
          "polar": {
           "angularaxis": {
            "gridcolor": "white",
            "linecolor": "white",
            "ticks": ""
           },
           "bgcolor": "#E5ECF6",
           "radialaxis": {
            "gridcolor": "white",
            "linecolor": "white",
            "ticks": ""
           }
          },
          "scene": {
           "xaxis": {
            "backgroundcolor": "#E5ECF6",
            "gridcolor": "white",
            "gridwidth": 2,
            "linecolor": "white",
            "showbackground": true,
            "ticks": "",
            "zerolinecolor": "white"
           },
           "yaxis": {
            "backgroundcolor": "#E5ECF6",
            "gridcolor": "white",
            "gridwidth": 2,
            "linecolor": "white",
            "showbackground": true,
            "ticks": "",
            "zerolinecolor": "white"
           },
           "zaxis": {
            "backgroundcolor": "#E5ECF6",
            "gridcolor": "white",
            "gridwidth": 2,
            "linecolor": "white",
            "showbackground": true,
            "ticks": "",
            "zerolinecolor": "white"
           }
          },
          "shapedefaults": {
           "line": {
            "color": "#2a3f5f"
           }
          },
          "ternary": {
           "aaxis": {
            "gridcolor": "white",
            "linecolor": "white",
            "ticks": ""
           },
           "baxis": {
            "gridcolor": "white",
            "linecolor": "white",
            "ticks": ""
           },
           "bgcolor": "#E5ECF6",
           "caxis": {
            "gridcolor": "white",
            "linecolor": "white",
            "ticks": ""
           }
          },
          "title": {
           "x": 0.05
          },
          "xaxis": {
           "automargin": true,
           "gridcolor": "white",
           "linecolor": "white",
           "ticks": "",
           "title": {
            "standoff": 15
           },
           "zerolinecolor": "white",
           "zerolinewidth": 2
          },
          "yaxis": {
           "automargin": true,
           "gridcolor": "white",
           "linecolor": "white",
           "ticks": "",
           "title": {
            "standoff": 15
           },
           "zerolinecolor": "white",
           "zerolinewidth": 2
          }
         }
        },
        "title": {
         "text": "Oyster Happy Hour Groups (Driving)",
         "x": 0.5
        },
        "width": 1000,
        "xaxis": {
         "mirror": "allticks",
         "rangemode": "tozero",
         "showgrid": false,
         "showline": true,
         "showticklabels": true,
         "ticks": "outside",
         "type": "linear",
         "zeroline": false
        },
        "yaxis": {
         "mirror": "allticks",
         "rangemode": "tozero",
         "showgrid": false,
         "showline": true,
         "showticklabels": true,
         "tickmode": "array",
         "ticks": "outside",
         "ticktext": [
          "Heritage Restaurant & Caviar Bar",
          "Chop Shop",
          "Queen Mary",
          "Swift and Sons",
          "The Publican",
          "The Signature Lounge",
          "Venteux Brasserie, Cafe & Oyster Bar",
          "Joe’s Seafood",
          "Fisk & Co.",
          "Tortoise Supper Club",
          "Prime & Provisions",
          "The Smith",
          "Bar Sotano"
         ],
         "tickvals": [
          -5,
          -15,
          -25,
          -35,
          -45,
          -55,
          -65,
          -75,
          -85,
          -95,
          -105,
          -115,
          -125
         ],
         "type": "linear",
         "zeroline": false
        }
       }
      }
     },
     "metadata": {},
     "output_type": "display_data"
    }
   ],
   "source": [
    "fig = ff.create_dendrogram(\n",
    "        df_res_drive.values.astype(float), \n",
    "        orientation='left', \n",
    "        labels=df['Name'].to_list(),\n",
    "        color_threshold=10,\n",
    "        )\n",
    "fig.update_layout(width=1000, height=800, title_text='Oyster Happy Hour Groups (Driving)', title_x=0.5)\n",
    "fig.show()"
   ]
  },
  {
   "cell_type": "markdown",
   "metadata": {},
   "source": [
    "This is a great start to mapping out the ideal trajectory. However, we now have to deal with the fact that these happy hours can be on different days and have slightly different time windows. This may be problematic and we may have to adjust our initial naive distance based groups above. Let's try and do some visualizations based on thes available timing intervals. We want to bring in cluster groupings from above to color on top of our time intervals. Since plotly is using hierarchical clustering to draw its plots, we'll just use sklearn's AgglomerativeClustering algorithm to get similar clusterings."
   ]
  },
  {
   "cell_type": "code",
   "execution_count": 186,
   "metadata": {},
   "outputs": [],
   "source": [
    "from sklearn.cluster import AgglomerativeClustering\n",
    "\n",
    "cluster = AgglomerativeClustering(n_clusters=6, linkage='single')\n",
    "df['walking_cluster'] = cluster.fit_predict(df_res_walk.values.astype(float))\n",
    "df['driving_cluster'] = cluster.fit_predict(df_res_drive.values.astype(float))"
   ]
  },
  {
   "cell_type": "code",
   "execution_count": 188,
   "metadata": {},
   "outputs": [
    {
     "data": {
      "text/html": [
       "<div>\n",
       "<style scoped>\n",
       "    .dataframe tbody tr th:only-of-type {\n",
       "        vertical-align: middle;\n",
       "    }\n",
       "\n",
       "    .dataframe tbody tr th {\n",
       "        vertical-align: top;\n",
       "    }\n",
       "\n",
       "    .dataframe thead th {\n",
       "        text-align: right;\n",
       "    }\n",
       "</style>\n",
       "<table border=\"1\" class=\"dataframe\">\n",
       "  <thead>\n",
       "    <tr style=\"text-align: right;\">\n",
       "      <th></th>\n",
       "      <th>Name</th>\n",
       "      <th>walking_cluster</th>\n",
       "      <th>driving_cluster</th>\n",
       "    </tr>\n",
       "  </thead>\n",
       "  <tbody>\n",
       "    <tr>\n",
       "      <th>0</th>\n",
       "      <td>Swift and Sons</td>\n",
       "      <td>2</td>\n",
       "      <td>1</td>\n",
       "    </tr>\n",
       "    <tr>\n",
       "      <th>1</th>\n",
       "      <td>The Publican</td>\n",
       "      <td>2</td>\n",
       "      <td>1</td>\n",
       "    </tr>\n",
       "    <tr>\n",
       "      <th>2</th>\n",
       "      <td>Prime &amp; Provisions</td>\n",
       "      <td>0</td>\n",
       "      <td>5</td>\n",
       "    </tr>\n",
       "    <tr>\n",
       "      <th>3</th>\n",
       "      <td>Fisk &amp; Co.</td>\n",
       "      <td>0</td>\n",
       "      <td>3</td>\n",
       "    </tr>\n",
       "    <tr>\n",
       "      <th>4</th>\n",
       "      <td>Venteux Brasserie, Cafe &amp; Oyster Bar</td>\n",
       "      <td>0</td>\n",
       "      <td>3</td>\n",
       "    </tr>\n",
       "    <tr>\n",
       "      <th>5</th>\n",
       "      <td>Tortoise Supper Club</td>\n",
       "      <td>0</td>\n",
       "      <td>3</td>\n",
       "    </tr>\n",
       "    <tr>\n",
       "      <th>6</th>\n",
       "      <td>The Smith</td>\n",
       "      <td>0</td>\n",
       "      <td>3</td>\n",
       "    </tr>\n",
       "    <tr>\n",
       "      <th>7</th>\n",
       "      <td>Bar Sotano</td>\n",
       "      <td>0</td>\n",
       "      <td>3</td>\n",
       "    </tr>\n",
       "    <tr>\n",
       "      <th>8</th>\n",
       "      <td>Joe’s Seafood</td>\n",
       "      <td>0</td>\n",
       "      <td>3</td>\n",
       "    </tr>\n",
       "    <tr>\n",
       "      <th>9</th>\n",
       "      <td>The Signature Lounge</td>\n",
       "      <td>4</td>\n",
       "      <td>2</td>\n",
       "    </tr>\n",
       "    <tr>\n",
       "      <th>10</th>\n",
       "      <td>Chop Shop</td>\n",
       "      <td>3</td>\n",
       "      <td>0</td>\n",
       "    </tr>\n",
       "    <tr>\n",
       "      <th>11</th>\n",
       "      <td>Queen Mary</td>\n",
       "      <td>5</td>\n",
       "      <td>0</td>\n",
       "    </tr>\n",
       "    <tr>\n",
       "      <th>12</th>\n",
       "      <td>Heritage Restaurant &amp; Caviar Bar</td>\n",
       "      <td>1</td>\n",
       "      <td>4</td>\n",
       "    </tr>\n",
       "  </tbody>\n",
       "</table>\n",
       "</div>"
      ],
      "text/plain": [
       "                                    Name  walking_cluster  driving_cluster\n",
       "0                         Swift and Sons                2                1\n",
       "1                           The Publican                2                1\n",
       "2                     Prime & Provisions                0                5\n",
       "3                             Fisk & Co.                0                3\n",
       "4   Venteux Brasserie, Cafe & Oyster Bar                0                3\n",
       "5                   Tortoise Supper Club                0                3\n",
       "6                              The Smith                0                3\n",
       "7                             Bar Sotano                0                3\n",
       "8                          Joe’s Seafood                0                3\n",
       "9                   The Signature Lounge                4                2\n",
       "10                             Chop Shop                3                0\n",
       "11                            Queen Mary                5                0\n",
       "12      Heritage Restaurant & Caviar Bar                1                4"
      ]
     },
     "execution_count": 188,
     "metadata": {},
     "output_type": "execute_result"
    }
   ],
   "source": [
    "df[['Name', 'walking_cluster', 'driving_cluster']]"
   ]
  },
  {
   "cell_type": "markdown",
   "metadata": {},
   "source": [
    "In order to visualize the timing intervals, we'll bring in a table that has a little bit neater data that was organized from the master table. This table has information on each day and the specific hours for those days for each location."
   ]
  },
  {
   "cell_type": "code",
   "execution_count": 149,
   "metadata": {},
   "outputs": [],
   "source": [
    "df_inters = pd.read_html('data/Chicago Oy 2d952.html')[1]"
   ]
  },
  {
   "cell_type": "code",
   "execution_count": 150,
   "metadata": {},
   "outputs": [
    {
     "data": {
      "text/html": [
       "<div>\n",
       "<style scoped>\n",
       "    .dataframe tbody tr th:only-of-type {\n",
       "        vertical-align: middle;\n",
       "    }\n",
       "\n",
       "    .dataframe tbody tr th {\n",
       "        vertical-align: top;\n",
       "    }\n",
       "\n",
       "    .dataframe thead th {\n",
       "        text-align: right;\n",
       "    }\n",
       "</style>\n",
       "<table border=\"1\" class=\"dataframe\">\n",
       "  <thead>\n",
       "    <tr style=\"text-align: right;\">\n",
       "      <th></th>\n",
       "      <th>Name</th>\n",
       "      <th>Interval</th>\n",
       "      <th>Monday</th>\n",
       "      <th>Tuesday</th>\n",
       "      <th>Wednesday</th>\n",
       "      <th>Thursday</th>\n",
       "      <th>Friday</th>\n",
       "      <th>Saturday</th>\n",
       "      <th>Sunday</th>\n",
       "    </tr>\n",
       "  </thead>\n",
       "  <tbody>\n",
       "    <tr>\n",
       "      <th>0</th>\n",
       "      <td>Swift and Sons</td>\n",
       "      <td>16:00-18:30</td>\n",
       "      <td>Yes</td>\n",
       "      <td>Yes</td>\n",
       "      <td>Yes</td>\n",
       "      <td>Yes</td>\n",
       "      <td>Yes</td>\n",
       "      <td>NaN</td>\n",
       "      <td>NaN</td>\n",
       "    </tr>\n",
       "    <tr>\n",
       "      <th>1</th>\n",
       "      <td>The Publican</td>\n",
       "      <td>16:00-18:00</td>\n",
       "      <td>Yes</td>\n",
       "      <td>Yes</td>\n",
       "      <td>Yes</td>\n",
       "      <td>Yes</td>\n",
       "      <td>Yes</td>\n",
       "      <td>NaN</td>\n",
       "      <td>NaN</td>\n",
       "    </tr>\n",
       "    <tr>\n",
       "      <th>2</th>\n",
       "      <td>Prime &amp; Provisions</td>\n",
       "      <td>16:00-18:00</td>\n",
       "      <td>Yes</td>\n",
       "      <td>Yes</td>\n",
       "      <td>Yes</td>\n",
       "      <td>Yes</td>\n",
       "      <td>Yes</td>\n",
       "      <td>NaN</td>\n",
       "      <td>NaN</td>\n",
       "    </tr>\n",
       "    <tr>\n",
       "      <th>3</th>\n",
       "      <td>Fisk &amp; Co.</td>\n",
       "      <td>16:00-18:00</td>\n",
       "      <td>Yes</td>\n",
       "      <td>Yes</td>\n",
       "      <td>Yes</td>\n",
       "      <td>Yes</td>\n",
       "      <td>NaN</td>\n",
       "      <td>NaN</td>\n",
       "      <td>NaN</td>\n",
       "    </tr>\n",
       "    <tr>\n",
       "      <th>4</th>\n",
       "      <td>Venteux Brasserie, Cafe &amp; Oyster Bar</td>\n",
       "      <td>16:00-18:00</td>\n",
       "      <td>NaN</td>\n",
       "      <td>Yes</td>\n",
       "      <td>Yes</td>\n",
       "      <td>Yes</td>\n",
       "      <td>Yes</td>\n",
       "      <td>NaN</td>\n",
       "      <td>NaN</td>\n",
       "    </tr>\n",
       "  </tbody>\n",
       "</table>\n",
       "</div>"
      ],
      "text/plain": [
       "                                   Name     Interval Monday Tuesday Wednesday  \\\n",
       "0                        Swift and Sons  16:00-18:30    Yes     Yes       Yes   \n",
       "1                          The Publican  16:00-18:00    Yes     Yes       Yes   \n",
       "2                    Prime & Provisions  16:00-18:00    Yes     Yes       Yes   \n",
       "3                            Fisk & Co.  16:00-18:00    Yes     Yes       Yes   \n",
       "4  Venteux Brasserie, Cafe & Oyster Bar  16:00-18:00    NaN     Yes       Yes   \n",
       "\n",
       "  Thursday Friday Saturday Sunday  \n",
       "0      Yes    Yes      NaN    NaN  \n",
       "1      Yes    Yes      NaN    NaN  \n",
       "2      Yes    Yes      NaN    NaN  \n",
       "3      Yes    NaN      NaN    NaN  \n",
       "4      Yes    Yes      NaN    NaN  "
      ]
     },
     "execution_count": 150,
     "metadata": {},
     "output_type": "execute_result"
    }
   ],
   "source": [
    "df_inters.head()"
   ]
  },
  {
   "cell_type": "code",
   "execution_count": 151,
   "metadata": {},
   "outputs": [],
   "source": [
    "from datetime import datetime\n",
    "import hashlib"
   ]
  },
  {
   "cell_type": "code",
   "execution_count": 198,
   "metadata": {},
   "outputs": [],
   "source": [
    "\n",
    "df_inters['Start'] = df_inters['Interval'].apply(lambda x: datetime(2020, 1, 1, int(x.split('-')[0].split(':')[0]), int(x.split('-')[0].split(':')[1])))\n",
    "df_inters['Finish'] = df_inters['Interval'].apply(lambda x: datetime(2020, 1, 1, int(x.split('-')[1].split(':')[0]), int(x.split('-')[1].split(':')[1])))\n",
    "df_inters['Task'] = df_inters['Name']\n",
    "\n",
    "\n",
    "\n",
    "\n",
    "# We need to have a way to color by our clusters from above\n",
    "def colFromStr(inputString):\n",
    "    hashedString = hashlib.sha256(inputString.encode())\n",
    "    return hashedString.hexdigest()[len(hashedString.hexdigest())-6:] \n",
    "\n",
    "colours = {}\n",
    "for name in df_inters['Name'].unique():\n",
    "    key = f\"Cluster {df[df['Name'] == name]['driving_cluster'].values[0]}\"\n",
    "    colour = colFromStr(str(key))\n",
    "    colours[name] = f\"#{colour}\"\n",
    "\n",
    "def draw_gantt_day(df: pd.DataFrame, day: str) -> None:\n",
    "    if day not in ['Monday', 'Tuesday', 'Wednesday', 'Thursday', 'Friday', 'Saturday', 'Sunday']:\n",
    "        raise Exception('Invalid day')\n",
    "    df_day = df[df[day] == 'Yes']\n",
    "    fig = ff.create_gantt(df_day, index_col='Task', colors=colours,\n",
    "                            #show_colorbar=True, \n",
    "                            #group_tasks=True, \n",
    "                            showgrid_x=True, showgrid_y=True, \n",
    "                            title=f'Oyster Happy Hour {day}')\n",
    "    fig.show()\n",
    "    return\n",
    "\n"
   ]
  },
  {
   "cell_type": "code",
   "execution_count": 205,
   "metadata": {},
   "outputs": [
    {
     "data": {
      "application/vnd.plotly.v1+json": {
       "config": {
        "plotlyServerURL": "https://plot.ly"
       },
       "data": [
        {
         "fill": "toself",
         "fillcolor": "rgb(140, 58, 135)",
         "hoverinfo": "name",
         "legendgroup": "rgb(140, 58, 135)",
         "mode": "none",
         "name": "The Smith",
         "type": "scatter",
         "x": [
          "2020-01-01T16:00:00",
          "2020-01-01T18:00:00",
          "2020-01-01T18:00:00",
          "2020-01-01T16:00:00",
          "2020-01-01T16:00:00",
          "2020-01-01T15:00:00",
          "2020-01-01T18:00:00",
          "2020-01-01T18:00:00",
          "2020-01-01T15:00:00",
          "2020-01-01T15:00:00",
          "2020-01-01T14:00:00",
          "2020-01-01T16:00:00",
          "2020-01-01T16:00:00",
          "2020-01-01T14:00:00"
         ],
         "y": [
          2.8,
          2.8,
          3.2,
          3.2,
          null,
          3.8,
          3.8,
          4.2,
          4.2,
          null,
          4.8,
          4.8,
          5.2,
          5.2
         ]
        },
        {
         "fill": "toself",
         "fillcolor": "rgb(60, 161, 210)",
         "hoverinfo": "name",
         "legendgroup": "rgb(60, 161, 210)",
         "mode": "none",
         "name": "Prime & Provisions",
         "type": "scatter",
         "x": [
          "2020-01-01T16:00:00",
          "2020-01-01T18:00:00",
          "2020-01-01T18:00:00",
          "2020-01-01T16:00:00"
         ],
         "y": [
          1.8,
          1.8,
          2.2,
          2.2
         ]
        },
        {
         "fill": "toself",
         "fillcolor": "rgb(80, 197, 45)",
         "hoverinfo": "name",
         "legendgroup": "rgb(80, 197, 45)",
         "mode": "none",
         "name": "The Publican",
         "type": "scatter",
         "x": [
          "2020-01-01T16:00:00",
          "2020-01-01T18:30:00",
          "2020-01-01T18:30:00",
          "2020-01-01T16:00:00",
          "2020-01-01T16:00:00",
          "2020-01-01T16:00:00",
          "2020-01-01T18:00:00",
          "2020-01-01T18:00:00",
          "2020-01-01T16:00:00"
         ],
         "y": [
          -0.2,
          -0.2,
          0.2,
          0.2,
          null,
          0.8,
          0.8,
          1.2,
          1.2
         ]
        },
        {
         "fill": "toself",
         "fillcolor": "rgb(81, 214, 35)",
         "hoverinfo": "name",
         "legendgroup": "rgb(81, 214, 35)",
         "mode": "none",
         "name": "Heritage Restaurant & Caviar Bar",
         "type": "scatter",
         "x": [
          "2020-01-01T16:00:00",
          "2020-01-01T18:00:00",
          "2020-01-01T18:00:00",
          "2020-01-01T16:00:00"
         ],
         "y": [
          6.8,
          6.8,
          7.2,
          7.2
         ]
        },
        {
         "fill": "toself",
         "fillcolor": "rgb(9, 38, 59)",
         "hoverinfo": "name",
         "legendgroup": "rgb(9, 38, 59)",
         "mode": "none",
         "name": "Queen Mary",
         "type": "scatter",
         "x": [
          "2020-01-01T17:00:00",
          "2020-01-01T19:00:00",
          "2020-01-01T19:00:00",
          "2020-01-01T17:00:00"
         ],
         "y": [
          5.8,
          5.8,
          6.2,
          6.2
         ]
        },
        {
         "legendgroup": "rgb(140, 58, 135)",
         "marker": {
          "color": "rgb(140, 58, 135)",
          "opacity": 0,
          "size": 1
         },
         "mode": "markers",
         "name": "",
         "showlegend": false,
         "text": [
          null,
          null,
          null,
          null,
          null,
          null
         ],
         "type": "scatter",
         "x": [
          "2020-01-01T16:00:00",
          "2020-01-01T18:00:00",
          "2020-01-01T15:00:00",
          "2020-01-01T18:00:00",
          "2020-01-01T14:00:00",
          "2020-01-01T16:00:00"
         ],
         "y": [
          3,
          3,
          4,
          4,
          5,
          5
         ]
        },
        {
         "legendgroup": "rgb(60, 161, 210)",
         "marker": {
          "color": "rgb(60, 161, 210)",
          "opacity": 0,
          "size": 1
         },
         "mode": "markers",
         "name": "",
         "showlegend": false,
         "text": [
          null,
          null
         ],
         "type": "scatter",
         "x": [
          "2020-01-01T16:00:00",
          "2020-01-01T18:00:00"
         ],
         "y": [
          2,
          2
         ]
        },
        {
         "legendgroup": "rgb(80, 197, 45)",
         "marker": {
          "color": "rgb(80, 197, 45)",
          "opacity": 0,
          "size": 1
         },
         "mode": "markers",
         "name": "",
         "showlegend": false,
         "text": [
          null,
          null,
          null,
          null
         ],
         "type": "scatter",
         "x": [
          "2020-01-01T16:00:00",
          "2020-01-01T18:30:00",
          "2020-01-01T16:00:00",
          "2020-01-01T18:00:00"
         ],
         "y": [
          0,
          0,
          1,
          1
         ]
        },
        {
         "legendgroup": "rgb(81, 214, 35)",
         "marker": {
          "color": "rgb(81, 214, 35)",
          "opacity": 0,
          "size": 1
         },
         "mode": "markers",
         "name": "",
         "showlegend": false,
         "text": [
          null,
          null
         ],
         "type": "scatter",
         "x": [
          "2020-01-01T16:00:00",
          "2020-01-01T18:00:00"
         ],
         "y": [
          7,
          7
         ]
        },
        {
         "legendgroup": "rgb(9, 38, 59)",
         "marker": {
          "color": "rgb(9, 38, 59)",
          "opacity": 0,
          "size": 1
         },
         "mode": "markers",
         "name": "",
         "showlegend": false,
         "text": [
          null,
          null
         ],
         "type": "scatter",
         "x": [
          "2020-01-01T17:00:00",
          "2020-01-01T19:00:00"
         ],
         "y": [
          6,
          6
         ]
        }
       ],
       "layout": {
        "height": 600,
        "hovermode": "closest",
        "showlegend": false,
        "template": {
         "data": {
          "bar": [
           {
            "error_x": {
             "color": "#2a3f5f"
            },
            "error_y": {
             "color": "#2a3f5f"
            },
            "marker": {
             "line": {
              "color": "#E5ECF6",
              "width": 0.5
             },
             "pattern": {
              "fillmode": "overlay",
              "size": 10,
              "solidity": 0.2
             }
            },
            "type": "bar"
           }
          ],
          "barpolar": [
           {
            "marker": {
             "line": {
              "color": "#E5ECF6",
              "width": 0.5
             },
             "pattern": {
              "fillmode": "overlay",
              "size": 10,
              "solidity": 0.2
             }
            },
            "type": "barpolar"
           }
          ],
          "carpet": [
           {
            "aaxis": {
             "endlinecolor": "#2a3f5f",
             "gridcolor": "white",
             "linecolor": "white",
             "minorgridcolor": "white",
             "startlinecolor": "#2a3f5f"
            },
            "baxis": {
             "endlinecolor": "#2a3f5f",
             "gridcolor": "white",
             "linecolor": "white",
             "minorgridcolor": "white",
             "startlinecolor": "#2a3f5f"
            },
            "type": "carpet"
           }
          ],
          "choropleth": [
           {
            "colorbar": {
             "outlinewidth": 0,
             "ticks": ""
            },
            "type": "choropleth"
           }
          ],
          "contour": [
           {
            "colorbar": {
             "outlinewidth": 0,
             "ticks": ""
            },
            "colorscale": [
             [
              0,
              "#0d0887"
             ],
             [
              0.1111111111111111,
              "#46039f"
             ],
             [
              0.2222222222222222,
              "#7201a8"
             ],
             [
              0.3333333333333333,
              "#9c179e"
             ],
             [
              0.4444444444444444,
              "#bd3786"
             ],
             [
              0.5555555555555556,
              "#d8576b"
             ],
             [
              0.6666666666666666,
              "#ed7953"
             ],
             [
              0.7777777777777778,
              "#fb9f3a"
             ],
             [
              0.8888888888888888,
              "#fdca26"
             ],
             [
              1,
              "#f0f921"
             ]
            ],
            "type": "contour"
           }
          ],
          "contourcarpet": [
           {
            "colorbar": {
             "outlinewidth": 0,
             "ticks": ""
            },
            "type": "contourcarpet"
           }
          ],
          "heatmap": [
           {
            "colorbar": {
             "outlinewidth": 0,
             "ticks": ""
            },
            "colorscale": [
             [
              0,
              "#0d0887"
             ],
             [
              0.1111111111111111,
              "#46039f"
             ],
             [
              0.2222222222222222,
              "#7201a8"
             ],
             [
              0.3333333333333333,
              "#9c179e"
             ],
             [
              0.4444444444444444,
              "#bd3786"
             ],
             [
              0.5555555555555556,
              "#d8576b"
             ],
             [
              0.6666666666666666,
              "#ed7953"
             ],
             [
              0.7777777777777778,
              "#fb9f3a"
             ],
             [
              0.8888888888888888,
              "#fdca26"
             ],
             [
              1,
              "#f0f921"
             ]
            ],
            "type": "heatmap"
           }
          ],
          "heatmapgl": [
           {
            "colorbar": {
             "outlinewidth": 0,
             "ticks": ""
            },
            "colorscale": [
             [
              0,
              "#0d0887"
             ],
             [
              0.1111111111111111,
              "#46039f"
             ],
             [
              0.2222222222222222,
              "#7201a8"
             ],
             [
              0.3333333333333333,
              "#9c179e"
             ],
             [
              0.4444444444444444,
              "#bd3786"
             ],
             [
              0.5555555555555556,
              "#d8576b"
             ],
             [
              0.6666666666666666,
              "#ed7953"
             ],
             [
              0.7777777777777778,
              "#fb9f3a"
             ],
             [
              0.8888888888888888,
              "#fdca26"
             ],
             [
              1,
              "#f0f921"
             ]
            ],
            "type": "heatmapgl"
           }
          ],
          "histogram": [
           {
            "marker": {
             "pattern": {
              "fillmode": "overlay",
              "size": 10,
              "solidity": 0.2
             }
            },
            "type": "histogram"
           }
          ],
          "histogram2d": [
           {
            "colorbar": {
             "outlinewidth": 0,
             "ticks": ""
            },
            "colorscale": [
             [
              0,
              "#0d0887"
             ],
             [
              0.1111111111111111,
              "#46039f"
             ],
             [
              0.2222222222222222,
              "#7201a8"
             ],
             [
              0.3333333333333333,
              "#9c179e"
             ],
             [
              0.4444444444444444,
              "#bd3786"
             ],
             [
              0.5555555555555556,
              "#d8576b"
             ],
             [
              0.6666666666666666,
              "#ed7953"
             ],
             [
              0.7777777777777778,
              "#fb9f3a"
             ],
             [
              0.8888888888888888,
              "#fdca26"
             ],
             [
              1,
              "#f0f921"
             ]
            ],
            "type": "histogram2d"
           }
          ],
          "histogram2dcontour": [
           {
            "colorbar": {
             "outlinewidth": 0,
             "ticks": ""
            },
            "colorscale": [
             [
              0,
              "#0d0887"
             ],
             [
              0.1111111111111111,
              "#46039f"
             ],
             [
              0.2222222222222222,
              "#7201a8"
             ],
             [
              0.3333333333333333,
              "#9c179e"
             ],
             [
              0.4444444444444444,
              "#bd3786"
             ],
             [
              0.5555555555555556,
              "#d8576b"
             ],
             [
              0.6666666666666666,
              "#ed7953"
             ],
             [
              0.7777777777777778,
              "#fb9f3a"
             ],
             [
              0.8888888888888888,
              "#fdca26"
             ],
             [
              1,
              "#f0f921"
             ]
            ],
            "type": "histogram2dcontour"
           }
          ],
          "mesh3d": [
           {
            "colorbar": {
             "outlinewidth": 0,
             "ticks": ""
            },
            "type": "mesh3d"
           }
          ],
          "parcoords": [
           {
            "line": {
             "colorbar": {
              "outlinewidth": 0,
              "ticks": ""
             }
            },
            "type": "parcoords"
           }
          ],
          "pie": [
           {
            "automargin": true,
            "type": "pie"
           }
          ],
          "scatter": [
           {
            "fillpattern": {
             "fillmode": "overlay",
             "size": 10,
             "solidity": 0.2
            },
            "type": "scatter"
           }
          ],
          "scatter3d": [
           {
            "line": {
             "colorbar": {
              "outlinewidth": 0,
              "ticks": ""
             }
            },
            "marker": {
             "colorbar": {
              "outlinewidth": 0,
              "ticks": ""
             }
            },
            "type": "scatter3d"
           }
          ],
          "scattercarpet": [
           {
            "marker": {
             "colorbar": {
              "outlinewidth": 0,
              "ticks": ""
             }
            },
            "type": "scattercarpet"
           }
          ],
          "scattergeo": [
           {
            "marker": {
             "colorbar": {
              "outlinewidth": 0,
              "ticks": ""
             }
            },
            "type": "scattergeo"
           }
          ],
          "scattergl": [
           {
            "marker": {
             "colorbar": {
              "outlinewidth": 0,
              "ticks": ""
             }
            },
            "type": "scattergl"
           }
          ],
          "scattermapbox": [
           {
            "marker": {
             "colorbar": {
              "outlinewidth": 0,
              "ticks": ""
             }
            },
            "type": "scattermapbox"
           }
          ],
          "scatterpolar": [
           {
            "marker": {
             "colorbar": {
              "outlinewidth": 0,
              "ticks": ""
             }
            },
            "type": "scatterpolar"
           }
          ],
          "scatterpolargl": [
           {
            "marker": {
             "colorbar": {
              "outlinewidth": 0,
              "ticks": ""
             }
            },
            "type": "scatterpolargl"
           }
          ],
          "scatterternary": [
           {
            "marker": {
             "colorbar": {
              "outlinewidth": 0,
              "ticks": ""
             }
            },
            "type": "scatterternary"
           }
          ],
          "surface": [
           {
            "colorbar": {
             "outlinewidth": 0,
             "ticks": ""
            },
            "colorscale": [
             [
              0,
              "#0d0887"
             ],
             [
              0.1111111111111111,
              "#46039f"
             ],
             [
              0.2222222222222222,
              "#7201a8"
             ],
             [
              0.3333333333333333,
              "#9c179e"
             ],
             [
              0.4444444444444444,
              "#bd3786"
             ],
             [
              0.5555555555555556,
              "#d8576b"
             ],
             [
              0.6666666666666666,
              "#ed7953"
             ],
             [
              0.7777777777777778,
              "#fb9f3a"
             ],
             [
              0.8888888888888888,
              "#fdca26"
             ],
             [
              1,
              "#f0f921"
             ]
            ],
            "type": "surface"
           }
          ],
          "table": [
           {
            "cells": {
             "fill": {
              "color": "#EBF0F8"
             },
             "line": {
              "color": "white"
             }
            },
            "header": {
             "fill": {
              "color": "#C8D4E3"
             },
             "line": {
              "color": "white"
             }
            },
            "type": "table"
           }
          ]
         },
         "layout": {
          "annotationdefaults": {
           "arrowcolor": "#2a3f5f",
           "arrowhead": 0,
           "arrowwidth": 1
          },
          "autotypenumbers": "strict",
          "coloraxis": {
           "colorbar": {
            "outlinewidth": 0,
            "ticks": ""
           }
          },
          "colorscale": {
           "diverging": [
            [
             0,
             "#8e0152"
            ],
            [
             0.1,
             "#c51b7d"
            ],
            [
             0.2,
             "#de77ae"
            ],
            [
             0.3,
             "#f1b6da"
            ],
            [
             0.4,
             "#fde0ef"
            ],
            [
             0.5,
             "#f7f7f7"
            ],
            [
             0.6,
             "#e6f5d0"
            ],
            [
             0.7,
             "#b8e186"
            ],
            [
             0.8,
             "#7fbc41"
            ],
            [
             0.9,
             "#4d9221"
            ],
            [
             1,
             "#276419"
            ]
           ],
           "sequential": [
            [
             0,
             "#0d0887"
            ],
            [
             0.1111111111111111,
             "#46039f"
            ],
            [
             0.2222222222222222,
             "#7201a8"
            ],
            [
             0.3333333333333333,
             "#9c179e"
            ],
            [
             0.4444444444444444,
             "#bd3786"
            ],
            [
             0.5555555555555556,
             "#d8576b"
            ],
            [
             0.6666666666666666,
             "#ed7953"
            ],
            [
             0.7777777777777778,
             "#fb9f3a"
            ],
            [
             0.8888888888888888,
             "#fdca26"
            ],
            [
             1,
             "#f0f921"
            ]
           ],
           "sequentialminus": [
            [
             0,
             "#0d0887"
            ],
            [
             0.1111111111111111,
             "#46039f"
            ],
            [
             0.2222222222222222,
             "#7201a8"
            ],
            [
             0.3333333333333333,
             "#9c179e"
            ],
            [
             0.4444444444444444,
             "#bd3786"
            ],
            [
             0.5555555555555556,
             "#d8576b"
            ],
            [
             0.6666666666666666,
             "#ed7953"
            ],
            [
             0.7777777777777778,
             "#fb9f3a"
            ],
            [
             0.8888888888888888,
             "#fdca26"
            ],
            [
             1,
             "#f0f921"
            ]
           ]
          },
          "colorway": [
           "#636efa",
           "#EF553B",
           "#00cc96",
           "#ab63fa",
           "#FFA15A",
           "#19d3f3",
           "#FF6692",
           "#B6E880",
           "#FF97FF",
           "#FECB52"
          ],
          "font": {
           "color": "#2a3f5f"
          },
          "geo": {
           "bgcolor": "white",
           "lakecolor": "white",
           "landcolor": "#E5ECF6",
           "showlakes": true,
           "showland": true,
           "subunitcolor": "white"
          },
          "hoverlabel": {
           "align": "left"
          },
          "hovermode": "closest",
          "mapbox": {
           "style": "light"
          },
          "paper_bgcolor": "white",
          "plot_bgcolor": "#E5ECF6",
          "polar": {
           "angularaxis": {
            "gridcolor": "white",
            "linecolor": "white",
            "ticks": ""
           },
           "bgcolor": "#E5ECF6",
           "radialaxis": {
            "gridcolor": "white",
            "linecolor": "white",
            "ticks": ""
           }
          },
          "scene": {
           "xaxis": {
            "backgroundcolor": "#E5ECF6",
            "gridcolor": "white",
            "gridwidth": 2,
            "linecolor": "white",
            "showbackground": true,
            "ticks": "",
            "zerolinecolor": "white"
           },
           "yaxis": {
            "backgroundcolor": "#E5ECF6",
            "gridcolor": "white",
            "gridwidth": 2,
            "linecolor": "white",
            "showbackground": true,
            "ticks": "",
            "zerolinecolor": "white"
           },
           "zaxis": {
            "backgroundcolor": "#E5ECF6",
            "gridcolor": "white",
            "gridwidth": 2,
            "linecolor": "white",
            "showbackground": true,
            "ticks": "",
            "zerolinecolor": "white"
           }
          },
          "shapedefaults": {
           "line": {
            "color": "#2a3f5f"
           }
          },
          "ternary": {
           "aaxis": {
            "gridcolor": "white",
            "linecolor": "white",
            "ticks": ""
           },
           "baxis": {
            "gridcolor": "white",
            "linecolor": "white",
            "ticks": ""
           },
           "bgcolor": "#E5ECF6",
           "caxis": {
            "gridcolor": "white",
            "linecolor": "white",
            "ticks": ""
           }
          },
          "title": {
           "x": 0.05
          },
          "xaxis": {
           "automargin": true,
           "gridcolor": "white",
           "linecolor": "white",
           "ticks": "",
           "title": {
            "standoff": 15
           },
           "zerolinecolor": "white",
           "zerolinewidth": 2
          },
          "yaxis": {
           "automargin": true,
           "gridcolor": "white",
           "linecolor": "white",
           "ticks": "",
           "title": {
            "standoff": 15
           },
           "zerolinecolor": "white",
           "zerolinewidth": 2
          }
         }
        },
        "title": {
         "text": "Oyster Happy Hour Monday"
        },
        "xaxis": {
         "rangeselector": {
          "buttons": [
           {
            "count": 7,
            "label": "1w",
            "step": "day",
            "stepmode": "backward"
           },
           {
            "count": 1,
            "label": "1m",
            "step": "month",
            "stepmode": "backward"
           },
           {
            "count": 6,
            "label": "6m",
            "step": "month",
            "stepmode": "backward"
           },
           {
            "count": 1,
            "label": "YTD",
            "step": "year",
            "stepmode": "todate"
           },
           {
            "count": 1,
            "label": "1y",
            "step": "year",
            "stepmode": "backward"
           },
           {
            "step": "all"
           }
          ]
         },
         "showgrid": true,
         "type": "date",
         "zeroline": false
        },
        "yaxis": {
         "autorange": false,
         "range": [
          -1,
          9
         ],
         "showgrid": true,
         "ticktext": [
          "Swift and Sons",
          "The Publican",
          "Prime & Provisions",
          "Fisk & Co.",
          "The Smith",
          "Joe’s Seafood",
          "Queen Mary",
          "Heritage Restaurant & Caviar Bar"
         ],
         "tickvals": [
          0,
          1,
          2,
          3,
          4,
          5,
          6,
          7
         ],
         "zeroline": false
        }
       }
      }
     },
     "metadata": {},
     "output_type": "display_data"
    },
    {
     "data": {
      "application/vnd.plotly.v1+json": {
       "config": {
        "plotlyServerURL": "https://plot.ly"
       },
       "data": [
        {
         "fill": "toself",
         "fillcolor": "rgb(140, 58, 135)",
         "hoverinfo": "name",
         "legendgroup": "rgb(140, 58, 135)",
         "mode": "none",
         "name": "Venteux Brasserie, Cafe & Oyster Bar",
         "type": "scatter",
         "x": [
          "2020-01-01T16:00:00",
          "2020-01-01T18:00:00",
          "2020-01-01T18:00:00",
          "2020-01-01T16:00:00",
          "2020-01-01T16:00:00",
          "2020-01-01T16:00:00",
          "2020-01-01T18:00:00",
          "2020-01-01T18:00:00",
          "2020-01-01T16:00:00",
          "2020-01-01T16:00:00",
          "2020-01-01T15:00:00",
          "2020-01-01T18:00:00",
          "2020-01-01T18:00:00",
          "2020-01-01T15:00:00",
          "2020-01-01T15:00:00",
          "2020-01-01T14:00:00",
          "2020-01-01T16:00:00",
          "2020-01-01T16:00:00",
          "2020-01-01T14:00:00"
         ],
         "y": [
          2.8,
          2.8,
          3.2,
          3.2,
          null,
          3.8,
          3.8,
          4.2,
          4.2,
          null,
          4.8,
          4.8,
          5.2,
          5.2,
          null,
          5.8,
          5.8,
          6.2,
          6.2
         ]
        },
        {
         "fill": "toself",
         "fillcolor": "rgb(60, 161, 210)",
         "hoverinfo": "name",
         "legendgroup": "rgb(60, 161, 210)",
         "mode": "none",
         "name": "Prime & Provisions",
         "type": "scatter",
         "x": [
          "2020-01-01T16:00:00",
          "2020-01-01T18:00:00",
          "2020-01-01T18:00:00",
          "2020-01-01T16:00:00"
         ],
         "y": [
          1.8,
          1.8,
          2.2,
          2.2
         ]
        },
        {
         "fill": "toself",
         "fillcolor": "rgb(80, 197, 45)",
         "hoverinfo": "name",
         "legendgroup": "rgb(80, 197, 45)",
         "mode": "none",
         "name": "The Publican",
         "type": "scatter",
         "x": [
          "2020-01-01T16:00:00",
          "2020-01-01T18:30:00",
          "2020-01-01T18:30:00",
          "2020-01-01T16:00:00",
          "2020-01-01T16:00:00",
          "2020-01-01T16:00:00",
          "2020-01-01T18:00:00",
          "2020-01-01T18:00:00",
          "2020-01-01T16:00:00"
         ],
         "y": [
          -0.2,
          -0.2,
          0.2,
          0.2,
          null,
          0.8,
          0.8,
          1.2,
          1.2
         ]
        },
        {
         "fill": "toself",
         "fillcolor": "rgb(81, 214, 35)",
         "hoverinfo": "name",
         "legendgroup": "rgb(81, 214, 35)",
         "mode": "none",
         "name": "Heritage Restaurant & Caviar Bar",
         "type": "scatter",
         "x": [
          "2020-01-01T16:00:00",
          "2020-01-01T18:00:00",
          "2020-01-01T18:00:00",
          "2020-01-01T16:00:00"
         ],
         "y": [
          6.8,
          6.8,
          7.2,
          7.2
         ]
        },
        {
         "legendgroup": "rgb(140, 58, 135)",
         "marker": {
          "color": "rgb(140, 58, 135)",
          "opacity": 0,
          "size": 1
         },
         "mode": "markers",
         "name": "",
         "showlegend": false,
         "text": [
          null,
          null,
          null,
          null,
          null,
          null,
          null,
          null
         ],
         "type": "scatter",
         "x": [
          "2020-01-01T16:00:00",
          "2020-01-01T18:00:00",
          "2020-01-01T16:00:00",
          "2020-01-01T18:00:00",
          "2020-01-01T15:00:00",
          "2020-01-01T18:00:00",
          "2020-01-01T14:00:00",
          "2020-01-01T16:00:00"
         ],
         "y": [
          3,
          3,
          4,
          4,
          5,
          5,
          6,
          6
         ]
        },
        {
         "legendgroup": "rgb(60, 161, 210)",
         "marker": {
          "color": "rgb(60, 161, 210)",
          "opacity": 0,
          "size": 1
         },
         "mode": "markers",
         "name": "",
         "showlegend": false,
         "text": [
          null,
          null
         ],
         "type": "scatter",
         "x": [
          "2020-01-01T16:00:00",
          "2020-01-01T18:00:00"
         ],
         "y": [
          2,
          2
         ]
        },
        {
         "legendgroup": "rgb(80, 197, 45)",
         "marker": {
          "color": "rgb(80, 197, 45)",
          "opacity": 0,
          "size": 1
         },
         "mode": "markers",
         "name": "",
         "showlegend": false,
         "text": [
          null,
          null,
          null,
          null
         ],
         "type": "scatter",
         "x": [
          "2020-01-01T16:00:00",
          "2020-01-01T18:30:00",
          "2020-01-01T16:00:00",
          "2020-01-01T18:00:00"
         ],
         "y": [
          0,
          0,
          1,
          1
         ]
        },
        {
         "legendgroup": "rgb(81, 214, 35)",
         "marker": {
          "color": "rgb(81, 214, 35)",
          "opacity": 0,
          "size": 1
         },
         "mode": "markers",
         "name": "",
         "showlegend": false,
         "text": [
          null,
          null
         ],
         "type": "scatter",
         "x": [
          "2020-01-01T16:00:00",
          "2020-01-01T18:00:00"
         ],
         "y": [
          7,
          7
         ]
        }
       ],
       "layout": {
        "height": 600,
        "hovermode": "closest",
        "showlegend": false,
        "template": {
         "data": {
          "bar": [
           {
            "error_x": {
             "color": "#2a3f5f"
            },
            "error_y": {
             "color": "#2a3f5f"
            },
            "marker": {
             "line": {
              "color": "#E5ECF6",
              "width": 0.5
             },
             "pattern": {
              "fillmode": "overlay",
              "size": 10,
              "solidity": 0.2
             }
            },
            "type": "bar"
           }
          ],
          "barpolar": [
           {
            "marker": {
             "line": {
              "color": "#E5ECF6",
              "width": 0.5
             },
             "pattern": {
              "fillmode": "overlay",
              "size": 10,
              "solidity": 0.2
             }
            },
            "type": "barpolar"
           }
          ],
          "carpet": [
           {
            "aaxis": {
             "endlinecolor": "#2a3f5f",
             "gridcolor": "white",
             "linecolor": "white",
             "minorgridcolor": "white",
             "startlinecolor": "#2a3f5f"
            },
            "baxis": {
             "endlinecolor": "#2a3f5f",
             "gridcolor": "white",
             "linecolor": "white",
             "minorgridcolor": "white",
             "startlinecolor": "#2a3f5f"
            },
            "type": "carpet"
           }
          ],
          "choropleth": [
           {
            "colorbar": {
             "outlinewidth": 0,
             "ticks": ""
            },
            "type": "choropleth"
           }
          ],
          "contour": [
           {
            "colorbar": {
             "outlinewidth": 0,
             "ticks": ""
            },
            "colorscale": [
             [
              0,
              "#0d0887"
             ],
             [
              0.1111111111111111,
              "#46039f"
             ],
             [
              0.2222222222222222,
              "#7201a8"
             ],
             [
              0.3333333333333333,
              "#9c179e"
             ],
             [
              0.4444444444444444,
              "#bd3786"
             ],
             [
              0.5555555555555556,
              "#d8576b"
             ],
             [
              0.6666666666666666,
              "#ed7953"
             ],
             [
              0.7777777777777778,
              "#fb9f3a"
             ],
             [
              0.8888888888888888,
              "#fdca26"
             ],
             [
              1,
              "#f0f921"
             ]
            ],
            "type": "contour"
           }
          ],
          "contourcarpet": [
           {
            "colorbar": {
             "outlinewidth": 0,
             "ticks": ""
            },
            "type": "contourcarpet"
           }
          ],
          "heatmap": [
           {
            "colorbar": {
             "outlinewidth": 0,
             "ticks": ""
            },
            "colorscale": [
             [
              0,
              "#0d0887"
             ],
             [
              0.1111111111111111,
              "#46039f"
             ],
             [
              0.2222222222222222,
              "#7201a8"
             ],
             [
              0.3333333333333333,
              "#9c179e"
             ],
             [
              0.4444444444444444,
              "#bd3786"
             ],
             [
              0.5555555555555556,
              "#d8576b"
             ],
             [
              0.6666666666666666,
              "#ed7953"
             ],
             [
              0.7777777777777778,
              "#fb9f3a"
             ],
             [
              0.8888888888888888,
              "#fdca26"
             ],
             [
              1,
              "#f0f921"
             ]
            ],
            "type": "heatmap"
           }
          ],
          "heatmapgl": [
           {
            "colorbar": {
             "outlinewidth": 0,
             "ticks": ""
            },
            "colorscale": [
             [
              0,
              "#0d0887"
             ],
             [
              0.1111111111111111,
              "#46039f"
             ],
             [
              0.2222222222222222,
              "#7201a8"
             ],
             [
              0.3333333333333333,
              "#9c179e"
             ],
             [
              0.4444444444444444,
              "#bd3786"
             ],
             [
              0.5555555555555556,
              "#d8576b"
             ],
             [
              0.6666666666666666,
              "#ed7953"
             ],
             [
              0.7777777777777778,
              "#fb9f3a"
             ],
             [
              0.8888888888888888,
              "#fdca26"
             ],
             [
              1,
              "#f0f921"
             ]
            ],
            "type": "heatmapgl"
           }
          ],
          "histogram": [
           {
            "marker": {
             "pattern": {
              "fillmode": "overlay",
              "size": 10,
              "solidity": 0.2
             }
            },
            "type": "histogram"
           }
          ],
          "histogram2d": [
           {
            "colorbar": {
             "outlinewidth": 0,
             "ticks": ""
            },
            "colorscale": [
             [
              0,
              "#0d0887"
             ],
             [
              0.1111111111111111,
              "#46039f"
             ],
             [
              0.2222222222222222,
              "#7201a8"
             ],
             [
              0.3333333333333333,
              "#9c179e"
             ],
             [
              0.4444444444444444,
              "#bd3786"
             ],
             [
              0.5555555555555556,
              "#d8576b"
             ],
             [
              0.6666666666666666,
              "#ed7953"
             ],
             [
              0.7777777777777778,
              "#fb9f3a"
             ],
             [
              0.8888888888888888,
              "#fdca26"
             ],
             [
              1,
              "#f0f921"
             ]
            ],
            "type": "histogram2d"
           }
          ],
          "histogram2dcontour": [
           {
            "colorbar": {
             "outlinewidth": 0,
             "ticks": ""
            },
            "colorscale": [
             [
              0,
              "#0d0887"
             ],
             [
              0.1111111111111111,
              "#46039f"
             ],
             [
              0.2222222222222222,
              "#7201a8"
             ],
             [
              0.3333333333333333,
              "#9c179e"
             ],
             [
              0.4444444444444444,
              "#bd3786"
             ],
             [
              0.5555555555555556,
              "#d8576b"
             ],
             [
              0.6666666666666666,
              "#ed7953"
             ],
             [
              0.7777777777777778,
              "#fb9f3a"
             ],
             [
              0.8888888888888888,
              "#fdca26"
             ],
             [
              1,
              "#f0f921"
             ]
            ],
            "type": "histogram2dcontour"
           }
          ],
          "mesh3d": [
           {
            "colorbar": {
             "outlinewidth": 0,
             "ticks": ""
            },
            "type": "mesh3d"
           }
          ],
          "parcoords": [
           {
            "line": {
             "colorbar": {
              "outlinewidth": 0,
              "ticks": ""
             }
            },
            "type": "parcoords"
           }
          ],
          "pie": [
           {
            "automargin": true,
            "type": "pie"
           }
          ],
          "scatter": [
           {
            "fillpattern": {
             "fillmode": "overlay",
             "size": 10,
             "solidity": 0.2
            },
            "type": "scatter"
           }
          ],
          "scatter3d": [
           {
            "line": {
             "colorbar": {
              "outlinewidth": 0,
              "ticks": ""
             }
            },
            "marker": {
             "colorbar": {
              "outlinewidth": 0,
              "ticks": ""
             }
            },
            "type": "scatter3d"
           }
          ],
          "scattercarpet": [
           {
            "marker": {
             "colorbar": {
              "outlinewidth": 0,
              "ticks": ""
             }
            },
            "type": "scattercarpet"
           }
          ],
          "scattergeo": [
           {
            "marker": {
             "colorbar": {
              "outlinewidth": 0,
              "ticks": ""
             }
            },
            "type": "scattergeo"
           }
          ],
          "scattergl": [
           {
            "marker": {
             "colorbar": {
              "outlinewidth": 0,
              "ticks": ""
             }
            },
            "type": "scattergl"
           }
          ],
          "scattermapbox": [
           {
            "marker": {
             "colorbar": {
              "outlinewidth": 0,
              "ticks": ""
             }
            },
            "type": "scattermapbox"
           }
          ],
          "scatterpolar": [
           {
            "marker": {
             "colorbar": {
              "outlinewidth": 0,
              "ticks": ""
             }
            },
            "type": "scatterpolar"
           }
          ],
          "scatterpolargl": [
           {
            "marker": {
             "colorbar": {
              "outlinewidth": 0,
              "ticks": ""
             }
            },
            "type": "scatterpolargl"
           }
          ],
          "scatterternary": [
           {
            "marker": {
             "colorbar": {
              "outlinewidth": 0,
              "ticks": ""
             }
            },
            "type": "scatterternary"
           }
          ],
          "surface": [
           {
            "colorbar": {
             "outlinewidth": 0,
             "ticks": ""
            },
            "colorscale": [
             [
              0,
              "#0d0887"
             ],
             [
              0.1111111111111111,
              "#46039f"
             ],
             [
              0.2222222222222222,
              "#7201a8"
             ],
             [
              0.3333333333333333,
              "#9c179e"
             ],
             [
              0.4444444444444444,
              "#bd3786"
             ],
             [
              0.5555555555555556,
              "#d8576b"
             ],
             [
              0.6666666666666666,
              "#ed7953"
             ],
             [
              0.7777777777777778,
              "#fb9f3a"
             ],
             [
              0.8888888888888888,
              "#fdca26"
             ],
             [
              1,
              "#f0f921"
             ]
            ],
            "type": "surface"
           }
          ],
          "table": [
           {
            "cells": {
             "fill": {
              "color": "#EBF0F8"
             },
             "line": {
              "color": "white"
             }
            },
            "header": {
             "fill": {
              "color": "#C8D4E3"
             },
             "line": {
              "color": "white"
             }
            },
            "type": "table"
           }
          ]
         },
         "layout": {
          "annotationdefaults": {
           "arrowcolor": "#2a3f5f",
           "arrowhead": 0,
           "arrowwidth": 1
          },
          "autotypenumbers": "strict",
          "coloraxis": {
           "colorbar": {
            "outlinewidth": 0,
            "ticks": ""
           }
          },
          "colorscale": {
           "diverging": [
            [
             0,
             "#8e0152"
            ],
            [
             0.1,
             "#c51b7d"
            ],
            [
             0.2,
             "#de77ae"
            ],
            [
             0.3,
             "#f1b6da"
            ],
            [
             0.4,
             "#fde0ef"
            ],
            [
             0.5,
             "#f7f7f7"
            ],
            [
             0.6,
             "#e6f5d0"
            ],
            [
             0.7,
             "#b8e186"
            ],
            [
             0.8,
             "#7fbc41"
            ],
            [
             0.9,
             "#4d9221"
            ],
            [
             1,
             "#276419"
            ]
           ],
           "sequential": [
            [
             0,
             "#0d0887"
            ],
            [
             0.1111111111111111,
             "#46039f"
            ],
            [
             0.2222222222222222,
             "#7201a8"
            ],
            [
             0.3333333333333333,
             "#9c179e"
            ],
            [
             0.4444444444444444,
             "#bd3786"
            ],
            [
             0.5555555555555556,
             "#d8576b"
            ],
            [
             0.6666666666666666,
             "#ed7953"
            ],
            [
             0.7777777777777778,
             "#fb9f3a"
            ],
            [
             0.8888888888888888,
             "#fdca26"
            ],
            [
             1,
             "#f0f921"
            ]
           ],
           "sequentialminus": [
            [
             0,
             "#0d0887"
            ],
            [
             0.1111111111111111,
             "#46039f"
            ],
            [
             0.2222222222222222,
             "#7201a8"
            ],
            [
             0.3333333333333333,
             "#9c179e"
            ],
            [
             0.4444444444444444,
             "#bd3786"
            ],
            [
             0.5555555555555556,
             "#d8576b"
            ],
            [
             0.6666666666666666,
             "#ed7953"
            ],
            [
             0.7777777777777778,
             "#fb9f3a"
            ],
            [
             0.8888888888888888,
             "#fdca26"
            ],
            [
             1,
             "#f0f921"
            ]
           ]
          },
          "colorway": [
           "#636efa",
           "#EF553B",
           "#00cc96",
           "#ab63fa",
           "#FFA15A",
           "#19d3f3",
           "#FF6692",
           "#B6E880",
           "#FF97FF",
           "#FECB52"
          ],
          "font": {
           "color": "#2a3f5f"
          },
          "geo": {
           "bgcolor": "white",
           "lakecolor": "white",
           "landcolor": "#E5ECF6",
           "showlakes": true,
           "showland": true,
           "subunitcolor": "white"
          },
          "hoverlabel": {
           "align": "left"
          },
          "hovermode": "closest",
          "mapbox": {
           "style": "light"
          },
          "paper_bgcolor": "white",
          "plot_bgcolor": "#E5ECF6",
          "polar": {
           "angularaxis": {
            "gridcolor": "white",
            "linecolor": "white",
            "ticks": ""
           },
           "bgcolor": "#E5ECF6",
           "radialaxis": {
            "gridcolor": "white",
            "linecolor": "white",
            "ticks": ""
           }
          },
          "scene": {
           "xaxis": {
            "backgroundcolor": "#E5ECF6",
            "gridcolor": "white",
            "gridwidth": 2,
            "linecolor": "white",
            "showbackground": true,
            "ticks": "",
            "zerolinecolor": "white"
           },
           "yaxis": {
            "backgroundcolor": "#E5ECF6",
            "gridcolor": "white",
            "gridwidth": 2,
            "linecolor": "white",
            "showbackground": true,
            "ticks": "",
            "zerolinecolor": "white"
           },
           "zaxis": {
            "backgroundcolor": "#E5ECF6",
            "gridcolor": "white",
            "gridwidth": 2,
            "linecolor": "white",
            "showbackground": true,
            "ticks": "",
            "zerolinecolor": "white"
           }
          },
          "shapedefaults": {
           "line": {
            "color": "#2a3f5f"
           }
          },
          "ternary": {
           "aaxis": {
            "gridcolor": "white",
            "linecolor": "white",
            "ticks": ""
           },
           "baxis": {
            "gridcolor": "white",
            "linecolor": "white",
            "ticks": ""
           },
           "bgcolor": "#E5ECF6",
           "caxis": {
            "gridcolor": "white",
            "linecolor": "white",
            "ticks": ""
           }
          },
          "title": {
           "x": 0.05
          },
          "xaxis": {
           "automargin": true,
           "gridcolor": "white",
           "linecolor": "white",
           "ticks": "",
           "title": {
            "standoff": 15
           },
           "zerolinecolor": "white",
           "zerolinewidth": 2
          },
          "yaxis": {
           "automargin": true,
           "gridcolor": "white",
           "linecolor": "white",
           "ticks": "",
           "title": {
            "standoff": 15
           },
           "zerolinecolor": "white",
           "zerolinewidth": 2
          }
         }
        },
        "title": {
         "text": "Oyster Happy Hour Tuesday"
        },
        "xaxis": {
         "rangeselector": {
          "buttons": [
           {
            "count": 7,
            "label": "1w",
            "step": "day",
            "stepmode": "backward"
           },
           {
            "count": 1,
            "label": "1m",
            "step": "month",
            "stepmode": "backward"
           },
           {
            "count": 6,
            "label": "6m",
            "step": "month",
            "stepmode": "backward"
           },
           {
            "count": 1,
            "label": "YTD",
            "step": "year",
            "stepmode": "todate"
           },
           {
            "count": 1,
            "label": "1y",
            "step": "year",
            "stepmode": "backward"
           },
           {
            "step": "all"
           }
          ]
         },
         "showgrid": true,
         "type": "date",
         "zeroline": false
        },
        "yaxis": {
         "autorange": false,
         "range": [
          -1,
          9
         ],
         "showgrid": true,
         "ticktext": [
          "Swift and Sons",
          "The Publican",
          "Prime & Provisions",
          "Fisk & Co.",
          "Venteux Brasserie, Cafe & Oyster Bar",
          "The Smith",
          "Joe’s Seafood",
          "Heritage Restaurant & Caviar Bar"
         ],
         "tickvals": [
          0,
          1,
          2,
          3,
          4,
          5,
          6,
          7
         ],
         "zeroline": false
        }
       }
      }
     },
     "metadata": {},
     "output_type": "display_data"
    },
    {
     "data": {
      "application/vnd.plotly.v1+json": {
       "config": {
        "plotlyServerURL": "https://plot.ly"
       },
       "data": [
        {
         "fill": "toself",
         "fillcolor": "rgb(140, 58, 135)",
         "hoverinfo": "name",
         "legendgroup": "rgb(140, 58, 135)",
         "mode": "none",
         "name": "Venteux Brasserie, Cafe & Oyster Bar",
         "type": "scatter",
         "x": [
          "2020-01-01T16:00:00",
          "2020-01-01T18:00:00",
          "2020-01-01T18:00:00",
          "2020-01-01T16:00:00",
          "2020-01-01T16:00:00",
          "2020-01-01T16:00:00",
          "2020-01-01T18:00:00",
          "2020-01-01T18:00:00",
          "2020-01-01T16:00:00",
          "2020-01-01T16:00:00",
          "2020-01-01T16:30:00",
          "2020-01-01T18:30:00",
          "2020-01-01T18:30:00",
          "2020-01-01T16:30:00",
          "2020-01-01T16:30:00",
          "2020-01-01T15:00:00",
          "2020-01-01T18:00:00",
          "2020-01-01T18:00:00",
          "2020-01-01T15:00:00",
          "2020-01-01T15:00:00",
          "2020-01-01T00:00:00",
          "2020-01-01T23:59:00",
          "2020-01-01T23:59:00",
          "2020-01-01T00:00:00",
          "2020-01-01T00:00:00",
          "2020-01-01T14:00:00",
          "2020-01-01T16:00:00",
          "2020-01-01T16:00:00",
          "2020-01-01T14:00:00"
         ],
         "y": [
          2.8,
          2.8,
          3.2,
          3.2,
          null,
          3.8,
          3.8,
          4.2,
          4.2,
          null,
          4.8,
          4.8,
          5.2,
          5.2,
          null,
          5.8,
          5.8,
          6.2,
          6.2,
          null,
          6.8,
          6.8,
          7.2,
          7.2,
          null,
          7.8,
          7.8,
          8.2,
          8.2
         ]
        },
        {
         "fill": "toself",
         "fillcolor": "rgb(159, 174, 64)",
         "hoverinfo": "name",
         "legendgroup": "rgb(159, 174, 64)",
         "mode": "none",
         "name": "The Signature Lounge",
         "type": "scatter",
         "x": [
          "2020-01-01T15:00:00",
          "2020-01-01T22:00:00",
          "2020-01-01T22:00:00",
          "2020-01-01T15:00:00"
         ],
         "y": [
          8.8,
          8.8,
          9.2,
          9.2
         ]
        },
        {
         "fill": "toself",
         "fillcolor": "rgb(60, 161, 210)",
         "hoverinfo": "name",
         "legendgroup": "rgb(60, 161, 210)",
         "mode": "none",
         "name": "Prime & Provisions",
         "type": "scatter",
         "x": [
          "2020-01-01T16:00:00",
          "2020-01-01T18:00:00",
          "2020-01-01T18:00:00",
          "2020-01-01T16:00:00"
         ],
         "y": [
          1.8,
          1.8,
          2.2,
          2.2
         ]
        },
        {
         "fill": "toself",
         "fillcolor": "rgb(80, 197, 45)",
         "hoverinfo": "name",
         "legendgroup": "rgb(80, 197, 45)",
         "mode": "none",
         "name": "The Publican",
         "type": "scatter",
         "x": [
          "2020-01-01T16:00:00",
          "2020-01-01T18:30:00",
          "2020-01-01T18:30:00",
          "2020-01-01T16:00:00",
          "2020-01-01T16:00:00",
          "2020-01-01T16:00:00",
          "2020-01-01T18:00:00",
          "2020-01-01T18:00:00",
          "2020-01-01T16:00:00"
         ],
         "y": [
          -0.2,
          -0.2,
          0.2,
          0.2,
          null,
          0.8,
          0.8,
          1.2,
          1.2
         ]
        },
        {
         "fill": "toself",
         "fillcolor": "rgb(81, 214, 35)",
         "hoverinfo": "name",
         "legendgroup": "rgb(81, 214, 35)",
         "mode": "none",
         "name": "Heritage Restaurant & Caviar Bar",
         "type": "scatter",
         "x": [
          "2020-01-01T16:00:00",
          "2020-01-01T18:00:00",
          "2020-01-01T18:00:00",
          "2020-01-01T16:00:00"
         ],
         "y": [
          10.8,
          10.8,
          11.2,
          11.2
         ]
        },
        {
         "fill": "toself",
         "fillcolor": "rgb(9, 38, 59)",
         "hoverinfo": "name",
         "legendgroup": "rgb(9, 38, 59)",
         "mode": "none",
         "name": "Chop Shop",
         "type": "scatter",
         "x": [
          "2020-01-01T17:00:00",
          "2020-01-01T19:00:00",
          "2020-01-01T19:00:00",
          "2020-01-01T17:00:00"
         ],
         "y": [
          9.8,
          9.8,
          10.2,
          10.2
         ]
        },
        {
         "legendgroup": "rgb(140, 58, 135)",
         "marker": {
          "color": "rgb(140, 58, 135)",
          "opacity": 0,
          "size": 1
         },
         "mode": "markers",
         "name": "",
         "showlegend": false,
         "text": [
          null,
          null,
          null,
          null,
          null,
          null,
          null,
          null,
          null,
          null,
          null,
          null
         ],
         "type": "scatter",
         "x": [
          "2020-01-01T16:00:00",
          "2020-01-01T18:00:00",
          "2020-01-01T16:00:00",
          "2020-01-01T18:00:00",
          "2020-01-01T16:30:00",
          "2020-01-01T18:30:00",
          "2020-01-01T15:00:00",
          "2020-01-01T18:00:00",
          "2020-01-01T00:00:00",
          "2020-01-01T23:59:00",
          "2020-01-01T14:00:00",
          "2020-01-01T16:00:00"
         ],
         "y": [
          3,
          3,
          4,
          4,
          5,
          5,
          6,
          6,
          7,
          7,
          8,
          8
         ]
        },
        {
         "legendgroup": "rgb(159, 174, 64)",
         "marker": {
          "color": "rgb(159, 174, 64)",
          "opacity": 0,
          "size": 1
         },
         "mode": "markers",
         "name": "",
         "showlegend": false,
         "text": [
          null,
          null
         ],
         "type": "scatter",
         "x": [
          "2020-01-01T15:00:00",
          "2020-01-01T22:00:00"
         ],
         "y": [
          9,
          9
         ]
        },
        {
         "legendgroup": "rgb(60, 161, 210)",
         "marker": {
          "color": "rgb(60, 161, 210)",
          "opacity": 0,
          "size": 1
         },
         "mode": "markers",
         "name": "",
         "showlegend": false,
         "text": [
          null,
          null
         ],
         "type": "scatter",
         "x": [
          "2020-01-01T16:00:00",
          "2020-01-01T18:00:00"
         ],
         "y": [
          2,
          2
         ]
        },
        {
         "legendgroup": "rgb(80, 197, 45)",
         "marker": {
          "color": "rgb(80, 197, 45)",
          "opacity": 0,
          "size": 1
         },
         "mode": "markers",
         "name": "",
         "showlegend": false,
         "text": [
          null,
          null,
          null,
          null
         ],
         "type": "scatter",
         "x": [
          "2020-01-01T16:00:00",
          "2020-01-01T18:30:00",
          "2020-01-01T16:00:00",
          "2020-01-01T18:00:00"
         ],
         "y": [
          0,
          0,
          1,
          1
         ]
        },
        {
         "legendgroup": "rgb(81, 214, 35)",
         "marker": {
          "color": "rgb(81, 214, 35)",
          "opacity": 0,
          "size": 1
         },
         "mode": "markers",
         "name": "",
         "showlegend": false,
         "text": [
          null,
          null
         ],
         "type": "scatter",
         "x": [
          "2020-01-01T16:00:00",
          "2020-01-01T18:00:00"
         ],
         "y": [
          11,
          11
         ]
        },
        {
         "legendgroup": "rgb(9, 38, 59)",
         "marker": {
          "color": "rgb(9, 38, 59)",
          "opacity": 0,
          "size": 1
         },
         "mode": "markers",
         "name": "",
         "showlegend": false,
         "text": [
          null,
          null
         ],
         "type": "scatter",
         "x": [
          "2020-01-01T17:00:00",
          "2020-01-01T19:00:00"
         ],
         "y": [
          10,
          10
         ]
        }
       ],
       "layout": {
        "height": 600,
        "hovermode": "closest",
        "showlegend": false,
        "template": {
         "data": {
          "bar": [
           {
            "error_x": {
             "color": "#2a3f5f"
            },
            "error_y": {
             "color": "#2a3f5f"
            },
            "marker": {
             "line": {
              "color": "#E5ECF6",
              "width": 0.5
             },
             "pattern": {
              "fillmode": "overlay",
              "size": 10,
              "solidity": 0.2
             }
            },
            "type": "bar"
           }
          ],
          "barpolar": [
           {
            "marker": {
             "line": {
              "color": "#E5ECF6",
              "width": 0.5
             },
             "pattern": {
              "fillmode": "overlay",
              "size": 10,
              "solidity": 0.2
             }
            },
            "type": "barpolar"
           }
          ],
          "carpet": [
           {
            "aaxis": {
             "endlinecolor": "#2a3f5f",
             "gridcolor": "white",
             "linecolor": "white",
             "minorgridcolor": "white",
             "startlinecolor": "#2a3f5f"
            },
            "baxis": {
             "endlinecolor": "#2a3f5f",
             "gridcolor": "white",
             "linecolor": "white",
             "minorgridcolor": "white",
             "startlinecolor": "#2a3f5f"
            },
            "type": "carpet"
           }
          ],
          "choropleth": [
           {
            "colorbar": {
             "outlinewidth": 0,
             "ticks": ""
            },
            "type": "choropleth"
           }
          ],
          "contour": [
           {
            "colorbar": {
             "outlinewidth": 0,
             "ticks": ""
            },
            "colorscale": [
             [
              0,
              "#0d0887"
             ],
             [
              0.1111111111111111,
              "#46039f"
             ],
             [
              0.2222222222222222,
              "#7201a8"
             ],
             [
              0.3333333333333333,
              "#9c179e"
             ],
             [
              0.4444444444444444,
              "#bd3786"
             ],
             [
              0.5555555555555556,
              "#d8576b"
             ],
             [
              0.6666666666666666,
              "#ed7953"
             ],
             [
              0.7777777777777778,
              "#fb9f3a"
             ],
             [
              0.8888888888888888,
              "#fdca26"
             ],
             [
              1,
              "#f0f921"
             ]
            ],
            "type": "contour"
           }
          ],
          "contourcarpet": [
           {
            "colorbar": {
             "outlinewidth": 0,
             "ticks": ""
            },
            "type": "contourcarpet"
           }
          ],
          "heatmap": [
           {
            "colorbar": {
             "outlinewidth": 0,
             "ticks": ""
            },
            "colorscale": [
             [
              0,
              "#0d0887"
             ],
             [
              0.1111111111111111,
              "#46039f"
             ],
             [
              0.2222222222222222,
              "#7201a8"
             ],
             [
              0.3333333333333333,
              "#9c179e"
             ],
             [
              0.4444444444444444,
              "#bd3786"
             ],
             [
              0.5555555555555556,
              "#d8576b"
             ],
             [
              0.6666666666666666,
              "#ed7953"
             ],
             [
              0.7777777777777778,
              "#fb9f3a"
             ],
             [
              0.8888888888888888,
              "#fdca26"
             ],
             [
              1,
              "#f0f921"
             ]
            ],
            "type": "heatmap"
           }
          ],
          "heatmapgl": [
           {
            "colorbar": {
             "outlinewidth": 0,
             "ticks": ""
            },
            "colorscale": [
             [
              0,
              "#0d0887"
             ],
             [
              0.1111111111111111,
              "#46039f"
             ],
             [
              0.2222222222222222,
              "#7201a8"
             ],
             [
              0.3333333333333333,
              "#9c179e"
             ],
             [
              0.4444444444444444,
              "#bd3786"
             ],
             [
              0.5555555555555556,
              "#d8576b"
             ],
             [
              0.6666666666666666,
              "#ed7953"
             ],
             [
              0.7777777777777778,
              "#fb9f3a"
             ],
             [
              0.8888888888888888,
              "#fdca26"
             ],
             [
              1,
              "#f0f921"
             ]
            ],
            "type": "heatmapgl"
           }
          ],
          "histogram": [
           {
            "marker": {
             "pattern": {
              "fillmode": "overlay",
              "size": 10,
              "solidity": 0.2
             }
            },
            "type": "histogram"
           }
          ],
          "histogram2d": [
           {
            "colorbar": {
             "outlinewidth": 0,
             "ticks": ""
            },
            "colorscale": [
             [
              0,
              "#0d0887"
             ],
             [
              0.1111111111111111,
              "#46039f"
             ],
             [
              0.2222222222222222,
              "#7201a8"
             ],
             [
              0.3333333333333333,
              "#9c179e"
             ],
             [
              0.4444444444444444,
              "#bd3786"
             ],
             [
              0.5555555555555556,
              "#d8576b"
             ],
             [
              0.6666666666666666,
              "#ed7953"
             ],
             [
              0.7777777777777778,
              "#fb9f3a"
             ],
             [
              0.8888888888888888,
              "#fdca26"
             ],
             [
              1,
              "#f0f921"
             ]
            ],
            "type": "histogram2d"
           }
          ],
          "histogram2dcontour": [
           {
            "colorbar": {
             "outlinewidth": 0,
             "ticks": ""
            },
            "colorscale": [
             [
              0,
              "#0d0887"
             ],
             [
              0.1111111111111111,
              "#46039f"
             ],
             [
              0.2222222222222222,
              "#7201a8"
             ],
             [
              0.3333333333333333,
              "#9c179e"
             ],
             [
              0.4444444444444444,
              "#bd3786"
             ],
             [
              0.5555555555555556,
              "#d8576b"
             ],
             [
              0.6666666666666666,
              "#ed7953"
             ],
             [
              0.7777777777777778,
              "#fb9f3a"
             ],
             [
              0.8888888888888888,
              "#fdca26"
             ],
             [
              1,
              "#f0f921"
             ]
            ],
            "type": "histogram2dcontour"
           }
          ],
          "mesh3d": [
           {
            "colorbar": {
             "outlinewidth": 0,
             "ticks": ""
            },
            "type": "mesh3d"
           }
          ],
          "parcoords": [
           {
            "line": {
             "colorbar": {
              "outlinewidth": 0,
              "ticks": ""
             }
            },
            "type": "parcoords"
           }
          ],
          "pie": [
           {
            "automargin": true,
            "type": "pie"
           }
          ],
          "scatter": [
           {
            "fillpattern": {
             "fillmode": "overlay",
             "size": 10,
             "solidity": 0.2
            },
            "type": "scatter"
           }
          ],
          "scatter3d": [
           {
            "line": {
             "colorbar": {
              "outlinewidth": 0,
              "ticks": ""
             }
            },
            "marker": {
             "colorbar": {
              "outlinewidth": 0,
              "ticks": ""
             }
            },
            "type": "scatter3d"
           }
          ],
          "scattercarpet": [
           {
            "marker": {
             "colorbar": {
              "outlinewidth": 0,
              "ticks": ""
             }
            },
            "type": "scattercarpet"
           }
          ],
          "scattergeo": [
           {
            "marker": {
             "colorbar": {
              "outlinewidth": 0,
              "ticks": ""
             }
            },
            "type": "scattergeo"
           }
          ],
          "scattergl": [
           {
            "marker": {
             "colorbar": {
              "outlinewidth": 0,
              "ticks": ""
             }
            },
            "type": "scattergl"
           }
          ],
          "scattermapbox": [
           {
            "marker": {
             "colorbar": {
              "outlinewidth": 0,
              "ticks": ""
             }
            },
            "type": "scattermapbox"
           }
          ],
          "scatterpolar": [
           {
            "marker": {
             "colorbar": {
              "outlinewidth": 0,
              "ticks": ""
             }
            },
            "type": "scatterpolar"
           }
          ],
          "scatterpolargl": [
           {
            "marker": {
             "colorbar": {
              "outlinewidth": 0,
              "ticks": ""
             }
            },
            "type": "scatterpolargl"
           }
          ],
          "scatterternary": [
           {
            "marker": {
             "colorbar": {
              "outlinewidth": 0,
              "ticks": ""
             }
            },
            "type": "scatterternary"
           }
          ],
          "surface": [
           {
            "colorbar": {
             "outlinewidth": 0,
             "ticks": ""
            },
            "colorscale": [
             [
              0,
              "#0d0887"
             ],
             [
              0.1111111111111111,
              "#46039f"
             ],
             [
              0.2222222222222222,
              "#7201a8"
             ],
             [
              0.3333333333333333,
              "#9c179e"
             ],
             [
              0.4444444444444444,
              "#bd3786"
             ],
             [
              0.5555555555555556,
              "#d8576b"
             ],
             [
              0.6666666666666666,
              "#ed7953"
             ],
             [
              0.7777777777777778,
              "#fb9f3a"
             ],
             [
              0.8888888888888888,
              "#fdca26"
             ],
             [
              1,
              "#f0f921"
             ]
            ],
            "type": "surface"
           }
          ],
          "table": [
           {
            "cells": {
             "fill": {
              "color": "#EBF0F8"
             },
             "line": {
              "color": "white"
             }
            },
            "header": {
             "fill": {
              "color": "#C8D4E3"
             },
             "line": {
              "color": "white"
             }
            },
            "type": "table"
           }
          ]
         },
         "layout": {
          "annotationdefaults": {
           "arrowcolor": "#2a3f5f",
           "arrowhead": 0,
           "arrowwidth": 1
          },
          "autotypenumbers": "strict",
          "coloraxis": {
           "colorbar": {
            "outlinewidth": 0,
            "ticks": ""
           }
          },
          "colorscale": {
           "diverging": [
            [
             0,
             "#8e0152"
            ],
            [
             0.1,
             "#c51b7d"
            ],
            [
             0.2,
             "#de77ae"
            ],
            [
             0.3,
             "#f1b6da"
            ],
            [
             0.4,
             "#fde0ef"
            ],
            [
             0.5,
             "#f7f7f7"
            ],
            [
             0.6,
             "#e6f5d0"
            ],
            [
             0.7,
             "#b8e186"
            ],
            [
             0.8,
             "#7fbc41"
            ],
            [
             0.9,
             "#4d9221"
            ],
            [
             1,
             "#276419"
            ]
           ],
           "sequential": [
            [
             0,
             "#0d0887"
            ],
            [
             0.1111111111111111,
             "#46039f"
            ],
            [
             0.2222222222222222,
             "#7201a8"
            ],
            [
             0.3333333333333333,
             "#9c179e"
            ],
            [
             0.4444444444444444,
             "#bd3786"
            ],
            [
             0.5555555555555556,
             "#d8576b"
            ],
            [
             0.6666666666666666,
             "#ed7953"
            ],
            [
             0.7777777777777778,
             "#fb9f3a"
            ],
            [
             0.8888888888888888,
             "#fdca26"
            ],
            [
             1,
             "#f0f921"
            ]
           ],
           "sequentialminus": [
            [
             0,
             "#0d0887"
            ],
            [
             0.1111111111111111,
             "#46039f"
            ],
            [
             0.2222222222222222,
             "#7201a8"
            ],
            [
             0.3333333333333333,
             "#9c179e"
            ],
            [
             0.4444444444444444,
             "#bd3786"
            ],
            [
             0.5555555555555556,
             "#d8576b"
            ],
            [
             0.6666666666666666,
             "#ed7953"
            ],
            [
             0.7777777777777778,
             "#fb9f3a"
            ],
            [
             0.8888888888888888,
             "#fdca26"
            ],
            [
             1,
             "#f0f921"
            ]
           ]
          },
          "colorway": [
           "#636efa",
           "#EF553B",
           "#00cc96",
           "#ab63fa",
           "#FFA15A",
           "#19d3f3",
           "#FF6692",
           "#B6E880",
           "#FF97FF",
           "#FECB52"
          ],
          "font": {
           "color": "#2a3f5f"
          },
          "geo": {
           "bgcolor": "white",
           "lakecolor": "white",
           "landcolor": "#E5ECF6",
           "showlakes": true,
           "showland": true,
           "subunitcolor": "white"
          },
          "hoverlabel": {
           "align": "left"
          },
          "hovermode": "closest",
          "mapbox": {
           "style": "light"
          },
          "paper_bgcolor": "white",
          "plot_bgcolor": "#E5ECF6",
          "polar": {
           "angularaxis": {
            "gridcolor": "white",
            "linecolor": "white",
            "ticks": ""
           },
           "bgcolor": "#E5ECF6",
           "radialaxis": {
            "gridcolor": "white",
            "linecolor": "white",
            "ticks": ""
           }
          },
          "scene": {
           "xaxis": {
            "backgroundcolor": "#E5ECF6",
            "gridcolor": "white",
            "gridwidth": 2,
            "linecolor": "white",
            "showbackground": true,
            "ticks": "",
            "zerolinecolor": "white"
           },
           "yaxis": {
            "backgroundcolor": "#E5ECF6",
            "gridcolor": "white",
            "gridwidth": 2,
            "linecolor": "white",
            "showbackground": true,
            "ticks": "",
            "zerolinecolor": "white"
           },
           "zaxis": {
            "backgroundcolor": "#E5ECF6",
            "gridcolor": "white",
            "gridwidth": 2,
            "linecolor": "white",
            "showbackground": true,
            "ticks": "",
            "zerolinecolor": "white"
           }
          },
          "shapedefaults": {
           "line": {
            "color": "#2a3f5f"
           }
          },
          "ternary": {
           "aaxis": {
            "gridcolor": "white",
            "linecolor": "white",
            "ticks": ""
           },
           "baxis": {
            "gridcolor": "white",
            "linecolor": "white",
            "ticks": ""
           },
           "bgcolor": "#E5ECF6",
           "caxis": {
            "gridcolor": "white",
            "linecolor": "white",
            "ticks": ""
           }
          },
          "title": {
           "x": 0.05
          },
          "xaxis": {
           "automargin": true,
           "gridcolor": "white",
           "linecolor": "white",
           "ticks": "",
           "title": {
            "standoff": 15
           },
           "zerolinecolor": "white",
           "zerolinewidth": 2
          },
          "yaxis": {
           "automargin": true,
           "gridcolor": "white",
           "linecolor": "white",
           "ticks": "",
           "title": {
            "standoff": 15
           },
           "zerolinecolor": "white",
           "zerolinewidth": 2
          }
         }
        },
        "title": {
         "text": "Oyster Happy Hour Wednesday"
        },
        "xaxis": {
         "rangeselector": {
          "buttons": [
           {
            "count": 7,
            "label": "1w",
            "step": "day",
            "stepmode": "backward"
           },
           {
            "count": 1,
            "label": "1m",
            "step": "month",
            "stepmode": "backward"
           },
           {
            "count": 6,
            "label": "6m",
            "step": "month",
            "stepmode": "backward"
           },
           {
            "count": 1,
            "label": "YTD",
            "step": "year",
            "stepmode": "todate"
           },
           {
            "count": 1,
            "label": "1y",
            "step": "year",
            "stepmode": "backward"
           },
           {
            "step": "all"
           }
          ]
         },
         "showgrid": true,
         "type": "date",
         "zeroline": false
        },
        "yaxis": {
         "autorange": false,
         "range": [
          -1,
          13
         ],
         "showgrid": true,
         "ticktext": [
          "Swift and Sons",
          "The Publican",
          "Prime & Provisions",
          "Fisk & Co.",
          "Venteux Brasserie, Cafe & Oyster Bar",
          "Tortoise Supper Club",
          "The Smith",
          "Bar Sotano",
          "Joe’s Seafood",
          "The Signature Lounge",
          "Chop Shop",
          "Heritage Restaurant & Caviar Bar"
         ],
         "tickvals": [
          0,
          1,
          2,
          3,
          4,
          5,
          6,
          7,
          8,
          9,
          10,
          11
         ],
         "zeroline": false
        }
       }
      }
     },
     "metadata": {},
     "output_type": "display_data"
    },
    {
     "data": {
      "application/vnd.plotly.v1+json": {
       "config": {
        "plotlyServerURL": "https://plot.ly"
       },
       "data": [
        {
         "fill": "toself",
         "fillcolor": "rgb(140, 58, 135)",
         "hoverinfo": "name",
         "legendgroup": "rgb(140, 58, 135)",
         "mode": "none",
         "name": "Venteux Brasserie, Cafe & Oyster Bar",
         "type": "scatter",
         "x": [
          "2020-01-01T16:00:00",
          "2020-01-01T18:00:00",
          "2020-01-01T18:00:00",
          "2020-01-01T16:00:00",
          "2020-01-01T16:00:00",
          "2020-01-01T16:00:00",
          "2020-01-01T18:00:00",
          "2020-01-01T18:00:00",
          "2020-01-01T16:00:00",
          "2020-01-01T16:00:00",
          "2020-01-01T15:00:00",
          "2020-01-01T18:00:00",
          "2020-01-01T18:00:00",
          "2020-01-01T15:00:00",
          "2020-01-01T15:00:00",
          "2020-01-01T17:00:00",
          "2020-01-01T18:00:00",
          "2020-01-01T18:00:00",
          "2020-01-01T17:00:00",
          "2020-01-01T17:00:00",
          "2020-01-01T14:00:00",
          "2020-01-01T16:00:00",
          "2020-01-01T16:00:00",
          "2020-01-01T14:00:00"
         ],
         "y": [
          2.8,
          2.8,
          3.2,
          3.2,
          null,
          3.8,
          3.8,
          4.2,
          4.2,
          null,
          4.8,
          4.8,
          5.2,
          5.2,
          null,
          5.8,
          5.8,
          6.2,
          6.2,
          null,
          6.8,
          6.8,
          7.2,
          7.2
         ]
        },
        {
         "fill": "toself",
         "fillcolor": "rgb(60, 161, 210)",
         "hoverinfo": "name",
         "legendgroup": "rgb(60, 161, 210)",
         "mode": "none",
         "name": "Prime & Provisions",
         "type": "scatter",
         "x": [
          "2020-01-01T16:00:00",
          "2020-01-01T18:00:00",
          "2020-01-01T18:00:00",
          "2020-01-01T16:00:00"
         ],
         "y": [
          1.8,
          1.8,
          2.2,
          2.2
         ]
        },
        {
         "fill": "toself",
         "fillcolor": "rgb(80, 197, 45)",
         "hoverinfo": "name",
         "legendgroup": "rgb(80, 197, 45)",
         "mode": "none",
         "name": "The Publican",
         "type": "scatter",
         "x": [
          "2020-01-01T16:00:00",
          "2020-01-01T18:30:00",
          "2020-01-01T18:30:00",
          "2020-01-01T16:00:00",
          "2020-01-01T16:00:00",
          "2020-01-01T16:00:00",
          "2020-01-01T18:00:00",
          "2020-01-01T18:00:00",
          "2020-01-01T16:00:00"
         ],
         "y": [
          -0.2,
          -0.2,
          0.2,
          0.2,
          null,
          0.8,
          0.8,
          1.2,
          1.2
         ]
        },
        {
         "fill": "toself",
         "fillcolor": "rgb(81, 214, 35)",
         "hoverinfo": "name",
         "legendgroup": "rgb(81, 214, 35)",
         "mode": "none",
         "name": "Heritage Restaurant & Caviar Bar",
         "type": "scatter",
         "x": [
          "2020-01-01T16:00:00",
          "2020-01-01T18:00:00",
          "2020-01-01T18:00:00",
          "2020-01-01T16:00:00"
         ],
         "y": [
          7.8,
          7.8,
          8.2,
          8.2
         ]
        },
        {
         "legendgroup": "rgb(140, 58, 135)",
         "marker": {
          "color": "rgb(140, 58, 135)",
          "opacity": 0,
          "size": 1
         },
         "mode": "markers",
         "name": "",
         "showlegend": false,
         "text": [
          null,
          null,
          null,
          null,
          null,
          null,
          null,
          null,
          null,
          null
         ],
         "type": "scatter",
         "x": [
          "2020-01-01T16:00:00",
          "2020-01-01T18:00:00",
          "2020-01-01T16:00:00",
          "2020-01-01T18:00:00",
          "2020-01-01T15:00:00",
          "2020-01-01T18:00:00",
          "2020-01-01T17:00:00",
          "2020-01-01T18:00:00",
          "2020-01-01T14:00:00",
          "2020-01-01T16:00:00"
         ],
         "y": [
          3,
          3,
          4,
          4,
          5,
          5,
          6,
          6,
          7,
          7
         ]
        },
        {
         "legendgroup": "rgb(60, 161, 210)",
         "marker": {
          "color": "rgb(60, 161, 210)",
          "opacity": 0,
          "size": 1
         },
         "mode": "markers",
         "name": "",
         "showlegend": false,
         "text": [
          null,
          null
         ],
         "type": "scatter",
         "x": [
          "2020-01-01T16:00:00",
          "2020-01-01T18:00:00"
         ],
         "y": [
          2,
          2
         ]
        },
        {
         "legendgroup": "rgb(80, 197, 45)",
         "marker": {
          "color": "rgb(80, 197, 45)",
          "opacity": 0,
          "size": 1
         },
         "mode": "markers",
         "name": "",
         "showlegend": false,
         "text": [
          null,
          null,
          null,
          null
         ],
         "type": "scatter",
         "x": [
          "2020-01-01T16:00:00",
          "2020-01-01T18:30:00",
          "2020-01-01T16:00:00",
          "2020-01-01T18:00:00"
         ],
         "y": [
          0,
          0,
          1,
          1
         ]
        },
        {
         "legendgroup": "rgb(81, 214, 35)",
         "marker": {
          "color": "rgb(81, 214, 35)",
          "opacity": 0,
          "size": 1
         },
         "mode": "markers",
         "name": "",
         "showlegend": false,
         "text": [
          null,
          null
         ],
         "type": "scatter",
         "x": [
          "2020-01-01T16:00:00",
          "2020-01-01T18:00:00"
         ],
         "y": [
          8,
          8
         ]
        }
       ],
       "layout": {
        "height": 600,
        "hovermode": "closest",
        "showlegend": false,
        "template": {
         "data": {
          "bar": [
           {
            "error_x": {
             "color": "#2a3f5f"
            },
            "error_y": {
             "color": "#2a3f5f"
            },
            "marker": {
             "line": {
              "color": "#E5ECF6",
              "width": 0.5
             },
             "pattern": {
              "fillmode": "overlay",
              "size": 10,
              "solidity": 0.2
             }
            },
            "type": "bar"
           }
          ],
          "barpolar": [
           {
            "marker": {
             "line": {
              "color": "#E5ECF6",
              "width": 0.5
             },
             "pattern": {
              "fillmode": "overlay",
              "size": 10,
              "solidity": 0.2
             }
            },
            "type": "barpolar"
           }
          ],
          "carpet": [
           {
            "aaxis": {
             "endlinecolor": "#2a3f5f",
             "gridcolor": "white",
             "linecolor": "white",
             "minorgridcolor": "white",
             "startlinecolor": "#2a3f5f"
            },
            "baxis": {
             "endlinecolor": "#2a3f5f",
             "gridcolor": "white",
             "linecolor": "white",
             "minorgridcolor": "white",
             "startlinecolor": "#2a3f5f"
            },
            "type": "carpet"
           }
          ],
          "choropleth": [
           {
            "colorbar": {
             "outlinewidth": 0,
             "ticks": ""
            },
            "type": "choropleth"
           }
          ],
          "contour": [
           {
            "colorbar": {
             "outlinewidth": 0,
             "ticks": ""
            },
            "colorscale": [
             [
              0,
              "#0d0887"
             ],
             [
              0.1111111111111111,
              "#46039f"
             ],
             [
              0.2222222222222222,
              "#7201a8"
             ],
             [
              0.3333333333333333,
              "#9c179e"
             ],
             [
              0.4444444444444444,
              "#bd3786"
             ],
             [
              0.5555555555555556,
              "#d8576b"
             ],
             [
              0.6666666666666666,
              "#ed7953"
             ],
             [
              0.7777777777777778,
              "#fb9f3a"
             ],
             [
              0.8888888888888888,
              "#fdca26"
             ],
             [
              1,
              "#f0f921"
             ]
            ],
            "type": "contour"
           }
          ],
          "contourcarpet": [
           {
            "colorbar": {
             "outlinewidth": 0,
             "ticks": ""
            },
            "type": "contourcarpet"
           }
          ],
          "heatmap": [
           {
            "colorbar": {
             "outlinewidth": 0,
             "ticks": ""
            },
            "colorscale": [
             [
              0,
              "#0d0887"
             ],
             [
              0.1111111111111111,
              "#46039f"
             ],
             [
              0.2222222222222222,
              "#7201a8"
             ],
             [
              0.3333333333333333,
              "#9c179e"
             ],
             [
              0.4444444444444444,
              "#bd3786"
             ],
             [
              0.5555555555555556,
              "#d8576b"
             ],
             [
              0.6666666666666666,
              "#ed7953"
             ],
             [
              0.7777777777777778,
              "#fb9f3a"
             ],
             [
              0.8888888888888888,
              "#fdca26"
             ],
             [
              1,
              "#f0f921"
             ]
            ],
            "type": "heatmap"
           }
          ],
          "heatmapgl": [
           {
            "colorbar": {
             "outlinewidth": 0,
             "ticks": ""
            },
            "colorscale": [
             [
              0,
              "#0d0887"
             ],
             [
              0.1111111111111111,
              "#46039f"
             ],
             [
              0.2222222222222222,
              "#7201a8"
             ],
             [
              0.3333333333333333,
              "#9c179e"
             ],
             [
              0.4444444444444444,
              "#bd3786"
             ],
             [
              0.5555555555555556,
              "#d8576b"
             ],
             [
              0.6666666666666666,
              "#ed7953"
             ],
             [
              0.7777777777777778,
              "#fb9f3a"
             ],
             [
              0.8888888888888888,
              "#fdca26"
             ],
             [
              1,
              "#f0f921"
             ]
            ],
            "type": "heatmapgl"
           }
          ],
          "histogram": [
           {
            "marker": {
             "pattern": {
              "fillmode": "overlay",
              "size": 10,
              "solidity": 0.2
             }
            },
            "type": "histogram"
           }
          ],
          "histogram2d": [
           {
            "colorbar": {
             "outlinewidth": 0,
             "ticks": ""
            },
            "colorscale": [
             [
              0,
              "#0d0887"
             ],
             [
              0.1111111111111111,
              "#46039f"
             ],
             [
              0.2222222222222222,
              "#7201a8"
             ],
             [
              0.3333333333333333,
              "#9c179e"
             ],
             [
              0.4444444444444444,
              "#bd3786"
             ],
             [
              0.5555555555555556,
              "#d8576b"
             ],
             [
              0.6666666666666666,
              "#ed7953"
             ],
             [
              0.7777777777777778,
              "#fb9f3a"
             ],
             [
              0.8888888888888888,
              "#fdca26"
             ],
             [
              1,
              "#f0f921"
             ]
            ],
            "type": "histogram2d"
           }
          ],
          "histogram2dcontour": [
           {
            "colorbar": {
             "outlinewidth": 0,
             "ticks": ""
            },
            "colorscale": [
             [
              0,
              "#0d0887"
             ],
             [
              0.1111111111111111,
              "#46039f"
             ],
             [
              0.2222222222222222,
              "#7201a8"
             ],
             [
              0.3333333333333333,
              "#9c179e"
             ],
             [
              0.4444444444444444,
              "#bd3786"
             ],
             [
              0.5555555555555556,
              "#d8576b"
             ],
             [
              0.6666666666666666,
              "#ed7953"
             ],
             [
              0.7777777777777778,
              "#fb9f3a"
             ],
             [
              0.8888888888888888,
              "#fdca26"
             ],
             [
              1,
              "#f0f921"
             ]
            ],
            "type": "histogram2dcontour"
           }
          ],
          "mesh3d": [
           {
            "colorbar": {
             "outlinewidth": 0,
             "ticks": ""
            },
            "type": "mesh3d"
           }
          ],
          "parcoords": [
           {
            "line": {
             "colorbar": {
              "outlinewidth": 0,
              "ticks": ""
             }
            },
            "type": "parcoords"
           }
          ],
          "pie": [
           {
            "automargin": true,
            "type": "pie"
           }
          ],
          "scatter": [
           {
            "fillpattern": {
             "fillmode": "overlay",
             "size": 10,
             "solidity": 0.2
            },
            "type": "scatter"
           }
          ],
          "scatter3d": [
           {
            "line": {
             "colorbar": {
              "outlinewidth": 0,
              "ticks": ""
             }
            },
            "marker": {
             "colorbar": {
              "outlinewidth": 0,
              "ticks": ""
             }
            },
            "type": "scatter3d"
           }
          ],
          "scattercarpet": [
           {
            "marker": {
             "colorbar": {
              "outlinewidth": 0,
              "ticks": ""
             }
            },
            "type": "scattercarpet"
           }
          ],
          "scattergeo": [
           {
            "marker": {
             "colorbar": {
              "outlinewidth": 0,
              "ticks": ""
             }
            },
            "type": "scattergeo"
           }
          ],
          "scattergl": [
           {
            "marker": {
             "colorbar": {
              "outlinewidth": 0,
              "ticks": ""
             }
            },
            "type": "scattergl"
           }
          ],
          "scattermapbox": [
           {
            "marker": {
             "colorbar": {
              "outlinewidth": 0,
              "ticks": ""
             }
            },
            "type": "scattermapbox"
           }
          ],
          "scatterpolar": [
           {
            "marker": {
             "colorbar": {
              "outlinewidth": 0,
              "ticks": ""
             }
            },
            "type": "scatterpolar"
           }
          ],
          "scatterpolargl": [
           {
            "marker": {
             "colorbar": {
              "outlinewidth": 0,
              "ticks": ""
             }
            },
            "type": "scatterpolargl"
           }
          ],
          "scatterternary": [
           {
            "marker": {
             "colorbar": {
              "outlinewidth": 0,
              "ticks": ""
             }
            },
            "type": "scatterternary"
           }
          ],
          "surface": [
           {
            "colorbar": {
             "outlinewidth": 0,
             "ticks": ""
            },
            "colorscale": [
             [
              0,
              "#0d0887"
             ],
             [
              0.1111111111111111,
              "#46039f"
             ],
             [
              0.2222222222222222,
              "#7201a8"
             ],
             [
              0.3333333333333333,
              "#9c179e"
             ],
             [
              0.4444444444444444,
              "#bd3786"
             ],
             [
              0.5555555555555556,
              "#d8576b"
             ],
             [
              0.6666666666666666,
              "#ed7953"
             ],
             [
              0.7777777777777778,
              "#fb9f3a"
             ],
             [
              0.8888888888888888,
              "#fdca26"
             ],
             [
              1,
              "#f0f921"
             ]
            ],
            "type": "surface"
           }
          ],
          "table": [
           {
            "cells": {
             "fill": {
              "color": "#EBF0F8"
             },
             "line": {
              "color": "white"
             }
            },
            "header": {
             "fill": {
              "color": "#C8D4E3"
             },
             "line": {
              "color": "white"
             }
            },
            "type": "table"
           }
          ]
         },
         "layout": {
          "annotationdefaults": {
           "arrowcolor": "#2a3f5f",
           "arrowhead": 0,
           "arrowwidth": 1
          },
          "autotypenumbers": "strict",
          "coloraxis": {
           "colorbar": {
            "outlinewidth": 0,
            "ticks": ""
           }
          },
          "colorscale": {
           "diverging": [
            [
             0,
             "#8e0152"
            ],
            [
             0.1,
             "#c51b7d"
            ],
            [
             0.2,
             "#de77ae"
            ],
            [
             0.3,
             "#f1b6da"
            ],
            [
             0.4,
             "#fde0ef"
            ],
            [
             0.5,
             "#f7f7f7"
            ],
            [
             0.6,
             "#e6f5d0"
            ],
            [
             0.7,
             "#b8e186"
            ],
            [
             0.8,
             "#7fbc41"
            ],
            [
             0.9,
             "#4d9221"
            ],
            [
             1,
             "#276419"
            ]
           ],
           "sequential": [
            [
             0,
             "#0d0887"
            ],
            [
             0.1111111111111111,
             "#46039f"
            ],
            [
             0.2222222222222222,
             "#7201a8"
            ],
            [
             0.3333333333333333,
             "#9c179e"
            ],
            [
             0.4444444444444444,
             "#bd3786"
            ],
            [
             0.5555555555555556,
             "#d8576b"
            ],
            [
             0.6666666666666666,
             "#ed7953"
            ],
            [
             0.7777777777777778,
             "#fb9f3a"
            ],
            [
             0.8888888888888888,
             "#fdca26"
            ],
            [
             1,
             "#f0f921"
            ]
           ],
           "sequentialminus": [
            [
             0,
             "#0d0887"
            ],
            [
             0.1111111111111111,
             "#46039f"
            ],
            [
             0.2222222222222222,
             "#7201a8"
            ],
            [
             0.3333333333333333,
             "#9c179e"
            ],
            [
             0.4444444444444444,
             "#bd3786"
            ],
            [
             0.5555555555555556,
             "#d8576b"
            ],
            [
             0.6666666666666666,
             "#ed7953"
            ],
            [
             0.7777777777777778,
             "#fb9f3a"
            ],
            [
             0.8888888888888888,
             "#fdca26"
            ],
            [
             1,
             "#f0f921"
            ]
           ]
          },
          "colorway": [
           "#636efa",
           "#EF553B",
           "#00cc96",
           "#ab63fa",
           "#FFA15A",
           "#19d3f3",
           "#FF6692",
           "#B6E880",
           "#FF97FF",
           "#FECB52"
          ],
          "font": {
           "color": "#2a3f5f"
          },
          "geo": {
           "bgcolor": "white",
           "lakecolor": "white",
           "landcolor": "#E5ECF6",
           "showlakes": true,
           "showland": true,
           "subunitcolor": "white"
          },
          "hoverlabel": {
           "align": "left"
          },
          "hovermode": "closest",
          "mapbox": {
           "style": "light"
          },
          "paper_bgcolor": "white",
          "plot_bgcolor": "#E5ECF6",
          "polar": {
           "angularaxis": {
            "gridcolor": "white",
            "linecolor": "white",
            "ticks": ""
           },
           "bgcolor": "#E5ECF6",
           "radialaxis": {
            "gridcolor": "white",
            "linecolor": "white",
            "ticks": ""
           }
          },
          "scene": {
           "xaxis": {
            "backgroundcolor": "#E5ECF6",
            "gridcolor": "white",
            "gridwidth": 2,
            "linecolor": "white",
            "showbackground": true,
            "ticks": "",
            "zerolinecolor": "white"
           },
           "yaxis": {
            "backgroundcolor": "#E5ECF6",
            "gridcolor": "white",
            "gridwidth": 2,
            "linecolor": "white",
            "showbackground": true,
            "ticks": "",
            "zerolinecolor": "white"
           },
           "zaxis": {
            "backgroundcolor": "#E5ECF6",
            "gridcolor": "white",
            "gridwidth": 2,
            "linecolor": "white",
            "showbackground": true,
            "ticks": "",
            "zerolinecolor": "white"
           }
          },
          "shapedefaults": {
           "line": {
            "color": "#2a3f5f"
           }
          },
          "ternary": {
           "aaxis": {
            "gridcolor": "white",
            "linecolor": "white",
            "ticks": ""
           },
           "baxis": {
            "gridcolor": "white",
            "linecolor": "white",
            "ticks": ""
           },
           "bgcolor": "#E5ECF6",
           "caxis": {
            "gridcolor": "white",
            "linecolor": "white",
            "ticks": ""
           }
          },
          "title": {
           "x": 0.05
          },
          "xaxis": {
           "automargin": true,
           "gridcolor": "white",
           "linecolor": "white",
           "ticks": "",
           "title": {
            "standoff": 15
           },
           "zerolinecolor": "white",
           "zerolinewidth": 2
          },
          "yaxis": {
           "automargin": true,
           "gridcolor": "white",
           "linecolor": "white",
           "ticks": "",
           "title": {
            "standoff": 15
           },
           "zerolinecolor": "white",
           "zerolinewidth": 2
          }
         }
        },
        "title": {
         "text": "Oyster Happy Hour Thursday"
        },
        "xaxis": {
         "rangeselector": {
          "buttons": [
           {
            "count": 7,
            "label": "1w",
            "step": "day",
            "stepmode": "backward"
           },
           {
            "count": 1,
            "label": "1m",
            "step": "month",
            "stepmode": "backward"
           },
           {
            "count": 6,
            "label": "6m",
            "step": "month",
            "stepmode": "backward"
           },
           {
            "count": 1,
            "label": "YTD",
            "step": "year",
            "stepmode": "todate"
           },
           {
            "count": 1,
            "label": "1y",
            "step": "year",
            "stepmode": "backward"
           },
           {
            "step": "all"
           }
          ]
         },
         "showgrid": true,
         "type": "date",
         "zeroline": false
        },
        "yaxis": {
         "autorange": false,
         "range": [
          -1,
          10
         ],
         "showgrid": true,
         "ticktext": [
          "Swift and Sons",
          "The Publican",
          "Prime & Provisions",
          "Fisk & Co.",
          "Venteux Brasserie, Cafe & Oyster Bar",
          "The Smith",
          "Bar Sotano",
          "Joe’s Seafood",
          "Heritage Restaurant & Caviar Bar"
         ],
         "tickvals": [
          0,
          1,
          2,
          3,
          4,
          5,
          6,
          7,
          8
         ],
         "zeroline": false
        }
       }
      }
     },
     "metadata": {},
     "output_type": "display_data"
    },
    {
     "data": {
      "application/vnd.plotly.v1+json": {
       "config": {
        "plotlyServerURL": "https://plot.ly"
       },
       "data": [
        {
         "fill": "toself",
         "fillcolor": "rgb(140, 58, 135)",
         "hoverinfo": "name",
         "legendgroup": "rgb(140, 58, 135)",
         "mode": "none",
         "name": "Venteux Brasserie, Cafe & Oyster Bar",
         "type": "scatter",
         "x": [
          "2020-01-01T16:00:00",
          "2020-01-01T18:00:00",
          "2020-01-01T18:00:00",
          "2020-01-01T16:00:00",
          "2020-01-01T16:00:00",
          "2020-01-01T16:30:00",
          "2020-01-01T18:30:00",
          "2020-01-01T18:30:00",
          "2020-01-01T16:30:00",
          "2020-01-01T16:30:00",
          "2020-01-01T15:00:00",
          "2020-01-01T18:00:00",
          "2020-01-01T18:00:00",
          "2020-01-01T15:00:00",
          "2020-01-01T15:00:00",
          "2020-01-01T14:00:00",
          "2020-01-01T16:00:00",
          "2020-01-01T16:00:00",
          "2020-01-01T14:00:00"
         ],
         "y": [
          2.8,
          2.8,
          3.2,
          3.2,
          null,
          3.8,
          3.8,
          4.2,
          4.2,
          null,
          4.8,
          4.8,
          5.2,
          5.2,
          null,
          5.8,
          5.8,
          6.2,
          6.2
         ]
        },
        {
         "fill": "toself",
         "fillcolor": "rgb(60, 161, 210)",
         "hoverinfo": "name",
         "legendgroup": "rgb(60, 161, 210)",
         "mode": "none",
         "name": "Prime & Provisions",
         "type": "scatter",
         "x": [
          "2020-01-01T16:00:00",
          "2020-01-01T18:00:00",
          "2020-01-01T18:00:00",
          "2020-01-01T16:00:00"
         ],
         "y": [
          1.8,
          1.8,
          2.2,
          2.2
         ]
        },
        {
         "fill": "toself",
         "fillcolor": "rgb(80, 197, 45)",
         "hoverinfo": "name",
         "legendgroup": "rgb(80, 197, 45)",
         "mode": "none",
         "name": "The Publican",
         "type": "scatter",
         "x": [
          "2020-01-01T16:00:00",
          "2020-01-01T18:30:00",
          "2020-01-01T18:30:00",
          "2020-01-01T16:00:00",
          "2020-01-01T16:00:00",
          "2020-01-01T16:00:00",
          "2020-01-01T18:00:00",
          "2020-01-01T18:00:00",
          "2020-01-01T16:00:00"
         ],
         "y": [
          -0.2,
          -0.2,
          0.2,
          0.2,
          null,
          0.8,
          0.8,
          1.2,
          1.2
         ]
        },
        {
         "fill": "toself",
         "fillcolor": "rgb(81, 214, 35)",
         "hoverinfo": "name",
         "legendgroup": "rgb(81, 214, 35)",
         "mode": "none",
         "name": "Heritage Restaurant & Caviar Bar",
         "type": "scatter",
         "x": [
          "2020-01-01T16:00:00",
          "2020-01-01T18:00:00",
          "2020-01-01T18:00:00",
          "2020-01-01T16:00:00"
         ],
         "y": [
          6.8,
          6.8,
          7.2,
          7.2
         ]
        },
        {
         "legendgroup": "rgb(140, 58, 135)",
         "marker": {
          "color": "rgb(140, 58, 135)",
          "opacity": 0,
          "size": 1
         },
         "mode": "markers",
         "name": "",
         "showlegend": false,
         "text": [
          null,
          null,
          null,
          null,
          null,
          null,
          null,
          null
         ],
         "type": "scatter",
         "x": [
          "2020-01-01T16:00:00",
          "2020-01-01T18:00:00",
          "2020-01-01T16:30:00",
          "2020-01-01T18:30:00",
          "2020-01-01T15:00:00",
          "2020-01-01T18:00:00",
          "2020-01-01T14:00:00",
          "2020-01-01T16:00:00"
         ],
         "y": [
          3,
          3,
          4,
          4,
          5,
          5,
          6,
          6
         ]
        },
        {
         "legendgroup": "rgb(60, 161, 210)",
         "marker": {
          "color": "rgb(60, 161, 210)",
          "opacity": 0,
          "size": 1
         },
         "mode": "markers",
         "name": "",
         "showlegend": false,
         "text": [
          null,
          null
         ],
         "type": "scatter",
         "x": [
          "2020-01-01T16:00:00",
          "2020-01-01T18:00:00"
         ],
         "y": [
          2,
          2
         ]
        },
        {
         "legendgroup": "rgb(80, 197, 45)",
         "marker": {
          "color": "rgb(80, 197, 45)",
          "opacity": 0,
          "size": 1
         },
         "mode": "markers",
         "name": "",
         "showlegend": false,
         "text": [
          null,
          null,
          null,
          null
         ],
         "type": "scatter",
         "x": [
          "2020-01-01T16:00:00",
          "2020-01-01T18:30:00",
          "2020-01-01T16:00:00",
          "2020-01-01T18:00:00"
         ],
         "y": [
          0,
          0,
          1,
          1
         ]
        },
        {
         "legendgroup": "rgb(81, 214, 35)",
         "marker": {
          "color": "rgb(81, 214, 35)",
          "opacity": 0,
          "size": 1
         },
         "mode": "markers",
         "name": "",
         "showlegend": false,
         "text": [
          null,
          null
         ],
         "type": "scatter",
         "x": [
          "2020-01-01T16:00:00",
          "2020-01-01T18:00:00"
         ],
         "y": [
          7,
          7
         ]
        }
       ],
       "layout": {
        "height": 600,
        "hovermode": "closest",
        "showlegend": false,
        "template": {
         "data": {
          "bar": [
           {
            "error_x": {
             "color": "#2a3f5f"
            },
            "error_y": {
             "color": "#2a3f5f"
            },
            "marker": {
             "line": {
              "color": "#E5ECF6",
              "width": 0.5
             },
             "pattern": {
              "fillmode": "overlay",
              "size": 10,
              "solidity": 0.2
             }
            },
            "type": "bar"
           }
          ],
          "barpolar": [
           {
            "marker": {
             "line": {
              "color": "#E5ECF6",
              "width": 0.5
             },
             "pattern": {
              "fillmode": "overlay",
              "size": 10,
              "solidity": 0.2
             }
            },
            "type": "barpolar"
           }
          ],
          "carpet": [
           {
            "aaxis": {
             "endlinecolor": "#2a3f5f",
             "gridcolor": "white",
             "linecolor": "white",
             "minorgridcolor": "white",
             "startlinecolor": "#2a3f5f"
            },
            "baxis": {
             "endlinecolor": "#2a3f5f",
             "gridcolor": "white",
             "linecolor": "white",
             "minorgridcolor": "white",
             "startlinecolor": "#2a3f5f"
            },
            "type": "carpet"
           }
          ],
          "choropleth": [
           {
            "colorbar": {
             "outlinewidth": 0,
             "ticks": ""
            },
            "type": "choropleth"
           }
          ],
          "contour": [
           {
            "colorbar": {
             "outlinewidth": 0,
             "ticks": ""
            },
            "colorscale": [
             [
              0,
              "#0d0887"
             ],
             [
              0.1111111111111111,
              "#46039f"
             ],
             [
              0.2222222222222222,
              "#7201a8"
             ],
             [
              0.3333333333333333,
              "#9c179e"
             ],
             [
              0.4444444444444444,
              "#bd3786"
             ],
             [
              0.5555555555555556,
              "#d8576b"
             ],
             [
              0.6666666666666666,
              "#ed7953"
             ],
             [
              0.7777777777777778,
              "#fb9f3a"
             ],
             [
              0.8888888888888888,
              "#fdca26"
             ],
             [
              1,
              "#f0f921"
             ]
            ],
            "type": "contour"
           }
          ],
          "contourcarpet": [
           {
            "colorbar": {
             "outlinewidth": 0,
             "ticks": ""
            },
            "type": "contourcarpet"
           }
          ],
          "heatmap": [
           {
            "colorbar": {
             "outlinewidth": 0,
             "ticks": ""
            },
            "colorscale": [
             [
              0,
              "#0d0887"
             ],
             [
              0.1111111111111111,
              "#46039f"
             ],
             [
              0.2222222222222222,
              "#7201a8"
             ],
             [
              0.3333333333333333,
              "#9c179e"
             ],
             [
              0.4444444444444444,
              "#bd3786"
             ],
             [
              0.5555555555555556,
              "#d8576b"
             ],
             [
              0.6666666666666666,
              "#ed7953"
             ],
             [
              0.7777777777777778,
              "#fb9f3a"
             ],
             [
              0.8888888888888888,
              "#fdca26"
             ],
             [
              1,
              "#f0f921"
             ]
            ],
            "type": "heatmap"
           }
          ],
          "heatmapgl": [
           {
            "colorbar": {
             "outlinewidth": 0,
             "ticks": ""
            },
            "colorscale": [
             [
              0,
              "#0d0887"
             ],
             [
              0.1111111111111111,
              "#46039f"
             ],
             [
              0.2222222222222222,
              "#7201a8"
             ],
             [
              0.3333333333333333,
              "#9c179e"
             ],
             [
              0.4444444444444444,
              "#bd3786"
             ],
             [
              0.5555555555555556,
              "#d8576b"
             ],
             [
              0.6666666666666666,
              "#ed7953"
             ],
             [
              0.7777777777777778,
              "#fb9f3a"
             ],
             [
              0.8888888888888888,
              "#fdca26"
             ],
             [
              1,
              "#f0f921"
             ]
            ],
            "type": "heatmapgl"
           }
          ],
          "histogram": [
           {
            "marker": {
             "pattern": {
              "fillmode": "overlay",
              "size": 10,
              "solidity": 0.2
             }
            },
            "type": "histogram"
           }
          ],
          "histogram2d": [
           {
            "colorbar": {
             "outlinewidth": 0,
             "ticks": ""
            },
            "colorscale": [
             [
              0,
              "#0d0887"
             ],
             [
              0.1111111111111111,
              "#46039f"
             ],
             [
              0.2222222222222222,
              "#7201a8"
             ],
             [
              0.3333333333333333,
              "#9c179e"
             ],
             [
              0.4444444444444444,
              "#bd3786"
             ],
             [
              0.5555555555555556,
              "#d8576b"
             ],
             [
              0.6666666666666666,
              "#ed7953"
             ],
             [
              0.7777777777777778,
              "#fb9f3a"
             ],
             [
              0.8888888888888888,
              "#fdca26"
             ],
             [
              1,
              "#f0f921"
             ]
            ],
            "type": "histogram2d"
           }
          ],
          "histogram2dcontour": [
           {
            "colorbar": {
             "outlinewidth": 0,
             "ticks": ""
            },
            "colorscale": [
             [
              0,
              "#0d0887"
             ],
             [
              0.1111111111111111,
              "#46039f"
             ],
             [
              0.2222222222222222,
              "#7201a8"
             ],
             [
              0.3333333333333333,
              "#9c179e"
             ],
             [
              0.4444444444444444,
              "#bd3786"
             ],
             [
              0.5555555555555556,
              "#d8576b"
             ],
             [
              0.6666666666666666,
              "#ed7953"
             ],
             [
              0.7777777777777778,
              "#fb9f3a"
             ],
             [
              0.8888888888888888,
              "#fdca26"
             ],
             [
              1,
              "#f0f921"
             ]
            ],
            "type": "histogram2dcontour"
           }
          ],
          "mesh3d": [
           {
            "colorbar": {
             "outlinewidth": 0,
             "ticks": ""
            },
            "type": "mesh3d"
           }
          ],
          "parcoords": [
           {
            "line": {
             "colorbar": {
              "outlinewidth": 0,
              "ticks": ""
             }
            },
            "type": "parcoords"
           }
          ],
          "pie": [
           {
            "automargin": true,
            "type": "pie"
           }
          ],
          "scatter": [
           {
            "fillpattern": {
             "fillmode": "overlay",
             "size": 10,
             "solidity": 0.2
            },
            "type": "scatter"
           }
          ],
          "scatter3d": [
           {
            "line": {
             "colorbar": {
              "outlinewidth": 0,
              "ticks": ""
             }
            },
            "marker": {
             "colorbar": {
              "outlinewidth": 0,
              "ticks": ""
             }
            },
            "type": "scatter3d"
           }
          ],
          "scattercarpet": [
           {
            "marker": {
             "colorbar": {
              "outlinewidth": 0,
              "ticks": ""
             }
            },
            "type": "scattercarpet"
           }
          ],
          "scattergeo": [
           {
            "marker": {
             "colorbar": {
              "outlinewidth": 0,
              "ticks": ""
             }
            },
            "type": "scattergeo"
           }
          ],
          "scattergl": [
           {
            "marker": {
             "colorbar": {
              "outlinewidth": 0,
              "ticks": ""
             }
            },
            "type": "scattergl"
           }
          ],
          "scattermapbox": [
           {
            "marker": {
             "colorbar": {
              "outlinewidth": 0,
              "ticks": ""
             }
            },
            "type": "scattermapbox"
           }
          ],
          "scatterpolar": [
           {
            "marker": {
             "colorbar": {
              "outlinewidth": 0,
              "ticks": ""
             }
            },
            "type": "scatterpolar"
           }
          ],
          "scatterpolargl": [
           {
            "marker": {
             "colorbar": {
              "outlinewidth": 0,
              "ticks": ""
             }
            },
            "type": "scatterpolargl"
           }
          ],
          "scatterternary": [
           {
            "marker": {
             "colorbar": {
              "outlinewidth": 0,
              "ticks": ""
             }
            },
            "type": "scatterternary"
           }
          ],
          "surface": [
           {
            "colorbar": {
             "outlinewidth": 0,
             "ticks": ""
            },
            "colorscale": [
             [
              0,
              "#0d0887"
             ],
             [
              0.1111111111111111,
              "#46039f"
             ],
             [
              0.2222222222222222,
              "#7201a8"
             ],
             [
              0.3333333333333333,
              "#9c179e"
             ],
             [
              0.4444444444444444,
              "#bd3786"
             ],
             [
              0.5555555555555556,
              "#d8576b"
             ],
             [
              0.6666666666666666,
              "#ed7953"
             ],
             [
              0.7777777777777778,
              "#fb9f3a"
             ],
             [
              0.8888888888888888,
              "#fdca26"
             ],
             [
              1,
              "#f0f921"
             ]
            ],
            "type": "surface"
           }
          ],
          "table": [
           {
            "cells": {
             "fill": {
              "color": "#EBF0F8"
             },
             "line": {
              "color": "white"
             }
            },
            "header": {
             "fill": {
              "color": "#C8D4E3"
             },
             "line": {
              "color": "white"
             }
            },
            "type": "table"
           }
          ]
         },
         "layout": {
          "annotationdefaults": {
           "arrowcolor": "#2a3f5f",
           "arrowhead": 0,
           "arrowwidth": 1
          },
          "autotypenumbers": "strict",
          "coloraxis": {
           "colorbar": {
            "outlinewidth": 0,
            "ticks": ""
           }
          },
          "colorscale": {
           "diverging": [
            [
             0,
             "#8e0152"
            ],
            [
             0.1,
             "#c51b7d"
            ],
            [
             0.2,
             "#de77ae"
            ],
            [
             0.3,
             "#f1b6da"
            ],
            [
             0.4,
             "#fde0ef"
            ],
            [
             0.5,
             "#f7f7f7"
            ],
            [
             0.6,
             "#e6f5d0"
            ],
            [
             0.7,
             "#b8e186"
            ],
            [
             0.8,
             "#7fbc41"
            ],
            [
             0.9,
             "#4d9221"
            ],
            [
             1,
             "#276419"
            ]
           ],
           "sequential": [
            [
             0,
             "#0d0887"
            ],
            [
             0.1111111111111111,
             "#46039f"
            ],
            [
             0.2222222222222222,
             "#7201a8"
            ],
            [
             0.3333333333333333,
             "#9c179e"
            ],
            [
             0.4444444444444444,
             "#bd3786"
            ],
            [
             0.5555555555555556,
             "#d8576b"
            ],
            [
             0.6666666666666666,
             "#ed7953"
            ],
            [
             0.7777777777777778,
             "#fb9f3a"
            ],
            [
             0.8888888888888888,
             "#fdca26"
            ],
            [
             1,
             "#f0f921"
            ]
           ],
           "sequentialminus": [
            [
             0,
             "#0d0887"
            ],
            [
             0.1111111111111111,
             "#46039f"
            ],
            [
             0.2222222222222222,
             "#7201a8"
            ],
            [
             0.3333333333333333,
             "#9c179e"
            ],
            [
             0.4444444444444444,
             "#bd3786"
            ],
            [
             0.5555555555555556,
             "#d8576b"
            ],
            [
             0.6666666666666666,
             "#ed7953"
            ],
            [
             0.7777777777777778,
             "#fb9f3a"
            ],
            [
             0.8888888888888888,
             "#fdca26"
            ],
            [
             1,
             "#f0f921"
            ]
           ]
          },
          "colorway": [
           "#636efa",
           "#EF553B",
           "#00cc96",
           "#ab63fa",
           "#FFA15A",
           "#19d3f3",
           "#FF6692",
           "#B6E880",
           "#FF97FF",
           "#FECB52"
          ],
          "font": {
           "color": "#2a3f5f"
          },
          "geo": {
           "bgcolor": "white",
           "lakecolor": "white",
           "landcolor": "#E5ECF6",
           "showlakes": true,
           "showland": true,
           "subunitcolor": "white"
          },
          "hoverlabel": {
           "align": "left"
          },
          "hovermode": "closest",
          "mapbox": {
           "style": "light"
          },
          "paper_bgcolor": "white",
          "plot_bgcolor": "#E5ECF6",
          "polar": {
           "angularaxis": {
            "gridcolor": "white",
            "linecolor": "white",
            "ticks": ""
           },
           "bgcolor": "#E5ECF6",
           "radialaxis": {
            "gridcolor": "white",
            "linecolor": "white",
            "ticks": ""
           }
          },
          "scene": {
           "xaxis": {
            "backgroundcolor": "#E5ECF6",
            "gridcolor": "white",
            "gridwidth": 2,
            "linecolor": "white",
            "showbackground": true,
            "ticks": "",
            "zerolinecolor": "white"
           },
           "yaxis": {
            "backgroundcolor": "#E5ECF6",
            "gridcolor": "white",
            "gridwidth": 2,
            "linecolor": "white",
            "showbackground": true,
            "ticks": "",
            "zerolinecolor": "white"
           },
           "zaxis": {
            "backgroundcolor": "#E5ECF6",
            "gridcolor": "white",
            "gridwidth": 2,
            "linecolor": "white",
            "showbackground": true,
            "ticks": "",
            "zerolinecolor": "white"
           }
          },
          "shapedefaults": {
           "line": {
            "color": "#2a3f5f"
           }
          },
          "ternary": {
           "aaxis": {
            "gridcolor": "white",
            "linecolor": "white",
            "ticks": ""
           },
           "baxis": {
            "gridcolor": "white",
            "linecolor": "white",
            "ticks": ""
           },
           "bgcolor": "#E5ECF6",
           "caxis": {
            "gridcolor": "white",
            "linecolor": "white",
            "ticks": ""
           }
          },
          "title": {
           "x": 0.05
          },
          "xaxis": {
           "automargin": true,
           "gridcolor": "white",
           "linecolor": "white",
           "ticks": "",
           "title": {
            "standoff": 15
           },
           "zerolinecolor": "white",
           "zerolinewidth": 2
          },
          "yaxis": {
           "automargin": true,
           "gridcolor": "white",
           "linecolor": "white",
           "ticks": "",
           "title": {
            "standoff": 15
           },
           "zerolinecolor": "white",
           "zerolinewidth": 2
          }
         }
        },
        "title": {
         "text": "Oyster Happy Hour Friday"
        },
        "xaxis": {
         "rangeselector": {
          "buttons": [
           {
            "count": 7,
            "label": "1w",
            "step": "day",
            "stepmode": "backward"
           },
           {
            "count": 1,
            "label": "1m",
            "step": "month",
            "stepmode": "backward"
           },
           {
            "count": 6,
            "label": "6m",
            "step": "month",
            "stepmode": "backward"
           },
           {
            "count": 1,
            "label": "YTD",
            "step": "year",
            "stepmode": "todate"
           },
           {
            "count": 1,
            "label": "1y",
            "step": "year",
            "stepmode": "backward"
           },
           {
            "step": "all"
           }
          ]
         },
         "showgrid": true,
         "type": "date",
         "zeroline": false
        },
        "yaxis": {
         "autorange": false,
         "range": [
          -1,
          9
         ],
         "showgrid": true,
         "ticktext": [
          "Swift and Sons",
          "The Publican",
          "Prime & Provisions",
          "Venteux Brasserie, Cafe & Oyster Bar",
          "Tortoise Supper Club",
          "The Smith",
          "Joe’s Seafood",
          "Heritage Restaurant & Caviar Bar"
         ],
         "tickvals": [
          0,
          1,
          2,
          3,
          4,
          5,
          6,
          7
         ],
         "zeroline": false
        }
       }
      }
     },
     "metadata": {},
     "output_type": "display_data"
    },
    {
     "data": {
      "application/vnd.plotly.v1+json": {
       "config": {
        "plotlyServerURL": "https://plot.ly"
       },
       "data": [
        {
         "fill": "toself",
         "fillcolor": "rgb(81, 214, 35)",
         "hoverinfo": "name",
         "legendgroup": "rgb(81, 214, 35)",
         "mode": "none",
         "name": "Heritage Restaurant & Caviar Bar",
         "type": "scatter",
         "x": [
          "2020-01-01T16:00:00",
          "2020-01-01T18:00:00",
          "2020-01-01T18:00:00",
          "2020-01-01T16:00:00"
         ],
         "y": [
          -0.2,
          -0.2,
          0.2,
          0.2
         ]
        },
        {
         "legendgroup": "rgb(81, 214, 35)",
         "marker": {
          "color": "rgb(81, 214, 35)",
          "opacity": 0,
          "size": 1
         },
         "mode": "markers",
         "name": "",
         "showlegend": false,
         "text": [
          null,
          null
         ],
         "type": "scatter",
         "x": [
          "2020-01-01T16:00:00",
          "2020-01-01T18:00:00"
         ],
         "y": [
          0,
          0
         ]
        }
       ],
       "layout": {
        "height": 600,
        "hovermode": "closest",
        "showlegend": false,
        "template": {
         "data": {
          "bar": [
           {
            "error_x": {
             "color": "#2a3f5f"
            },
            "error_y": {
             "color": "#2a3f5f"
            },
            "marker": {
             "line": {
              "color": "#E5ECF6",
              "width": 0.5
             },
             "pattern": {
              "fillmode": "overlay",
              "size": 10,
              "solidity": 0.2
             }
            },
            "type": "bar"
           }
          ],
          "barpolar": [
           {
            "marker": {
             "line": {
              "color": "#E5ECF6",
              "width": 0.5
             },
             "pattern": {
              "fillmode": "overlay",
              "size": 10,
              "solidity": 0.2
             }
            },
            "type": "barpolar"
           }
          ],
          "carpet": [
           {
            "aaxis": {
             "endlinecolor": "#2a3f5f",
             "gridcolor": "white",
             "linecolor": "white",
             "minorgridcolor": "white",
             "startlinecolor": "#2a3f5f"
            },
            "baxis": {
             "endlinecolor": "#2a3f5f",
             "gridcolor": "white",
             "linecolor": "white",
             "minorgridcolor": "white",
             "startlinecolor": "#2a3f5f"
            },
            "type": "carpet"
           }
          ],
          "choropleth": [
           {
            "colorbar": {
             "outlinewidth": 0,
             "ticks": ""
            },
            "type": "choropleth"
           }
          ],
          "contour": [
           {
            "colorbar": {
             "outlinewidth": 0,
             "ticks": ""
            },
            "colorscale": [
             [
              0,
              "#0d0887"
             ],
             [
              0.1111111111111111,
              "#46039f"
             ],
             [
              0.2222222222222222,
              "#7201a8"
             ],
             [
              0.3333333333333333,
              "#9c179e"
             ],
             [
              0.4444444444444444,
              "#bd3786"
             ],
             [
              0.5555555555555556,
              "#d8576b"
             ],
             [
              0.6666666666666666,
              "#ed7953"
             ],
             [
              0.7777777777777778,
              "#fb9f3a"
             ],
             [
              0.8888888888888888,
              "#fdca26"
             ],
             [
              1,
              "#f0f921"
             ]
            ],
            "type": "contour"
           }
          ],
          "contourcarpet": [
           {
            "colorbar": {
             "outlinewidth": 0,
             "ticks": ""
            },
            "type": "contourcarpet"
           }
          ],
          "heatmap": [
           {
            "colorbar": {
             "outlinewidth": 0,
             "ticks": ""
            },
            "colorscale": [
             [
              0,
              "#0d0887"
             ],
             [
              0.1111111111111111,
              "#46039f"
             ],
             [
              0.2222222222222222,
              "#7201a8"
             ],
             [
              0.3333333333333333,
              "#9c179e"
             ],
             [
              0.4444444444444444,
              "#bd3786"
             ],
             [
              0.5555555555555556,
              "#d8576b"
             ],
             [
              0.6666666666666666,
              "#ed7953"
             ],
             [
              0.7777777777777778,
              "#fb9f3a"
             ],
             [
              0.8888888888888888,
              "#fdca26"
             ],
             [
              1,
              "#f0f921"
             ]
            ],
            "type": "heatmap"
           }
          ],
          "heatmapgl": [
           {
            "colorbar": {
             "outlinewidth": 0,
             "ticks": ""
            },
            "colorscale": [
             [
              0,
              "#0d0887"
             ],
             [
              0.1111111111111111,
              "#46039f"
             ],
             [
              0.2222222222222222,
              "#7201a8"
             ],
             [
              0.3333333333333333,
              "#9c179e"
             ],
             [
              0.4444444444444444,
              "#bd3786"
             ],
             [
              0.5555555555555556,
              "#d8576b"
             ],
             [
              0.6666666666666666,
              "#ed7953"
             ],
             [
              0.7777777777777778,
              "#fb9f3a"
             ],
             [
              0.8888888888888888,
              "#fdca26"
             ],
             [
              1,
              "#f0f921"
             ]
            ],
            "type": "heatmapgl"
           }
          ],
          "histogram": [
           {
            "marker": {
             "pattern": {
              "fillmode": "overlay",
              "size": 10,
              "solidity": 0.2
             }
            },
            "type": "histogram"
           }
          ],
          "histogram2d": [
           {
            "colorbar": {
             "outlinewidth": 0,
             "ticks": ""
            },
            "colorscale": [
             [
              0,
              "#0d0887"
             ],
             [
              0.1111111111111111,
              "#46039f"
             ],
             [
              0.2222222222222222,
              "#7201a8"
             ],
             [
              0.3333333333333333,
              "#9c179e"
             ],
             [
              0.4444444444444444,
              "#bd3786"
             ],
             [
              0.5555555555555556,
              "#d8576b"
             ],
             [
              0.6666666666666666,
              "#ed7953"
             ],
             [
              0.7777777777777778,
              "#fb9f3a"
             ],
             [
              0.8888888888888888,
              "#fdca26"
             ],
             [
              1,
              "#f0f921"
             ]
            ],
            "type": "histogram2d"
           }
          ],
          "histogram2dcontour": [
           {
            "colorbar": {
             "outlinewidth": 0,
             "ticks": ""
            },
            "colorscale": [
             [
              0,
              "#0d0887"
             ],
             [
              0.1111111111111111,
              "#46039f"
             ],
             [
              0.2222222222222222,
              "#7201a8"
             ],
             [
              0.3333333333333333,
              "#9c179e"
             ],
             [
              0.4444444444444444,
              "#bd3786"
             ],
             [
              0.5555555555555556,
              "#d8576b"
             ],
             [
              0.6666666666666666,
              "#ed7953"
             ],
             [
              0.7777777777777778,
              "#fb9f3a"
             ],
             [
              0.8888888888888888,
              "#fdca26"
             ],
             [
              1,
              "#f0f921"
             ]
            ],
            "type": "histogram2dcontour"
           }
          ],
          "mesh3d": [
           {
            "colorbar": {
             "outlinewidth": 0,
             "ticks": ""
            },
            "type": "mesh3d"
           }
          ],
          "parcoords": [
           {
            "line": {
             "colorbar": {
              "outlinewidth": 0,
              "ticks": ""
             }
            },
            "type": "parcoords"
           }
          ],
          "pie": [
           {
            "automargin": true,
            "type": "pie"
           }
          ],
          "scatter": [
           {
            "fillpattern": {
             "fillmode": "overlay",
             "size": 10,
             "solidity": 0.2
            },
            "type": "scatter"
           }
          ],
          "scatter3d": [
           {
            "line": {
             "colorbar": {
              "outlinewidth": 0,
              "ticks": ""
             }
            },
            "marker": {
             "colorbar": {
              "outlinewidth": 0,
              "ticks": ""
             }
            },
            "type": "scatter3d"
           }
          ],
          "scattercarpet": [
           {
            "marker": {
             "colorbar": {
              "outlinewidth": 0,
              "ticks": ""
             }
            },
            "type": "scattercarpet"
           }
          ],
          "scattergeo": [
           {
            "marker": {
             "colorbar": {
              "outlinewidth": 0,
              "ticks": ""
             }
            },
            "type": "scattergeo"
           }
          ],
          "scattergl": [
           {
            "marker": {
             "colorbar": {
              "outlinewidth": 0,
              "ticks": ""
             }
            },
            "type": "scattergl"
           }
          ],
          "scattermapbox": [
           {
            "marker": {
             "colorbar": {
              "outlinewidth": 0,
              "ticks": ""
             }
            },
            "type": "scattermapbox"
           }
          ],
          "scatterpolar": [
           {
            "marker": {
             "colorbar": {
              "outlinewidth": 0,
              "ticks": ""
             }
            },
            "type": "scatterpolar"
           }
          ],
          "scatterpolargl": [
           {
            "marker": {
             "colorbar": {
              "outlinewidth": 0,
              "ticks": ""
             }
            },
            "type": "scatterpolargl"
           }
          ],
          "scatterternary": [
           {
            "marker": {
             "colorbar": {
              "outlinewidth": 0,
              "ticks": ""
             }
            },
            "type": "scatterternary"
           }
          ],
          "surface": [
           {
            "colorbar": {
             "outlinewidth": 0,
             "ticks": ""
            },
            "colorscale": [
             [
              0,
              "#0d0887"
             ],
             [
              0.1111111111111111,
              "#46039f"
             ],
             [
              0.2222222222222222,
              "#7201a8"
             ],
             [
              0.3333333333333333,
              "#9c179e"
             ],
             [
              0.4444444444444444,
              "#bd3786"
             ],
             [
              0.5555555555555556,
              "#d8576b"
             ],
             [
              0.6666666666666666,
              "#ed7953"
             ],
             [
              0.7777777777777778,
              "#fb9f3a"
             ],
             [
              0.8888888888888888,
              "#fdca26"
             ],
             [
              1,
              "#f0f921"
             ]
            ],
            "type": "surface"
           }
          ],
          "table": [
           {
            "cells": {
             "fill": {
              "color": "#EBF0F8"
             },
             "line": {
              "color": "white"
             }
            },
            "header": {
             "fill": {
              "color": "#C8D4E3"
             },
             "line": {
              "color": "white"
             }
            },
            "type": "table"
           }
          ]
         },
         "layout": {
          "annotationdefaults": {
           "arrowcolor": "#2a3f5f",
           "arrowhead": 0,
           "arrowwidth": 1
          },
          "autotypenumbers": "strict",
          "coloraxis": {
           "colorbar": {
            "outlinewidth": 0,
            "ticks": ""
           }
          },
          "colorscale": {
           "diverging": [
            [
             0,
             "#8e0152"
            ],
            [
             0.1,
             "#c51b7d"
            ],
            [
             0.2,
             "#de77ae"
            ],
            [
             0.3,
             "#f1b6da"
            ],
            [
             0.4,
             "#fde0ef"
            ],
            [
             0.5,
             "#f7f7f7"
            ],
            [
             0.6,
             "#e6f5d0"
            ],
            [
             0.7,
             "#b8e186"
            ],
            [
             0.8,
             "#7fbc41"
            ],
            [
             0.9,
             "#4d9221"
            ],
            [
             1,
             "#276419"
            ]
           ],
           "sequential": [
            [
             0,
             "#0d0887"
            ],
            [
             0.1111111111111111,
             "#46039f"
            ],
            [
             0.2222222222222222,
             "#7201a8"
            ],
            [
             0.3333333333333333,
             "#9c179e"
            ],
            [
             0.4444444444444444,
             "#bd3786"
            ],
            [
             0.5555555555555556,
             "#d8576b"
            ],
            [
             0.6666666666666666,
             "#ed7953"
            ],
            [
             0.7777777777777778,
             "#fb9f3a"
            ],
            [
             0.8888888888888888,
             "#fdca26"
            ],
            [
             1,
             "#f0f921"
            ]
           ],
           "sequentialminus": [
            [
             0,
             "#0d0887"
            ],
            [
             0.1111111111111111,
             "#46039f"
            ],
            [
             0.2222222222222222,
             "#7201a8"
            ],
            [
             0.3333333333333333,
             "#9c179e"
            ],
            [
             0.4444444444444444,
             "#bd3786"
            ],
            [
             0.5555555555555556,
             "#d8576b"
            ],
            [
             0.6666666666666666,
             "#ed7953"
            ],
            [
             0.7777777777777778,
             "#fb9f3a"
            ],
            [
             0.8888888888888888,
             "#fdca26"
            ],
            [
             1,
             "#f0f921"
            ]
           ]
          },
          "colorway": [
           "#636efa",
           "#EF553B",
           "#00cc96",
           "#ab63fa",
           "#FFA15A",
           "#19d3f3",
           "#FF6692",
           "#B6E880",
           "#FF97FF",
           "#FECB52"
          ],
          "font": {
           "color": "#2a3f5f"
          },
          "geo": {
           "bgcolor": "white",
           "lakecolor": "white",
           "landcolor": "#E5ECF6",
           "showlakes": true,
           "showland": true,
           "subunitcolor": "white"
          },
          "hoverlabel": {
           "align": "left"
          },
          "hovermode": "closest",
          "mapbox": {
           "style": "light"
          },
          "paper_bgcolor": "white",
          "plot_bgcolor": "#E5ECF6",
          "polar": {
           "angularaxis": {
            "gridcolor": "white",
            "linecolor": "white",
            "ticks": ""
           },
           "bgcolor": "#E5ECF6",
           "radialaxis": {
            "gridcolor": "white",
            "linecolor": "white",
            "ticks": ""
           }
          },
          "scene": {
           "xaxis": {
            "backgroundcolor": "#E5ECF6",
            "gridcolor": "white",
            "gridwidth": 2,
            "linecolor": "white",
            "showbackground": true,
            "ticks": "",
            "zerolinecolor": "white"
           },
           "yaxis": {
            "backgroundcolor": "#E5ECF6",
            "gridcolor": "white",
            "gridwidth": 2,
            "linecolor": "white",
            "showbackground": true,
            "ticks": "",
            "zerolinecolor": "white"
           },
           "zaxis": {
            "backgroundcolor": "#E5ECF6",
            "gridcolor": "white",
            "gridwidth": 2,
            "linecolor": "white",
            "showbackground": true,
            "ticks": "",
            "zerolinecolor": "white"
           }
          },
          "shapedefaults": {
           "line": {
            "color": "#2a3f5f"
           }
          },
          "ternary": {
           "aaxis": {
            "gridcolor": "white",
            "linecolor": "white",
            "ticks": ""
           },
           "baxis": {
            "gridcolor": "white",
            "linecolor": "white",
            "ticks": ""
           },
           "bgcolor": "#E5ECF6",
           "caxis": {
            "gridcolor": "white",
            "linecolor": "white",
            "ticks": ""
           }
          },
          "title": {
           "x": 0.05
          },
          "xaxis": {
           "automargin": true,
           "gridcolor": "white",
           "linecolor": "white",
           "ticks": "",
           "title": {
            "standoff": 15
           },
           "zerolinecolor": "white",
           "zerolinewidth": 2
          },
          "yaxis": {
           "automargin": true,
           "gridcolor": "white",
           "linecolor": "white",
           "ticks": "",
           "title": {
            "standoff": 15
           },
           "zerolinecolor": "white",
           "zerolinewidth": 2
          }
         }
        },
        "title": {
         "text": "Oyster Happy Hour Saturday"
        },
        "xaxis": {
         "rangeselector": {
          "buttons": [
           {
            "count": 7,
            "label": "1w",
            "step": "day",
            "stepmode": "backward"
           },
           {
            "count": 1,
            "label": "1m",
            "step": "month",
            "stepmode": "backward"
           },
           {
            "count": 6,
            "label": "6m",
            "step": "month",
            "stepmode": "backward"
           },
           {
            "count": 1,
            "label": "YTD",
            "step": "year",
            "stepmode": "todate"
           },
           {
            "count": 1,
            "label": "1y",
            "step": "year",
            "stepmode": "backward"
           },
           {
            "step": "all"
           }
          ]
         },
         "showgrid": true,
         "type": "date",
         "zeroline": false
        },
        "yaxis": {
         "autorange": false,
         "range": [
          -1,
          2
         ],
         "showgrid": true,
         "ticktext": [
          "Heritage Restaurant & Caviar Bar"
         ],
         "tickvals": [
          0
         ],
         "zeroline": false
        }
       }
      }
     },
     "metadata": {},
     "output_type": "display_data"
    },
    {
     "data": {
      "application/vnd.plotly.v1+json": {
       "config": {
        "plotlyServerURL": "https://plot.ly"
       },
       "data": [
        {
         "fill": "toself",
         "fillcolor": "rgb(81, 214, 35)",
         "hoverinfo": "name",
         "legendgroup": "rgb(81, 214, 35)",
         "mode": "none",
         "name": "Heritage Restaurant & Caviar Bar",
         "type": "scatter",
         "x": [
          "2020-01-01T16:00:00",
          "2020-01-01T18:00:00",
          "2020-01-01T18:00:00",
          "2020-01-01T16:00:00"
         ],
         "y": [
          0.8,
          0.8,
          1.2,
          1.2
         ]
        },
        {
         "fill": "toself",
         "fillcolor": "rgb(9, 38, 59)",
         "hoverinfo": "name",
         "legendgroup": "rgb(9, 38, 59)",
         "mode": "none",
         "name": "Queen Mary",
         "type": "scatter",
         "x": [
          "2020-01-01T15:00:00",
          "2020-01-01T19:00:00",
          "2020-01-01T19:00:00",
          "2020-01-01T15:00:00"
         ],
         "y": [
          -0.2,
          -0.2,
          0.2,
          0.2
         ]
        },
        {
         "legendgroup": "rgb(81, 214, 35)",
         "marker": {
          "color": "rgb(81, 214, 35)",
          "opacity": 0,
          "size": 1
         },
         "mode": "markers",
         "name": "",
         "showlegend": false,
         "text": [
          null,
          null
         ],
         "type": "scatter",
         "x": [
          "2020-01-01T16:00:00",
          "2020-01-01T18:00:00"
         ],
         "y": [
          1,
          1
         ]
        },
        {
         "legendgroup": "rgb(9, 38, 59)",
         "marker": {
          "color": "rgb(9, 38, 59)",
          "opacity": 0,
          "size": 1
         },
         "mode": "markers",
         "name": "",
         "showlegend": false,
         "text": [
          null,
          null
         ],
         "type": "scatter",
         "x": [
          "2020-01-01T15:00:00",
          "2020-01-01T19:00:00"
         ],
         "y": [
          0,
          0
         ]
        }
       ],
       "layout": {
        "height": 600,
        "hovermode": "closest",
        "showlegend": false,
        "template": {
         "data": {
          "bar": [
           {
            "error_x": {
             "color": "#2a3f5f"
            },
            "error_y": {
             "color": "#2a3f5f"
            },
            "marker": {
             "line": {
              "color": "#E5ECF6",
              "width": 0.5
             },
             "pattern": {
              "fillmode": "overlay",
              "size": 10,
              "solidity": 0.2
             }
            },
            "type": "bar"
           }
          ],
          "barpolar": [
           {
            "marker": {
             "line": {
              "color": "#E5ECF6",
              "width": 0.5
             },
             "pattern": {
              "fillmode": "overlay",
              "size": 10,
              "solidity": 0.2
             }
            },
            "type": "barpolar"
           }
          ],
          "carpet": [
           {
            "aaxis": {
             "endlinecolor": "#2a3f5f",
             "gridcolor": "white",
             "linecolor": "white",
             "minorgridcolor": "white",
             "startlinecolor": "#2a3f5f"
            },
            "baxis": {
             "endlinecolor": "#2a3f5f",
             "gridcolor": "white",
             "linecolor": "white",
             "minorgridcolor": "white",
             "startlinecolor": "#2a3f5f"
            },
            "type": "carpet"
           }
          ],
          "choropleth": [
           {
            "colorbar": {
             "outlinewidth": 0,
             "ticks": ""
            },
            "type": "choropleth"
           }
          ],
          "contour": [
           {
            "colorbar": {
             "outlinewidth": 0,
             "ticks": ""
            },
            "colorscale": [
             [
              0,
              "#0d0887"
             ],
             [
              0.1111111111111111,
              "#46039f"
             ],
             [
              0.2222222222222222,
              "#7201a8"
             ],
             [
              0.3333333333333333,
              "#9c179e"
             ],
             [
              0.4444444444444444,
              "#bd3786"
             ],
             [
              0.5555555555555556,
              "#d8576b"
             ],
             [
              0.6666666666666666,
              "#ed7953"
             ],
             [
              0.7777777777777778,
              "#fb9f3a"
             ],
             [
              0.8888888888888888,
              "#fdca26"
             ],
             [
              1,
              "#f0f921"
             ]
            ],
            "type": "contour"
           }
          ],
          "contourcarpet": [
           {
            "colorbar": {
             "outlinewidth": 0,
             "ticks": ""
            },
            "type": "contourcarpet"
           }
          ],
          "heatmap": [
           {
            "colorbar": {
             "outlinewidth": 0,
             "ticks": ""
            },
            "colorscale": [
             [
              0,
              "#0d0887"
             ],
             [
              0.1111111111111111,
              "#46039f"
             ],
             [
              0.2222222222222222,
              "#7201a8"
             ],
             [
              0.3333333333333333,
              "#9c179e"
             ],
             [
              0.4444444444444444,
              "#bd3786"
             ],
             [
              0.5555555555555556,
              "#d8576b"
             ],
             [
              0.6666666666666666,
              "#ed7953"
             ],
             [
              0.7777777777777778,
              "#fb9f3a"
             ],
             [
              0.8888888888888888,
              "#fdca26"
             ],
             [
              1,
              "#f0f921"
             ]
            ],
            "type": "heatmap"
           }
          ],
          "heatmapgl": [
           {
            "colorbar": {
             "outlinewidth": 0,
             "ticks": ""
            },
            "colorscale": [
             [
              0,
              "#0d0887"
             ],
             [
              0.1111111111111111,
              "#46039f"
             ],
             [
              0.2222222222222222,
              "#7201a8"
             ],
             [
              0.3333333333333333,
              "#9c179e"
             ],
             [
              0.4444444444444444,
              "#bd3786"
             ],
             [
              0.5555555555555556,
              "#d8576b"
             ],
             [
              0.6666666666666666,
              "#ed7953"
             ],
             [
              0.7777777777777778,
              "#fb9f3a"
             ],
             [
              0.8888888888888888,
              "#fdca26"
             ],
             [
              1,
              "#f0f921"
             ]
            ],
            "type": "heatmapgl"
           }
          ],
          "histogram": [
           {
            "marker": {
             "pattern": {
              "fillmode": "overlay",
              "size": 10,
              "solidity": 0.2
             }
            },
            "type": "histogram"
           }
          ],
          "histogram2d": [
           {
            "colorbar": {
             "outlinewidth": 0,
             "ticks": ""
            },
            "colorscale": [
             [
              0,
              "#0d0887"
             ],
             [
              0.1111111111111111,
              "#46039f"
             ],
             [
              0.2222222222222222,
              "#7201a8"
             ],
             [
              0.3333333333333333,
              "#9c179e"
             ],
             [
              0.4444444444444444,
              "#bd3786"
             ],
             [
              0.5555555555555556,
              "#d8576b"
             ],
             [
              0.6666666666666666,
              "#ed7953"
             ],
             [
              0.7777777777777778,
              "#fb9f3a"
             ],
             [
              0.8888888888888888,
              "#fdca26"
             ],
             [
              1,
              "#f0f921"
             ]
            ],
            "type": "histogram2d"
           }
          ],
          "histogram2dcontour": [
           {
            "colorbar": {
             "outlinewidth": 0,
             "ticks": ""
            },
            "colorscale": [
             [
              0,
              "#0d0887"
             ],
             [
              0.1111111111111111,
              "#46039f"
             ],
             [
              0.2222222222222222,
              "#7201a8"
             ],
             [
              0.3333333333333333,
              "#9c179e"
             ],
             [
              0.4444444444444444,
              "#bd3786"
             ],
             [
              0.5555555555555556,
              "#d8576b"
             ],
             [
              0.6666666666666666,
              "#ed7953"
             ],
             [
              0.7777777777777778,
              "#fb9f3a"
             ],
             [
              0.8888888888888888,
              "#fdca26"
             ],
             [
              1,
              "#f0f921"
             ]
            ],
            "type": "histogram2dcontour"
           }
          ],
          "mesh3d": [
           {
            "colorbar": {
             "outlinewidth": 0,
             "ticks": ""
            },
            "type": "mesh3d"
           }
          ],
          "parcoords": [
           {
            "line": {
             "colorbar": {
              "outlinewidth": 0,
              "ticks": ""
             }
            },
            "type": "parcoords"
           }
          ],
          "pie": [
           {
            "automargin": true,
            "type": "pie"
           }
          ],
          "scatter": [
           {
            "fillpattern": {
             "fillmode": "overlay",
             "size": 10,
             "solidity": 0.2
            },
            "type": "scatter"
           }
          ],
          "scatter3d": [
           {
            "line": {
             "colorbar": {
              "outlinewidth": 0,
              "ticks": ""
             }
            },
            "marker": {
             "colorbar": {
              "outlinewidth": 0,
              "ticks": ""
             }
            },
            "type": "scatter3d"
           }
          ],
          "scattercarpet": [
           {
            "marker": {
             "colorbar": {
              "outlinewidth": 0,
              "ticks": ""
             }
            },
            "type": "scattercarpet"
           }
          ],
          "scattergeo": [
           {
            "marker": {
             "colorbar": {
              "outlinewidth": 0,
              "ticks": ""
             }
            },
            "type": "scattergeo"
           }
          ],
          "scattergl": [
           {
            "marker": {
             "colorbar": {
              "outlinewidth": 0,
              "ticks": ""
             }
            },
            "type": "scattergl"
           }
          ],
          "scattermapbox": [
           {
            "marker": {
             "colorbar": {
              "outlinewidth": 0,
              "ticks": ""
             }
            },
            "type": "scattermapbox"
           }
          ],
          "scatterpolar": [
           {
            "marker": {
             "colorbar": {
              "outlinewidth": 0,
              "ticks": ""
             }
            },
            "type": "scatterpolar"
           }
          ],
          "scatterpolargl": [
           {
            "marker": {
             "colorbar": {
              "outlinewidth": 0,
              "ticks": ""
             }
            },
            "type": "scatterpolargl"
           }
          ],
          "scatterternary": [
           {
            "marker": {
             "colorbar": {
              "outlinewidth": 0,
              "ticks": ""
             }
            },
            "type": "scatterternary"
           }
          ],
          "surface": [
           {
            "colorbar": {
             "outlinewidth": 0,
             "ticks": ""
            },
            "colorscale": [
             [
              0,
              "#0d0887"
             ],
             [
              0.1111111111111111,
              "#46039f"
             ],
             [
              0.2222222222222222,
              "#7201a8"
             ],
             [
              0.3333333333333333,
              "#9c179e"
             ],
             [
              0.4444444444444444,
              "#bd3786"
             ],
             [
              0.5555555555555556,
              "#d8576b"
             ],
             [
              0.6666666666666666,
              "#ed7953"
             ],
             [
              0.7777777777777778,
              "#fb9f3a"
             ],
             [
              0.8888888888888888,
              "#fdca26"
             ],
             [
              1,
              "#f0f921"
             ]
            ],
            "type": "surface"
           }
          ],
          "table": [
           {
            "cells": {
             "fill": {
              "color": "#EBF0F8"
             },
             "line": {
              "color": "white"
             }
            },
            "header": {
             "fill": {
              "color": "#C8D4E3"
             },
             "line": {
              "color": "white"
             }
            },
            "type": "table"
           }
          ]
         },
         "layout": {
          "annotationdefaults": {
           "arrowcolor": "#2a3f5f",
           "arrowhead": 0,
           "arrowwidth": 1
          },
          "autotypenumbers": "strict",
          "coloraxis": {
           "colorbar": {
            "outlinewidth": 0,
            "ticks": ""
           }
          },
          "colorscale": {
           "diverging": [
            [
             0,
             "#8e0152"
            ],
            [
             0.1,
             "#c51b7d"
            ],
            [
             0.2,
             "#de77ae"
            ],
            [
             0.3,
             "#f1b6da"
            ],
            [
             0.4,
             "#fde0ef"
            ],
            [
             0.5,
             "#f7f7f7"
            ],
            [
             0.6,
             "#e6f5d0"
            ],
            [
             0.7,
             "#b8e186"
            ],
            [
             0.8,
             "#7fbc41"
            ],
            [
             0.9,
             "#4d9221"
            ],
            [
             1,
             "#276419"
            ]
           ],
           "sequential": [
            [
             0,
             "#0d0887"
            ],
            [
             0.1111111111111111,
             "#46039f"
            ],
            [
             0.2222222222222222,
             "#7201a8"
            ],
            [
             0.3333333333333333,
             "#9c179e"
            ],
            [
             0.4444444444444444,
             "#bd3786"
            ],
            [
             0.5555555555555556,
             "#d8576b"
            ],
            [
             0.6666666666666666,
             "#ed7953"
            ],
            [
             0.7777777777777778,
             "#fb9f3a"
            ],
            [
             0.8888888888888888,
             "#fdca26"
            ],
            [
             1,
             "#f0f921"
            ]
           ],
           "sequentialminus": [
            [
             0,
             "#0d0887"
            ],
            [
             0.1111111111111111,
             "#46039f"
            ],
            [
             0.2222222222222222,
             "#7201a8"
            ],
            [
             0.3333333333333333,
             "#9c179e"
            ],
            [
             0.4444444444444444,
             "#bd3786"
            ],
            [
             0.5555555555555556,
             "#d8576b"
            ],
            [
             0.6666666666666666,
             "#ed7953"
            ],
            [
             0.7777777777777778,
             "#fb9f3a"
            ],
            [
             0.8888888888888888,
             "#fdca26"
            ],
            [
             1,
             "#f0f921"
            ]
           ]
          },
          "colorway": [
           "#636efa",
           "#EF553B",
           "#00cc96",
           "#ab63fa",
           "#FFA15A",
           "#19d3f3",
           "#FF6692",
           "#B6E880",
           "#FF97FF",
           "#FECB52"
          ],
          "font": {
           "color": "#2a3f5f"
          },
          "geo": {
           "bgcolor": "white",
           "lakecolor": "white",
           "landcolor": "#E5ECF6",
           "showlakes": true,
           "showland": true,
           "subunitcolor": "white"
          },
          "hoverlabel": {
           "align": "left"
          },
          "hovermode": "closest",
          "mapbox": {
           "style": "light"
          },
          "paper_bgcolor": "white",
          "plot_bgcolor": "#E5ECF6",
          "polar": {
           "angularaxis": {
            "gridcolor": "white",
            "linecolor": "white",
            "ticks": ""
           },
           "bgcolor": "#E5ECF6",
           "radialaxis": {
            "gridcolor": "white",
            "linecolor": "white",
            "ticks": ""
           }
          },
          "scene": {
           "xaxis": {
            "backgroundcolor": "#E5ECF6",
            "gridcolor": "white",
            "gridwidth": 2,
            "linecolor": "white",
            "showbackground": true,
            "ticks": "",
            "zerolinecolor": "white"
           },
           "yaxis": {
            "backgroundcolor": "#E5ECF6",
            "gridcolor": "white",
            "gridwidth": 2,
            "linecolor": "white",
            "showbackground": true,
            "ticks": "",
            "zerolinecolor": "white"
           },
           "zaxis": {
            "backgroundcolor": "#E5ECF6",
            "gridcolor": "white",
            "gridwidth": 2,
            "linecolor": "white",
            "showbackground": true,
            "ticks": "",
            "zerolinecolor": "white"
           }
          },
          "shapedefaults": {
           "line": {
            "color": "#2a3f5f"
           }
          },
          "ternary": {
           "aaxis": {
            "gridcolor": "white",
            "linecolor": "white",
            "ticks": ""
           },
           "baxis": {
            "gridcolor": "white",
            "linecolor": "white",
            "ticks": ""
           },
           "bgcolor": "#E5ECF6",
           "caxis": {
            "gridcolor": "white",
            "linecolor": "white",
            "ticks": ""
           }
          },
          "title": {
           "x": 0.05
          },
          "xaxis": {
           "automargin": true,
           "gridcolor": "white",
           "linecolor": "white",
           "ticks": "",
           "title": {
            "standoff": 15
           },
           "zerolinecolor": "white",
           "zerolinewidth": 2
          },
          "yaxis": {
           "automargin": true,
           "gridcolor": "white",
           "linecolor": "white",
           "ticks": "",
           "title": {
            "standoff": 15
           },
           "zerolinecolor": "white",
           "zerolinewidth": 2
          }
         }
        },
        "title": {
         "text": "Oyster Happy Hour Sunday"
        },
        "xaxis": {
         "rangeselector": {
          "buttons": [
           {
            "count": 7,
            "label": "1w",
            "step": "day",
            "stepmode": "backward"
           },
           {
            "count": 1,
            "label": "1m",
            "step": "month",
            "stepmode": "backward"
           },
           {
            "count": 6,
            "label": "6m",
            "step": "month",
            "stepmode": "backward"
           },
           {
            "count": 1,
            "label": "YTD",
            "step": "year",
            "stepmode": "todate"
           },
           {
            "count": 1,
            "label": "1y",
            "step": "year",
            "stepmode": "backward"
           },
           {
            "step": "all"
           }
          ]
         },
         "showgrid": true,
         "type": "date",
         "zeroline": false
        },
        "yaxis": {
         "autorange": false,
         "range": [
          -1,
          3
         ],
         "showgrid": true,
         "ticktext": [
          "Queen Mary",
          "Heritage Restaurant & Caviar Bar"
         ],
         "tickvals": [
          0,
          1
         ],
         "zeroline": false
        }
       }
      }
     },
     "metadata": {},
     "output_type": "display_data"
    }
   ],
   "source": [
    "for day in ['Monday', 'Tuesday', 'Wednesday', 'Thursday', 'Friday', 'Saturday', 'Sunday']:\n",
    "    draw_gantt_day(df_inters, day)\n"
   ]
  },
  {
   "cell_type": "code",
   "execution_count": null,
   "metadata": {},
   "outputs": [],
   "source": []
  }
 ],
 "metadata": {
  "interpreter": {
   "hash": "aee8b7b246df8f9039afb4144a1f6fd8d2ca17a180786b69acc140d282b71a49"
  },
  "kernelspec": {
   "display_name": "Python 3.9.1 64-bit",
   "language": "python",
   "name": "python3"
  },
  "language_info": {
   "codemirror_mode": {
    "name": "ipython",
    "version": 3
   },
   "file_extension": ".py",
   "mimetype": "text/x-python",
   "name": "python",
   "nbconvert_exporter": "python",
   "pygments_lexer": "ipython3",
   "version": "3.9.5"
  },
  "orig_nbformat": 4
 },
 "nbformat": 4,
 "nbformat_minor": 2
}
